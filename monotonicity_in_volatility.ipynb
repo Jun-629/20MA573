{
  "nbformat": 4,
  "nbformat_minor": 0,
  "metadata": {
    "colab": {
      "name": "monotonicity in volatility.ipynb",
      "provenance": [],
      "authorship_tag": "ABX9TyMfelqL6wh8WqC5vOmcul/u",
      "include_colab_link": true
    },
    "kernelspec": {
      "name": "python3",
      "display_name": "Python 3"
    }
  },
  "cells": [
    {
      "cell_type": "markdown",
      "metadata": {
        "id": "view-in-github",
        "colab_type": "text"
      },
      "source": [
        "<a href=\"https://colab.research.google.com/github/Jun-629/20MA573/blob/master/monotonicity_in_volatility.ipynb\" target=\"_parent\"><img src=\"https://colab.research.google.com/assets/colab-badge.svg\" alt=\"Open In Colab\"/></a>"
      ]
    },
    {
      "cell_type": "markdown",
      "metadata": {
        "id": "yqtf9FmCMmuJ",
        "colab_type": "text"
      },
      "source": [
        "- Suppose $f$ is convex and $X$ is submartingale, prove that \n",
        "$g(t) = \\mathbb E[f(X_t)]$ is increasing.\n",
        " \n",
        "__Pf:__"
      ]
    }
  ]
}