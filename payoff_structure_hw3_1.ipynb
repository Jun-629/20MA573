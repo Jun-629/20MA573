{
  "nbformat": 4,
  "nbformat_minor": 0,
  "metadata": {
    "colab": {
      "name": "payoff structure of option combinations.ipynb",
      "provenance": [],
      "authorship_tag": "ABX9TyPAnsmy75evbSEALFQ84ZOv",
      "include_colab_link": true
    },
    "kernelspec": {
      "name": "python3",
      "display_name": "Python 3"
    }
  },
  "cells": [
    {
      "cell_type": "markdown",
      "metadata": {
        "id": "view-in-github",
        "colab_type": "text"
      },
      "source": [
        "<a href=\"https://colab.research.google.com/github/Jun-629/20MA573/blob/master/payoff_structure_hw3_1.ipynb\" target=\"_parent\"><img src=\"https://colab.research.google.com/assets/colab-badge.svg\" alt=\"Open In Colab\"/></a>"
      ]
    },
    {
      "cell_type": "markdown",
      "metadata": {
        "id": "ZsUeqEubxwTc",
        "colab_type": "text"
      },
      "source": [
        "Recall that,\n",
        "\n",
        "Written K-strike straddle is a portfolio of\n",
        "\n",
        "- selling K-strike call of one unit\n",
        "- selling K-strike put of one unit\n",
        "\n",
        "Butterfly with three stikes $K_1 < K_2 < K_3$ is the portfolio of\n",
        "\n",
        "- 1 unit of written K-strike straddle\n",
        "- 1 unit of purchased K-strike call\n",
        "- 1 unit of purchased K-strike put\n",
        "\n",
        "Plot a diagram of exercise price versus payoff for the following portfolios:\n",
        "\n",
        "- written 40-strike straddle\n",
        "- a butterfly consists of\n",
        "  - written 40-strike straddle\n",
        "  - purchased 45-strike call\n",
        "  - purchased 35-strike put"
      ]
    },
    {
      "cell_type": "markdown",
      "metadata": {
        "id": "x20CidhDzJGH",
        "colab_type": "text"
      },
      "source": [
        "__Soln:__\n",
        "\n",
        "When selling one unit European call with \n",
        "strike $K$ and exercise price $S$, the payoff is given as\n",
        "$$C(S, K)= (K - S)^+ = \\max\\{K - S, 0\\}.$$\n",
        "Similarly, when selling one unit European put with \n",
        "strike $K$ and exercise price $S$, the payoff is given as\n",
        "$$P(S, K)= (K - S)^- = \\max\\{S - K, 0\\}.$$\n",
        "Thus, the payoff of written K-strike straddle is given as\n",
        "\n",
        "\\begin{equation}\n",
        "\\begin{split}\n",
        "V &= C(S, K) + P(S, K) \\\\\n",
        "&= \\max\\{K-S, 0\\} + \\max\\{S-K, 0\\} \\\\\n",
        "&= \\max\\{K-S, S-K\\}.\n",
        "\\end{split}\n",
        "\\end{equation}\n",
        "\n",
        "Assuming that when selling one unit European call and one unit put option, the seller will get \\$ $1$.\n",
        "\n",
        "#https://en.wikipedia.org/wiki/Butterfly_(options)\n"
      ]
    },
    {
      "cell_type": "code",
      "metadata": {
        "id": "04XOrDxq1IIf",
        "colab_type": "code",
        "colab": {}
      },
      "source": [
        "class VanillaOption:\n",
        "    def __init__(\n",
        "        self,\n",
        "        otype = 1, # 1: 'call'\n",
        "                  # -1: 'put'\n",
        "        strike = 40.,\n",
        "        maturity = 1.,\n",
        "        market_price = 10.):\n",
        "      self.otype = otype\n",
        "      self.strike = strike\n",
        "      self.maturity = maturity\n",
        "      self.market_price = market_price #this will be used for calibration\n",
        "      \n",
        "        \n",
        "    def payoff(self, s): #s: excercise price\n",
        "      otype = self.otype\n",
        "      k = self.strike\n",
        "      maturity = self.maturity\n",
        "      return max([0, (k - s)*otype])"
      ],
      "execution_count": 0,
      "outputs": []
    },
    {
      "cell_type": "code",
      "metadata": {
        "id": "njyp81GP1KJQ",
        "colab_type": "code",
        "colab": {
          "base_uri": "https://localhost:8080/",
          "height": 295
        },
        "outputId": "3c2b2c9b-c9c6-4a29-e6c5-c99e4290c4b0"
      },
      "source": [
        "import numpy as np\n",
        "import matplotlib.pyplot as plt\n",
        "\n",
        "opt1 = VanillaOption(otype = 1) \n",
        "opt2 = VanillaOption(otype = -1)\n",
        "stk_list = range(20, 61)\n",
        "#c=[a[i]+b[i] for i in range(min(len(a),len(b)))]\n",
        "payoff_1 = [opt1.payoff(s) for s in stk_list]\n",
        "payoff_2 = [opt2.payoff(s) for s in stk_list] \n",
        "payoff = [payoff_1[i] + payoff_2[i] + 1 for i in range(len(stk_list))]\n",
        "plt.plot(stk_list, payoff)\n",
        "\n",
        "#decorations\n",
        "plt.xlabel('exercise price')\n",
        "plt.ylabel('payoff')\n",
        "plt.title('written 40-strike straddle');\n",
        "plt.show()"
      ],
      "execution_count": 4,
      "outputs": [
        {
          "output_type": "display_data",
          "data": {
            "image/png": "[encoded data removed]",
            "text/plain": [
              "<Figure size 432x288 with 1 Axes>"
            ]
          },
          "metadata": {
            "tags": []
          }
        }
      ]
    }
  ]
}