{
  "nbformat": 4,
  "nbformat_minor": 0,
  "metadata": {
    "colab": {
      "name": "Hw5 Monte Carlo.ipynb",
      "provenance": [],
      "authorship_tag": "ABX9TyMoRNe7Rub5WEfVJAWvQqUb",
      "include_colab_link": true
    },
    "kernelspec": {
      "name": "python3",
      "display_name": "Python 3"
    }
  },
  "cells": [
    {
      "cell_type": "markdown",
      "metadata": {
        "id": "view-in-github",
        "colab_type": "text"
      },
      "source": [
        "<a href=\"https://colab.research.google.com/github/Jun-629/20MA573/blob/master/src%5CHw5_Monte_Carlo.ipynb\" target=\"_parent\"><img src=\"https://colab.research.google.com/assets/colab-badge.svg\" alt=\"Open In Colab\"/></a>"
      ]
    },
    {
      "cell_type": "markdown",
      "metadata": {
        "id": "jq8N_MYe_3FV",
        "colab_type": "text"
      },
      "source": [
        "# Example 1 \n",
        "- Using *Algo 1*, design estimator $\\hat \\pi(N)$ and compute $\\hat \\pi(10000)$"
      ]
    },
    {
      "cell_type": "code",
      "metadata": {
        "id": "CmebCCgQ2TRj",
        "colab_type": "code",
        "outputId": "2842db4a-0e15-4e14-f8b6-d718a0cc66ae",
        "colab": {
          "base_uri": "https://localhost:8080/",
          "height": 34
        }
      },
      "source": [
        "import numpy as np\n",
        "\n",
        "def mcpi(N):\n",
        "  n = 0\n",
        "  for i in range(N):\n",
        "    x = np.random.uniform(-1,1)\n",
        "    y = np.random.uniform(-1,1)\n",
        "    if (x**2 + y**2 < 1):\n",
        "      n += 1\n",
        "  return 4*n/N\n",
        "\n",
        "mcpi(10000)"
      ],
      "execution_count": 0,
      "outputs": [
        {
          "output_type": "execute_result",
          "data": {
            "text/plain": [
              "3.1212"
            ]
          },
          "metadata": {
            "tags": []
          },
          "execution_count": 1
        }
      ]
    },
    {
      "cell_type": "markdown",
      "metadata": {
        "id": "jgO00xcsBWQ3",
        "colab_type": "text"
      },
      "source": [
        "# Example 3\n",
        "Given i.i.d $\\{\\alpha_i : i \\in 1, 2, ..., N\\}$, we use\n",
        "$$\\bar \\alpha_N = \\frac{1}{N} \\sum_{i=1}^N \\alpha_i$$\n",
        "as its estimator of the mean $\\mathbb E[\\alpha_1]$ and use\n",
        "$$\\beta_N = \\frac{1}{N} \\sum_{i=1}^N (\\alpha_i - \\bar \\alpha_N)^2$$\n",
        "as the estimator of $Var(\\alpha_1)$. Suppose $\\alpha_1 \\in L^4$, then \n",
        "- Prove $\\beta_N$ is biased. \n",
        "- Prove that $\\beta_N$ is consistent in $L^2$. \n",
        "- Can you propose an unbiased estimator? \n"
      ]
    },
    {
      "cell_type": "markdown",
      "metadata": {
        "id": "QJRfPPYRHJ9X",
        "colab_type": "text"
      },
      "source": [
        "__Proof:__\n",
        "- To prove $\\beta_N$ is biased, need to show that $\\mathbb E[\\beta_N] - Var(\\alpha_1)$ does not equal to 0.\n",
        "\n",
        "Because $\\{\\alpha_i\\}_{i\\in\\mathbb{N}}$ is i.i.d., we can deduce that \n",
        "\n",
        "\\begin{equation}\n",
        "\\begin{aligned}\n",
        "\\mathbb E[\\bar \\alpha_N] &= \\mathbb E[\\frac{1}{N} \\sum_{i=1}^N \\alpha_i] \\\\\n",
        "&= \\frac{1}{N} \\sum_{i=1}^N \\mathbb E[\\alpha_i] \\\\\n",
        "&= \\frac{1}{N} \\cdot N \\cdot \\mathbb E[\\alpha_1] \\\\\n",
        "&= \\mathbb E[\\alpha_1], \\\\\n",
        "Var(\\bar \\alpha_N) &= Var(\\frac{1}{N} \\sum_{i=1}^N \\alpha_i) \\\\\n",
        "&= \\frac{1}{N^2} \\sum_{i=1}^N Var(\\alpha_i) \\\\\n",
        "&= \\frac{1}{N^2} \\cdot N \\cdot Var(\\alpha_1) \\\\\n",
        "&= \\frac{1}{N} Var(\\alpha_1)\\\\\n",
        "\\mathbb E[\\bar \\alpha_N^2] &= Var(\\bar \\alpha_N) + \\mathbb E[\\bar \\alpha_N]^2 \\\\\n",
        "&= \\frac{1}{N} Var(\\alpha_1) + \\mathbb E[\\alpha_1]^2 \\\\\n",
        "\\mathbb E[\\alpha_1^2] &= \\mathbb E[\\alpha_1]^2 + Var(\\alpha_1)\n",
        "\\end{aligned}\n",
        "\\end{equation}\n",
        "\n",
        "Now observing $Bias(\\beta_N)$, we have \n",
        "\n",
        "\\begin{equation}\n",
        "\\begin{aligned}\n",
        "Bias(\\beta_N) &= \\mathbb E[\\beta_N] - Var(\\alpha_1) \\\\\n",
        "&= \\mathbb E[\\frac{1}{N} \\sum_{i=1}^N (\\alpha_i - \\bar \\alpha_N)^2] - Var(\\alpha_1) \\\\\n",
        "&= \\frac{1}{N} \\mathbb E[\\sum_{i=1}^N (\\alpha_i^2- 2 \\alpha_i \\bar \\alpha_N + \\bar \\alpha_N^2)] - Var(\\alpha_1) \\\\\n",
        "&= \\frac{1}{N} \\mathbb E[\\sum_{i=1}^N \\alpha_i^2 - 2N \\cdot \\bar \\alpha_N^2 + N \\cdot \\bar \\alpha_N^2] - Var(\\alpha_1) \\\\\n",
        "&= \\frac{1}{N} \\sum_{i=1}^N \\mathbb E[\\alpha_i^2] - \\frac{1}{N}\\mathbb E[N \\cdot \\bar \\alpha_N^2] - Var(\\alpha_1) \\\\\n",
        "&= \\mathbb E[\\alpha_1^2] - \\mathbb E[\\bar \\alpha_N^2]- Var(\\alpha_1) \\\\\n",
        "&= - \\frac{1}{N} Var(\\alpha_1) \\neq 0.\\\\\n",
        "\\end{aligned}\n",
        "\\end{equation}\n",
        "\n",
        "Therefore, $\\beta_N$ is biased.\n",
        "\n",
        "- To prove that $\\beta_N$ is consistent in $L^2$, we need to show that $MSE(\\beta_N) \\to 0$, when $N \\to 0$, which means that \n",
        "$$\\mathbb E[(\\beta_N - Var(\\alpha_1))^2] \\to 0.$$\n",
        "Now we observe $\\mathbb E[(\\beta_N - Var(\\alpha_1))^2]$, we have:\n",
        "\n",
        "\\begin{equation}\n",
        "\\begin{split}\n",
        "E[(\\beta_N - Var(\\alpha_1))^2] &= \\mathbb E[\\beta_N^2 - 2\\beta_N Var(\\alpha_1) + Var(\\alpha_1)^2] \\\\\n",
        "&= \\mathbb E[\\beta_N^2] + \\frac{2-N}{N} Var(\\alpha_1)^2 \\\\\n",
        "&= Var(\\beta_N) + \\mathbb E[\\beta_N]^2 + \\frac{2-N}{N} Var(\\alpha_1)^2 \\\\\n",
        "&= Var(\\beta_N) + \\frac{1}{N^2} Var(\\alpha_1)^2 \\\\\n",
        "\\end{split}\n",
        "\\end{equation}\n",
        "\n",
        "Now, we will use $T := \\frac{(n-1)S^2}{\\sigma^2} \\sim \\chi (n-1)$, where $S = \\frac{1}{N-1} \\sum_{i=1}^N (\\alpha_i - \\bar \\alpha_N)^2$ is the sample variance and $Var(\\alpha_1) = \\sigma^2$. Plus, we have $\\mathbb E[T] = n-1, Var(T) = 2(n-1)$.\n",
        "\n",
        "\\begin{equation}\n",
        "\\begin{split}\n",
        "Var(\\beta_N) &= Var(\\frac{N-1}{N} S) \\\\\n",
        "&= \\frac{(N-1)^2}{N^2} Var(S) \\\\\n",
        "&= \\frac{(N-1)^2}{N^2} \\cdot \\frac{2Var(\\alpha_1)^2}{N-1} \\\\\n",
        "&= \\frac{2(N-1)}{N^2} Var(\\alpha_1)^2 \\\\\n",
        "E[(\\beta_N - Var(\\alpha_1))^2] &= \\frac{2(N-1)}{N^2} Var(\\alpha_1)^2 + \\frac{1}{N^2} Var(\\alpha_1)^2 \\\\\n",
        "&= \\frac{2N-1}{N^2} Var(\\alpha_1)^2 \\to 0, N \\to \\infty\\\\\n",
        "\\end{split}\n",
        "\\end{equation}\n",
        "\n",
        "Therefore, $\\beta_N$ is consitent in $L^2$.\n",
        "\n",
        "- The unbiased estimator:\n",
        "$$\\hat \\beta_N = \\frac{1}{N-1} \\sum_{i=1}^N (\\alpha_i - \\bar \\alpha_N)^2$$\n",
        "\n",
        "\\begin{equation}\n",
        "\\begin{aligned}\n",
        "Bias(\\hat \\beta_N) &= \\mathbb E[\\hat \\beta_N] - Var(\\alpha_1) \\\\\n",
        "&= \\frac{1}{N-1} \\sum_{i=1}^N \\mathbb E[\\alpha_i^2] - \\frac{1}{N-1}\\mathbb E[N \\cdot \\bar \\alpha_N^2] - Var(\\alpha_1) \\\\\n",
        "&= \\frac{N}{N-1} \\bigg (\\mathbb E[\\alpha_1^2] - \\mathbb E[\\bar \\alpha_N^2] \\bigg )- Var(\\alpha_1) \\\\\n",
        "&= Var(\\alpha_1) - Var(\\alpha_1) = 0.\\\\\n",
        "\\end{aligned}\n",
        "\\end{equation}\n",
        "which shows that $\\hat \\beta_N$ is unbiased estimator.\n",
        "\n",
        "__Q.E.D.__"
      ]
    },
    {
      "cell_type": "code",
      "metadata": {
        "id": "ER9io7uMmwH1",
        "colab_type": "code",
        "outputId": "b20f81a3-f8e2-4ae8-c051-7d98dc08de72",
        "colab": {
          "base_uri": "https://localhost:8080/",
          "height": 34
        }
      },
      "source": [
        "def beta(N,M):\n",
        "  n = 0\n",
        "  m = 0\n",
        "  pi_list = []\n",
        "  for i in range(N):\n",
        "    pi_list.append(mcpi(M))\n",
        "    n += pi_list[i]\n",
        "  pi_bar = n/N \n",
        "  for i in range(N):\n",
        "    m += (pi_list[i] - pi_bar)**2\n",
        "  beta = m/N\n",
        "  return beta\n",
        "\n",
        "beta(100,10000)"
      ],
      "execution_count": 0,
      "outputs": [
        {
          "output_type": "execute_result",
          "data": {
            "text/plain": [
              "0.00030025286400000054"
            ]
          },
          "metadata": {
            "tags": []
          },
          "execution_count": 4
        }
      ]
    },
    {
      "cell_type": "code",
      "metadata": {
        "id": "ba6x00pPMVTJ",
        "colab_type": "code",
        "outputId": "f9bbdcc0-fbf6-4bfc-e6a8-94ca913ce395",
        "colab": {
          "base_uri": "https://localhost:8080/",
          "height": 303
        }
      },
      "source": [
        "import matplotlib.pyplot as plt\n",
        "\n",
        "y = []\n",
        "for i in range (5,11):\n",
        "  y.append(beta(100,2**i))\n",
        "x = [2**n for n in range(5,11)]\n",
        "print(y)\n",
        "plt.loglog(x,y)"
      ],
      "execution_count": 0,
      "outputs": [
        {
          "output_type": "stream",
          "text": [
            "[0.12044374999999999, 0.032373046875, 0.021884765625000028, 0.009313964843750001, 0.005274023437500005, 0.002276727294921874]\n"
          ],
          "name": "stdout"
        },
        {
          "output_type": "execute_result",
          "data": {
            "text/plain": [
              "[<matplotlib.lines.Line2D at 0x7f43988b7588>]"
            ]
          },
          "metadata": {
            "tags": []
          },
          "execution_count": 6
        },
        {
          "output_type": "display_data",
          "data": {
            "image/png": "[encoded data removed]",
            "text/plain": [
              "<Figure size 432x288 with 1 Axes>"
            ]
          },
          "metadata": {
            "tags": []
          }
        }
      ]
    },
    {
      "cell_type": "code",
      "metadata": {
        "colab_type": "code",
        "id": "NGkQZVsppfx8",
        "colab": {}
      },
      "source": [
        "def indi_func(a,sign1,b,sign2,x):       # sign1 and sign 2 mean whether we can take the endpoint respectively\n",
        "  if (sign1 == 0):                      # 0 means that endpoint is not included\n",
        "    if (sign2 == 0):\n",
        "      if (a<x<b):\n",
        "        f = 1\n",
        "      else:\n",
        "        f = 0\n",
        "    elif (sign2 == 1):                  # 1 means that endpoint is included\n",
        "      if (a<x<=b):\n",
        "        f = 1\n",
        "      else:\n",
        "        f = 0\n",
        "  elif (sign1 == 1):\n",
        "    if (sign2 == 0):\n",
        "      if (a<=x<b):\n",
        "        f = 1\n",
        "      else:\n",
        "        f = 0\n",
        "    elif (sign2 == 1):\n",
        "      if (a<=x<=b):\n",
        "        f = 1\n",
        "      else:\n",
        "        f = 0\n",
        "  return f                              # Actually, there is no need to discuss whether endpoints are included or not\n",
        "                                        # Since P(ept) = 0, x is uniform distribution"
      ],
      "execution_count": 0,
      "outputs": []
    },
    {
      "cell_type": "code",
      "metadata": {
        "id": "oeVE-Iu3jh2R",
        "colab_type": "code",
        "outputId": "604a16c2-ff09-43b5-cd4c-ac7fe5d77ecd",
        "colab": {
          "base_uri": "https://localhost:8080/",
          "height": 34
        }
      },
      "source": [
        "def mcintegral(N):\n",
        "  s = 0\n",
        "  for i in range(N):\n",
        "    y = np.random.uniform(0,1)\n",
        "    h = 100 * indi_func(0,0,0.01,1,y) + indi_func(0.01,0,1,0,y)\n",
        "    s += h \n",
        "  return s/N\n",
        "\n",
        "mcintegral(10000000)"
      ],
      "execution_count": 0,
      "outputs": [
        {
          "output_type": "execute_result",
          "data": {
            "text/plain": [
              "1.9879606"
            ]
          },
          "metadata": {
            "tags": []
          },
          "execution_count": 12
        }
      ]
    },
    {
      "cell_type": "code",
      "metadata": {
        "id": "F2uSlMuLTCkH",
        "colab_type": "code",
        "outputId": "1600ff1b-782e-4218-db7f-fd529ff4a4e4",
        "colab": {
          "base_uri": "https://localhost:8080/",
          "height": 286
        }
      },
      "source": [
        "def beta_prime(N,M):\n",
        "  n = 0\n",
        "  m = 0\n",
        "  pi_list = []\n",
        "  for i in range(N):\n",
        "    pi_list.append(mcintegral(M))\n",
        "    n += pi_list[i]\n",
        "  pi_bar = n/N \n",
        "  for i in range(N):\n",
        "    m += (pi_list[i] - pi_bar)**2\n",
        "  beta_prime = m/N\n",
        "  return beta_prime\n",
        "\n",
        "\n",
        "y = []\n",
        "for i in range (5,11):\n",
        "  y.append(beta_prime(100,2**i))\n",
        "x = [2**n for n in range(5,11)]\n",
        "\n",
        "plt.loglog(x,y)"
      ],
      "execution_count": 0,
      "outputs": [
        {
          "output_type": "execute_result",
          "data": {
            "text/plain": [
              "[<matplotlib.lines.Line2D at 0x7f43987bd240>]"
            ]
          },
          "metadata": {
            "tags": []
          },
          "execution_count": 13
        },
        {
          "output_type": "display_data",
          "data": {
            "image/png": "[encoded data removed]",
            "text/plain": [
              "<Figure size 432x288 with 1 Axes>"
            ]
          },
          "metadata": {
            "tags": []
          }
        }
      ]
    }
  ]
}