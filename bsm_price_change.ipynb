{
  "nbformat": 4,
  "nbformat_minor": 0,
  "metadata": {
    "colab": {
      "name": "bsm price change.ipynb",
      "provenance": [],
      "authorship_tag": "ABX9TyPxvIzxcXbqiJ4tYHcxcSOl",
      "include_colab_link": true
    },
    "kernelspec": {
      "name": "python3",
      "display_name": "Python 3"
    }
  },
  "cells": [
    {
      "cell_type": "markdown",
      "metadata": {
        "id": "view-in-github",
        "colab_type": "text"
      },
      "source": [
        "<a href=\"https://colab.research.google.com/github/Jun-629/20MA573/blob/master/bsm_price_change.ipynb\" target=\"_parent\"><img src=\"https://colab.research.google.com/assets/colab-badge.svg\" alt=\"Open In Colab\"/></a>"
      ]
    },
    {
      "cell_type": "markdown",
      "metadata": {
        "id": "TfXeleoEl_Xa",
        "colab_type": "text"
      },
      "source": [
        "**Consider** an european option with\n",
        "- call type\n",
        "- strike = 110\n",
        "- maturity = T\n",
        "underlying a Gbm stock with\n",
        "- initial: 100\n",
        "- interest rate: 4.75%\n",
        "- vol ratio: $\\sigma$\n",
        "\n",
        "We denote this bsm price by $f(\\sigma, T)$.\n",
        "\n",
        "- Let $\\sigma = 20\\%$ fixed. plot $T \\mapsto f(0.2, T)$ when $T$ is ranging over $(0.5, 2)$.\n",
        "\n",
        "- Let $T = 1$ fixed. plot $\\sigma \\mapsto f(\\sigma, 1)$ when $\\sigma$ is ranging over $(.05, 0.5)$\n",
        "\n",
        "- Describe your observations. Do you think the same behavior is also true for put?\n",
        "\n",
        "- Could you prove your observations?"
      ]
    },
    {
      "cell_type": "code",
      "metadata": {
        "id": "GHhT0WZvowuD",
        "colab_type": "code",
        "colab": {}
      },
      "source": [
        "import scipy.stats as stats\n",
        "\n",
        "class VanillaOption:\n",
        "    def __init__(\n",
        "        self,\n",
        "        otype = 1, # 1: 'call'   -1: 'put'\n",
        "        strike = 110.,\n",
        "        maturity = 1.,\n",
        "        market_price = 10.):\n",
        "      self.otype = otype\n",
        "      self.strike = strike\n",
        "      self.maturity = maturity\n",
        "      self.market_price = market_price\n",
        "\n",
        "class Gbm:\n",
        "    def __init__(self, init_state = 100., drift_ratio = .0475, vol_ratio = .2):\n",
        "        self.init_state = init_state\n",
        "        self.drift_ratio = drift_ratio\n",
        "        self.vol_ratio = vol_ratio\n",
        "\n",
        "def bsm_price(self, vanilla_option):\n",
        "    s0 = self.init_state\n",
        "    sigma = self.vol_ratio\n",
        "    r = self.drift_ratio\n",
        "    \n",
        "    otype = vanilla_option.otype\n",
        "    k = vanilla_option.strike\n",
        "    maturity = vanilla_option.maturity\n",
        "    \n",
        "    d1 = (np.log(s0 / k) + (r + 0.5 * sigma ** 2) * maturity) / (sigma * np.sqrt(maturity))\n",
        "    d2 = d1 - sigma * np.sqrt(maturity)\n",
        "    \n",
        "    return (otype * s0 * stats.norm.cdf(otype * d1) - otype * np.exp(-r * maturity) * k * stats.norm.cdf(otype * d2))\n",
        "\n",
        "Gbm.bsm_price = bsm_price"
      ],
      "execution_count": 0,
      "outputs": []
    },
    {
      "cell_type": "markdown",
      "metadata": {
        "id": "EePe6JgSmCV4",
        "colab_type": "text"
      },
      "source": [
        "**Soln:**\n",
        "- Let $\\sigma = 20\\%$ fixed. plot $T \\mapsto f(0.2, T)$ when $T$ is ranging over $(0.5, 2)$."
      ]
    },
    {
      "cell_type": "code",
      "metadata": {
        "id": "DGAx9frDr0bw",
        "colab_type": "code",
        "colab": {}
      },
      "source": [
        "import numpy as np\n",
        "import matplotlib.pyplot as plt\n",
        "\n",
        "T = np.arange(0.5,2.1,0.1)\n",
        "gbm1 = Gbm()\n",
        "option1 = VanillaOption(otype=1, strike=110, maturity=T)\n",
        "BS_price1 = gbm1.bsm_price(option1)\n",
        "\n",
        "plt.plot(T, BS_price1, label = 'BSM price of f(0.2, T=(0.5,2.0))')\n",
        "plt.legend()"
      ],
      "execution_count": 0,
      "outputs": []
    },
    {
      "cell_type": "markdown",
      "metadata": {
        "colab_type": "text",
        "id": "GkUKQckLv_FJ"
      },
      "source": [
        "- Let $T = 1$ fixed. plot $\\sigma \\mapsto f(\\sigma, 1)$ when $\\sigma$ is ranging over $(.05, 0.5)$"
      ]
    },
    {
      "cell_type": "code",
      "metadata": {
        "id": "9t1O6DGmwAH3",
        "colab_type": "code",
        "colab": {}
      },
      "source": [
        "sigma = np.arange(0.05, 0.53, 0.03)\n",
        "\n",
        "gbm2 = Gbm(100., .0475, sigma)\n",
        "option2 = VanillaOption()\n",
        "BS_price2 = gbm2.bsm_price(option2)\n",
        "\n",
        "plt.plot(sigma, BS_price2, label = 'BSM price of f(σ=(0.05,0.5),1)')\n",
        "plt.legend()"
      ],
      "execution_count": 0,
      "outputs": []
    },
    {
      "cell_type": "markdown",
      "metadata": {
        "id": "p0v1o9_9Bcx2",
        "colab_type": "text"
      },
      "source": [
        "__Observation:__\n",
        "\n",
        "With the increasing of time and $\\sigma$, the bsm price increases.\n",
        "\n",
        "The put option shares the same property as the call option."
      ]
    }
  ]
}