{
  "nbformat": 4,
  "nbformat_minor": 0,
  "metadata": {
    "colab": {
      "name": "Hw10_2.ipynb",
      "provenance": [],
      "authorship_tag": "ABX9TyMpXeUpxbbToT4l3cM5RDH/",
      "include_colab_link": true
    },
    "kernelspec": {
      "name": "python3",
      "display_name": "Python 3"
    }
  },
  "cells": [
    {
      "cell_type": "markdown",
      "metadata": {
        "id": "view-in-github",
        "colab_type": "text"
      },
      "source": [
        "<a href=\"https://colab.research.google.com/github/Jun-629/20MA573/blob/master/src/Hw10_MRP.ipynb\" target=\"_parent\"><img src=\"https://colab.research.google.com/assets/colab-badge.svg\" alt=\"Open In Colab\"/></a>"
      ]
    },
    {
      "cell_type": "markdown",
      "metadata": {
        "id": "FDdUFb5F7xX8",
        "colab_type": "text"
      },
      "source": [
        "Consider 2-d PDE\n",
        "$$\\frac{1}{2} \\Delta v(x) - v(x) + x_{1}^2 + x_{2}^2 - x_{1} - x_{2} - \\frac{3}{2} = 0, x \\in O=(0,1)^2$$\n",
        "with its boundary data\n",
        "$$v(x) = (x_{1} - \\frac{1}{2})^2 + (x_{2} - \\frac{1}{2})^2, x \\notin O.$$\n",
        "The exact solution is \n",
        "$$v(x) = (x_{1} - \\frac{1}{2})^2 + (x_{2} - \\frac{1}{2})^2.$$"
      ]
    },
    {
      "cell_type": "markdown",
      "metadata": {
        "id": "TmCOn7f594Bx",
        "colab_type": "text"
      },
      "source": [
        "- Idendify $\\mathrm{MRP}$ with $\\mathrm{CFD}$ in the form of \n",
        "\n",
        "\\begin{align}\n",
        "v(x) = \\gamma \\{ \\ell ^h (x) + \\sum_{i=1}^{d} p^h (x + he_{i}|x)v(x + he_{i}) + p^h(x-he_{i}|x)v(x - he_{i}) \\} \\tag{1} \\\\\n",
        "\\end{align}\n",
        "\n",
        "__Soln:__\n",
        "\n",
        "First, we change the form of the equation (1):\n",
        "\n",
        "\\begin{align}\n",
        "v(x) = \\gamma \\cdot \\ell ^h (x) + \\gamma \\cdot \\sum_{i=1}^{2} p^h (x + he_{i}|x)v(x + he_{i}) + p^h(x-he_{i}|x)v(x - he_{i}) \\tag{2} \\\\\n",
        "\\end{align}\n",
        "\n",
        "Also, we already calculate that\n",
        "$$\\gamma = \\frac{2}{2+h^{2}}, \\quad \\ell^{h}(x) = \\frac{h^{2}}{2} [(x_{1} - \\frac{1}{2})^{2} + (x_{2} - \\frac{1}{2})^{2} -2], \\quad p^{h}(x\\pm he_{i}|x) = \\frac{1}{4}.$$\n",
        "Then compare (2) to the Bellman Equation:\n",
        "$$v(s) = R(s) + \\gamma \\sum_{s' \\in \\mathcal S} P(s,s')v(s'),$$\n",
        "we can deduce that\n",
        "\n",
        "$$P(s,s') =\n",
        "\\begin{cases} \n",
        "\\frac{1}{4},  & \\mbox{if } ||s'-s||_1 = h \\\\\n",
        "0, & \\mbox{otherwise}\n",
        "\\end{cases}$$\n",
        "\n",
        "and\n",
        "$$ R(s) = \\gamma \\cdot \\ell^h(s) = \\frac{h^2}{2+h^2} [(x_{1} - \\frac{1}{2})^{2} + (x_{2} - \\frac{1}{2})^{2} -2] $$"
      ]
    },
    {
      "cell_type": "markdown",
      "metadata": {
        "id": "ep5-DCHX-qwl",
        "colab_type": "text"
      },
      "source": [
        "- For $h$ = 1/8, compute $\\mathrm{CFD}$ solution by value iteration.\n",
        "- For $h$ = 1/8, compute $\\mathrm{CFD}$ solution by Monte-Carlo method.\n",
        "- For $h$ = 1/8, compute $\\mathrm{CFD}$ solution by $\\mathrm{TD}$ method.\n",
        "- Compare above three methodsand conclude your observations.\n"
      ]
    },
    {
      "cell_type": "code",
      "metadata": {
        "id": "qnlomw8D8fzE",
        "colab_type": "code",
        "colab": {}
      },
      "source": [
        "# Value Iteration\n",
        "\n",
        "import numpy as np\n",
        "\n",
        "def gamma(N):\n",
        "  h = 1/N\n",
        "  gamma_value = 2/(2 + h**2)\n",
        "  return gamma_value\n",
        "def l(N):\n",
        "  h = 1/N\n",
        "  l_h = np.zeros([N+1, N+1])\n",
        "  for i in range(N+1):\n",
        "    for j in range(N+1):\n",
        "      if i == 0 or i == N or j == 0 or j == N:\n",
        "        l_h[i, j] = 0\n",
        "      else:\n",
        "        l_h[i, j] = h**2 / 2 *  ((i/N - 0.5)**2 + (j/N - 0.5)**2 - 2)\n",
        "  return l_h\n",
        "def F(N, u):\n",
        "  h = 1/N\n",
        "  l_h = l(N)\n",
        "  v = np.zeros([N+1, N+1])\n",
        "  for i in range(0, N+1):\n",
        "    for j in range(0, N+1):\n",
        "      if i == 0 or i == N or j == 0 or j == N:\n",
        "        v[i, j] = u[i, j]\n",
        "      else:\n",
        "        v[i, j] = gamma(N) * l_h[i, j] + gamma(N) * (u[i+1, j] + u[i, j+1] + u[i, j-1] + u[i-1, j]) / 4\n",
        "  return v\n",
        "def initial_value(N):\n",
        "  u = np.zeros([N+1, N+1])\n",
        "  for i in range(0, N+1):\n",
        "    for j in range(0, N+1):\n",
        "      if i == 0 or i == N or j == 0 or j == N:\n",
        "        u[i, j] = ((i/N - 0.5)**2 + (j/N - 0.5)**2)\n",
        "      else:\n",
        "        u[i, j] = 0\n",
        "  return u\n",
        "def value_iteration(N, error_hat = 0.0001):\n",
        "  v = initial_value(N)\n",
        "  error = 1\n",
        "  step = 0\n",
        "  while error > error_hat:\n",
        "    step +=1\n",
        "    u = v\n",
        "    v = F(N, u)\n",
        "    error = np.max(np.abs(u - v))\n",
        "  return [error, step, v]\n",
        "VI_soln = value_iteration(8)[2]\n",
        "# print(VI_soln)"
      ],
      "execution_count": 0,
      "outputs": []
    },
    {
      "cell_type": "code",
      "metadata": {
        "id": "YALM2WG1Djob",
        "colab_type": "code",
        "outputId": "9ae34410-dd75-4284-9658-fce6372fb669",
        "colab": {
          "base_uri": "https://localhost:8080/",
          "height": 68
        }
      },
      "source": [
        "# Monte-Carlo Method\n",
        "import numpy as np\n",
        "import random as rd\n",
        "\n",
        "N = 8\n",
        "h = 1/N\n",
        "alpha = 0.04 \n",
        "\n",
        "s = [x for x in range(1,N)]\n",
        "#rd.seed(1)\n",
        "s0 = [rd.choice(s), rd.choice(s)]\n",
        "\n",
        "S_list = [s0]\n",
        "print(S_list)         # Still change S_list[0] even though set it firstly\n",
        "ei = [-1,1]\n",
        "T = 0                 # T is the stopping time\n",
        "\n",
        "while s0[0]>0 and s0[0]<N and s0[1]>0 and s0[1]<N:\n",
        "  s0[0] += rd.choice(ei)\n",
        "  s0[1] += rd.choice(ei)\n",
        "  S_list.append([s0[0],s0[1]])\n",
        "  T += 1              # S_list is the state space excepet S_list[0]\n",
        "print(S_list)\n",
        "\n",
        "R = np.zeros(T+1)\n",
        "v = 0\n",
        "for i in range(T+1):\n",
        "  x1 = S_list[i][0]\n",
        "  x2 = S_list[i][1]\n",
        "  R[i] = h**2/(2+h**2)*((x1/N-0.5)**2+(x2/N-0.5)**2-2)        # The reward list, (terminal is equal to 0?)\n",
        "G = R[T]\n",
        "V_list = [0]\n",
        "for t in range(T-1,0,-1):\n",
        "  G = R[t] + gamma(N) * G\n",
        "  v += alpha * (G - v)\n",
        "  V_list.append(v)               # Owing to the bug in S_list[0], there is no value when T=1\n",
        "print(V_list)\n",
        "\n",
        "#print(l(8)*gamma(8))   # This is the complete R(s)\n"
      ],
      "execution_count": 2,
      "outputs": [
        {
          "output_type": "stream",
          "text": [
            "[[5, 3]]\n",
            "[[8, 6], [6, 4], [7, 5], [8, 6]]\n",
            "[0, -0.0010909049936902828, -0.00273049235357334]\n"
          ],
          "name": "stdout"
        }
      ]
    },
    {
      "cell_type": "code",
      "metadata": {
        "id": "qF-SK1ATkli8",
        "colab_type": "code",
        "colab": {
          "base_uri": "https://localhost:8080/",
          "height": 411
        },
        "outputId": "4240cda8-4840-4ff2-ea7e-03fef0435299"
      },
      "source": [
        "# TD Method\n",
        "\n",
        "import numpy as np\n",
        "from tqdm import tqdm\n",
        "import matplotlib.pyplot as plt\n",
        "import seaborn as sns\n",
        "sns.set_style(\"darkgrid\")\n",
        "%pylab inline\n",
        "import random\n",
        "\n",
        "# parameters\n",
        "gamma = 0.5 # discounting rate\n",
        "rewardSize = -1\n",
        "gridSize = 8\n",
        "alpha = 0.05 # (0,1] // stepSize\n",
        "terminationStates = []\n",
        "for i in range(gridSize):\n",
        "  for j in [0,gridSize-1]:\n",
        "    terminationStates.append([i,j])\n",
        "for j in range(gridSize):\n",
        "  for i in [0,gridSize-1]:\n",
        "    terminationStates.append([i,j])\n",
        "actions = [[-1, 0], [1, 0], [0, 1], [0, -1]]\n",
        "numIterations = 10000\n",
        "\n",
        "# initialization\n",
        "V = np.zeros((gridSize, gridSize))\n",
        "returns = {(i, j):list() for i in range(gridSize) for j in range(gridSize)}\n",
        "deltas = {(i, j):list() for i in range(gridSize) for j in range(gridSize)}\n",
        "states = [[i, j] for i in range(gridSize) for j in range(gridSize)]\n",
        "\n",
        "# utils\n",
        "def generateInitialState():\n",
        "    initState = random.choice(states[1:-1])\n",
        "    return initState\n",
        "\n",
        "def generateNextAction():\n",
        "    return random.choice(actions)\n",
        "\n",
        "def takeAction(state, action):\n",
        "    if list(state) in terminationStates:\n",
        "        return 0, None\n",
        "    finalState = np.array(state)+np.array(action)\n",
        "    # if robot crosses wall\n",
        "    if -1 in list(finalState) or gridSize in list(finalState):\n",
        "        finalState = state\n",
        "    return rewardSize, list(finalState)\n",
        "\n",
        "for it in tqdm(range(numIterations)):\n",
        "    state = generateInitialState()\n",
        "    while True:\n",
        "        action = generateNextAction()\n",
        "        reward, finalState = takeAction(state, action)\n",
        "        \n",
        "        # we reached the end\n",
        "        if finalState is None:\n",
        "            break\n",
        "        \n",
        "        # modify Value function\n",
        "        before =  V[state[0], state[1]]\n",
        "        V[state[0], state[1]] += alpha*(reward + gamma*V[finalState[0], finalState[1]] - V[state[0], state[1]])\n",
        "        deltas[state[0], state[1]].append(float(np.abs(before-V[state[0], state[1]])))\n",
        "        \n",
        "        state = finalState\n",
        "\n",
        "V\n"
      ],
      "execution_count": 27,
      "outputs": [
        {
          "output_type": "stream",
          "text": [
            "/usr/local/lib/python3.6/dist-packages/IPython/core/magics/pylab.py:161: UserWarning: pylab import has clobbered these variables: ['random', 'gamma']\n",
            "`%matplotlib` prevents importing * from pylab and numpy\n",
            "  \"\\n`%matplotlib` prevents importing * from pylab and numpy\"\n",
            "  8%|▊         | 848/10000 [00:00<00:01, 8477.14it/s]"
          ],
          "name": "stderr"
        },
        {
          "output_type": "stream",
          "text": [
            "Populating the interactive namespace from numpy and matplotlib\n",
            "[[0, 0], [0, 7], [1, 0], [1, 7], [2, 0], [2, 7], [3, 0], [3, 7], [4, 0], [4, 7], [5, 0], [5, 7], [6, 0], [6, 7], [7, 0], [7, 7], [0, 0], [7, 0], [0, 1], [7, 1], [0, 2], [7, 2], [0, 3], [7, 3], [0, 4], [7, 4], [0, 5], [7, 5], [0, 6], [7, 6], [0, 7], [7, 7]]\n"
          ],
          "name": "stdout"
        },
        {
          "output_type": "stream",
          "text": [
            "100%|██████████| 10000/10000 [00:01<00:00, 8667.13it/s]\n"
          ],
          "name": "stderr"
        },
        {
          "output_type": "execute_result",
          "data": {
            "text/plain": [
              "array([[ 0.        ,  0.        ,  0.        ,  0.        ,  0.        ,\n",
              "         0.        ,  0.        ,  0.        ],\n",
              "       [ 0.        , -1.41115254, -1.64865535, -1.63379813, -1.60101541,\n",
              "        -1.68598132, -1.3154983 ,  0.        ],\n",
              "       [ 0.        , -1.69547957, -1.89424426, -1.93153991, -1.91335127,\n",
              "        -1.87959509, -1.5327981 ,  0.        ],\n",
              "       [ 0.        , -1.66451303, -1.92884294, -1.98070148, -1.97699674,\n",
              "        -1.92706579, -1.73318839,  0.        ],\n",
              "       [ 0.        , -1.68514447, -1.91198641, -1.97410486, -1.9785462 ,\n",
              "        -1.92188471, -1.72371236,  0.        ],\n",
              "       [ 0.        , -1.59327308, -1.88422545, -1.91897719, -1.94123168,\n",
              "        -1.89672056, -1.65726778,  0.        ],\n",
              "       [ 0.        , -1.40143392, -1.70874577, -1.50436021, -1.67150033,\n",
              "        -1.67256658, -1.26128555,  0.        ],\n",
              "       [ 0.        ,  0.        ,  0.        ,  0.        ,  0.        ,\n",
              "         0.        ,  0.        ,  0.        ]])"
            ]
          },
          "metadata": {
            "tags": []
          },
          "execution_count": 27
        }
      ]
    },
    {
      "cell_type": "code",
      "metadata": {
        "id": "VJLzuNFcOQkM",
        "colab_type": "code",
        "colab": {
          "base_uri": "https://localhost:8080/",
          "height": 51
        },
        "outputId": "0bc3a316-aca6-41e1-b930-0288d638c286"
      },
      "source": [
        ""
      ],
      "execution_count": 23,
      "outputs": [
        {
          "output_type": "stream",
          "text": [
            "0\n",
            "7\n"
          ],
          "name": "stdout"
        }
      ]
    }
  ]
}