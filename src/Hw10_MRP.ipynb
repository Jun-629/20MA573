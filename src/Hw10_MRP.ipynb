{
  "nbformat": 4,
  "nbformat_minor": 0,
  "metadata": {
    "colab": {
      "name": "Hw10_2.ipynb",
      "provenance": [],
      "authorship_tag": "ABX9TyNSc80gYjZ20WpdZkGjARg3",
      "include_colab_link": true
    },
    "kernelspec": {
      "name": "python3",
      "display_name": "Python 3"
    }
  },
  "cells": [
    {
      "cell_type": "markdown",
      "metadata": {
        "id": "view-in-github",
        "colab_type": "text"
      },
      "source": [
        "<a href=\"https://colab.research.google.com/github/Jun-629/20MA573/blob/master/src/Hw10_MRP.ipynb\" target=\"_parent\"><img src=\"https://colab.research.google.com/assets/colab-badge.svg\" alt=\"Open In Colab\"/></a>"
      ]
    },
    {
      "cell_type": "markdown",
      "metadata": {
        "id": "FDdUFb5F7xX8",
        "colab_type": "text"
      },
      "source": [
        "Consider 2-d PDE\n",
        "$$\\frac{1}{2} \\Delta v(x) - v(x) + x_{1}^2 + x_{2}^2 - x_{1} - x_{2} - \\frac{3}{2} = 0, x \\in O=(0,1)^2$$\n",
        "with its boundary data\n",
        "$$v(x) = (x_{1} - \\frac{1}{2})^2 + (x_{2} - \\frac{1}{2})^2, x \\notin O.$$\n",
        "The exact solution is \n",
        "$$v(x) = (x_{1} - \\frac{1}{2})^2 + (x_{2} - \\frac{1}{2})^2.$$"
      ]
    },
    {
      "cell_type": "markdown",
      "metadata": {
        "id": "TmCOn7f594Bx",
        "colab_type": "text"
      },
      "source": [
        "- Idendify $\\mathrm{MRP}$ with $\\mathrm{CFD}$ in the form of \n",
        "\n",
        "\\begin{align}\n",
        "v(x) = \\gamma \\{ \\ell ^h (x) + \\sum_{i=1}^{d} p^h (x + he_{i}|x)v(x + he_{i}) + p^h(x-he_{i}|x)v(x - he_{i}) \\} \\tag{1} \\\\\n",
        "\\end{align}\n",
        "\n",
        "__Soln:__\n",
        "\n",
        "First, we change the form of the equation (1):\n",
        "\n",
        "\\begin{align}\n",
        "v(x) = \\gamma \\cdot \\ell ^h (x) + \\gamma \\cdot \\sum_{i=1}^{2} p^h (x + he_{i}|x)v(x + he_{i}) + p^h(x-he_{i}|x)v(x - he_{i}) \\tag{2} \\\\\n",
        "\\end{align}\n",
        "\n",
        "Also, we already calculate that\n",
        "$$\\gamma = \\frac{2}{2+h^{2}}, \\quad \\ell^{h}(x) = \\frac{h^{2}}{2} [(x_{1} - \\frac{1}{2})^{2} + (x_{2} - \\frac{1}{2})^{2} -2], \\quad p^{h}(x\\pm he_{i}|x) = \\frac{1}{4}.$$\n",
        "Then compare (2) to the Bellman Equation:\n",
        "$$v(s) = R(s) + \\gamma \\sum_{s' \\in \\mathcal S} P(s,s')v(s'),$$\n",
        "we can deduce that\n",
        "\n",
        "P(s,s') =\n",
        "\\begin{cases} \n",
        "\\frac{1}{4},  & \\mbox{if } ||s'-s||_1 = h \\\\\n",
        "0, & \\mbox{otherwise}\n",
        "\\end{cases}\n",
        "\n",
        "and\n",
        "$$ R(s) = \\gamma \\cdot \\ell^h(s) = \\frac{h^2}{2+h^2} [(x_{1} - \\frac{1}{2})^{2} + (x_{2} - \\frac{1}{2})^{2} -2] $$"
      ]
    },
    {
      "cell_type": "markdown",
      "metadata": {
        "id": "ep5-DCHX-qwl",
        "colab_type": "text"
      },
      "source": [
        "- For $h$ = 1/8, compute $\\mathrm{CFD}$ solution by value iteration.\n",
        "- For $h$ = 1/8, compute $\\mathrm{CFD}$ solution by Monte-Carlo method.\n",
        "- For $h$ = 1/8, compute $\\mathrm{CFD}$ solution by $\\mathrm{TD}$ method.\n",
        "- Compare above three methodsand conclude your observations.\n"
      ]
    },
    {
      "cell_type": "code",
      "metadata": {
        "id": "YALM2WG1Djob",
        "colab_type": "code",
        "colab": {}
      },
      "source": [
        "# Monte-Carlo Method\n",
        "\n"
      ],
      "execution_count": 0,
      "outputs": []
    },
    {
      "cell_type": "code",
      "metadata": {
        "id": "qnlomw8D8fzE",
        "colab_type": "code",
        "colab": {}
      },
      "source": [
        "# Value Iteration\n",
        "\n",
        "import numpy as np\n",
        "\n",
        "def gamma(N):\n",
        "  h = 1/N\n",
        "  gamma_value = 2/(2 + h**2)\n",
        "  return gamma_value\n",
        "def l(N):\n",
        "  h = 1/N\n",
        "  l_h = np.zeros([N+1, N+1])\n",
        "  for i in range(N+1):\n",
        "    for j in range(N+1):\n",
        "      if i == 0 or i == N or j == 0 or j == N:\n",
        "        l_h[i, j] = 0\n",
        "      else:\n",
        "        l_h[i, j] = h**2 / 2 *  ((i/N - 0.5)**2 + (j/N - 0.5)**2 - 2)\n",
        "  return l_h\n",
        "def F(N, u):\n",
        "  h = 1/N\n",
        "  l_h = l(N)\n",
        "  v = np.zeros([N+1, N+1])\n",
        "  for i in range(0, N+1):\n",
        "    for j in range(0, N+1):\n",
        "      if i == 0 or i == N or j == 0 or j == N:\n",
        "        v[i, j] = u[i, j]\n",
        "      else:\n",
        "        v[i, j] = gamma(N) * l_h[i, j] + gamma(N) * (u[i+1, j] + u[i, j+1] + u[i, j-1] + u[i-1, j]) / 4\n",
        "  return v\n",
        "def initial_value(N):\n",
        "  u = np.zeros([N+1, N+1])\n",
        "  for i in range(0, N+1):\n",
        "    for j in range(0, N+1):\n",
        "      if i == 0 or i == N or j == 0 or j == N:\n",
        "        u[i, j] = ((i/N - 0.5)**2 + (j/N - 0.5)**2)\n",
        "      else:\n",
        "        u[i, j] = 0\n",
        "  return u\n",
        "def value_iteration(N, error_hat = 0.0001):\n",
        "  v = initial_value(N)\n",
        "  error = 1\n",
        "  step = 0\n",
        "  while error > error_hat:\n",
        "    step +=1\n",
        "    u = v\n",
        "    v = F(N, u)\n",
        "    error = np.max(np.abs(u - v))\n",
        "  return [error, step, v]\n",
        "VI_soln = value_iteration(8)[2]"
      ],
      "execution_count": 0,
      "outputs": []
    }
  ]
}