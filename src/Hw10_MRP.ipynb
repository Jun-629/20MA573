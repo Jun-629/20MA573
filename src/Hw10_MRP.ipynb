{
  "nbformat": 4,
  "nbformat_minor": 0,
  "metadata": {
    "colab": {
      "name": "Hw10_2.ipynb",
      "provenance": [],
      "authorship_tag": "ABX9TyNl3npQ+GrkFseU7x/C+nFN",
      "include_colab_link": true
    },
    "kernelspec": {
      "name": "python3",
      "display_name": "Python 3"
    }
  },
  "cells": [
    {
      "cell_type": "markdown",
      "metadata": {
        "id": "view-in-github",
        "colab_type": "text"
      },
      "source": [
        "<a href=\"https://colab.research.google.com/github/Jun-629/20MA573/blob/master/src/Hw10_MRP.ipynb\" target=\"_parent\"><img src=\"https://colab.research.google.com/assets/colab-badge.svg\" alt=\"Open In Colab\"/></a>"
      ]
    },
    {
      "cell_type": "markdown",
      "metadata": {
        "id": "FDdUFb5F7xX8",
        "colab_type": "text"
      },
      "source": [
        "Consider 2-d PDE\n",
        "$$\\frac{1}{2} \\Delta v(x) - v(x) + x_{1}^2 + x_{2}^2 - x_{1} - x_{2} - \\frac{3}{2} = 0, x \\in O=(0,1)^2$$\n",
        "with its boundary data\n",
        "$$v(x) = (x_{1} - \\frac{1}{2})^2 + (x_{2} - \\frac{1}{2})^2, x \\notin O.$$\n",
        "The exact solution is \n",
        "$$v(x) = (x_{1} - \\frac{1}{2})^2 + (x_{2} - \\frac{1}{2})^2.$$"
      ]
    },
    {
      "cell_type": "markdown",
      "metadata": {
        "id": "TmCOn7f594Bx",
        "colab_type": "text"
      },
      "source": [
        "- Idendify $\\mathrm{MRP}$ with $\\mathrm{CFD}$ in the form of \n",
        "\n",
        "\\begin{align}\n",
        "v(x) = \\gamma \\{ \\ell ^h (x) + \\sum_{i=1}^{d} p^h (x + he_{i}|x)v(x + he_{i}) + p^h(x-he_{i}|x)v(x - he_{i}) \\} \\tag{1} \\\\\n",
        "\\end{align}\n",
        "\n",
        "__Soln:__\n",
        "\n",
        "First, we change the form of the equation (1):\n",
        "\n",
        "\\begin{align}\n",
        "v(x) = \\gamma \\cdot \\ell ^h (x) + \\gamma \\cdot \\sum_{i=1}^{2} p^h (x + he_{i}|x)v(x + he_{i}) + p^h(x-he_{i}|x)v(x - he_{i}) \\tag{2} \\\\\n",
        "\\end{align}\n",
        "\n",
        "Also, we already calculate that\n",
        "$$\\gamma = \\frac{2}{2+h^{2}}, \\quad \\ell^{h}(x) = \\frac{h^{2}}{2} [(x_{1} - \\frac{1}{2})^{2} + (x_{2} - \\frac{1}{2})^{2} -2], \\quad p^{h}(x\\pm he_{i}|x) = \\frac{1}{4}.$$\n",
        "Then compare (2) to the Bellman Equation:\n",
        "$$v(s) = R(s) + \\gamma \\sum_{s' \\in \\mathcal S} P(s,s')v(s'),$$\n",
        "we can deduce that\n",
        "\n",
        "$$P(s,s') =\n",
        "\\begin{cases} \n",
        "\\frac{1}{4},  & \\mbox{if } ||s'-s||_1 = h \\\\\n",
        "0, & \\mbox{otherwise}\n",
        "\\end{cases}$$\n",
        "\n",
        "and\n",
        "$$ R(s) = \\gamma \\cdot \\ell^h(s) = \\frac{h^2}{2+h^2} [(x_{1} - \\frac{1}{2})^{2} + (x_{2} - \\frac{1}{2})^{2} -2] $$"
      ]
    },
    {
      "cell_type": "markdown",
      "metadata": {
        "id": "ep5-DCHX-qwl",
        "colab_type": "text"
      },
      "source": [
        "- For $h$ = 1/8, compute $\\mathrm{CFD}$ solution by value iteration.\n",
        "- For $h$ = 1/8, compute $\\mathrm{CFD}$ solution by Monte-Carlo method.\n",
        "- For $h$ = 1/8, compute $\\mathrm{CFD}$ solution by $\\mathrm{TD}$ method.\n",
        "- Compare above three methodsand conclude your observations.\n"
      ]
    },
    {
      "cell_type": "code",
      "metadata": {
        "id": "qnlomw8D8fzE",
        "colab_type": "code",
        "colab": {
          "base_uri": "https://localhost:8080/",
          "height": 323
        },
        "outputId": "9744eb5d-4507-4394-bc17-3d0ba32c0170"
      },
      "source": [
        "# Value Iteration\n",
        "\n",
        "import numpy as np\n",
        "\n",
        "def gamma(N):\n",
        "  h = 1/N\n",
        "  gamma_value = 2/(2 + h**2)\n",
        "  return gamma_value\n",
        "def l(N):\n",
        "  h = 1/N\n",
        "  l_h = np.zeros([N+1, N+1])\n",
        "  for i in range(N+1):\n",
        "    for j in range(N+1):\n",
        "      if i == 0 or i == N or j == 0 or j == N:\n",
        "        l_h[i, j] = 0\n",
        "      else:\n",
        "        l_h[i, j] = h**2 / 2 *  ((i/N - 0.5)**2 + (j/N - 0.5)**2 - 2)\n",
        "  return l_h\n",
        "def F(N, u):\n",
        "  h = 1/N\n",
        "  l_h = l(N)\n",
        "  v = np.zeros([N+1, N+1])\n",
        "  for i in range(0, N+1):\n",
        "    for j in range(0, N+1):\n",
        "      if i == 0 or i == N or j == 0 or j == N:\n",
        "        v[i, j] = u[i, j]\n",
        "      else:\n",
        "        v[i, j] = gamma(N) * l_h[i, j] + gamma(N) * (u[i+1, j] + u[i, j+1] + u[i, j-1] + u[i-1, j]) / 4\n",
        "  return v\n",
        "def initial_value(N):\n",
        "  u = np.zeros([N+1, N+1])\n",
        "  for i in range(0, N+1):\n",
        "    for j in range(0, N+1):\n",
        "      if i == 0 or i == N or j == 0 or j == N:\n",
        "        u[i, j] = ((i/N - 0.5)**2 + (j/N - 0.5)**2)\n",
        "      else:\n",
        "        u[i, j] = 0\n",
        "  return u\n",
        "def value_iteration(N, error_hat = 0.0001):\n",
        "  v = initial_value(N)\n",
        "  error = 1\n",
        "  step = 0\n",
        "  while error > error_hat:\n",
        "    step +=1\n",
        "    u = v\n",
        "    v = F(N, u)\n",
        "    error = np.max(np.abs(u - v))\n",
        "  return [error, step, v]\n",
        "VI_soln = value_iteration(8)[2]\n",
        "# print(VI_soln)"
      ],
      "execution_count": 96,
      "outputs": [
        {
          "output_type": "stream",
          "text": [
            "[[ 0.5         0.390625    0.3125      0.265625    0.25        0.265625\n",
            "   0.3125      0.390625    0.5       ]\n",
            " [ 0.390625    0.28111535  0.20288037  0.15592491  0.14027904  0.15592491\n",
            "   0.20288037  0.28111535  0.390625  ]\n",
            " [ 0.3125      0.20288037  0.12454026  0.0775344   0.06184983  0.0775344\n",
            "   0.12454026  0.20288037  0.3125    ]\n",
            " [ 0.265625    0.15592491  0.0775344   0.03046517  0.01478977  0.03046517\n",
            "   0.0775344   0.15592491  0.265625  ]\n",
            " [ 0.25        0.14027904  0.06184983  0.01478977 -0.00091948  0.01478977\n",
            "   0.06184983  0.14027904  0.25      ]\n",
            " [ 0.265625    0.15592491  0.0775344   0.03046517  0.01478977  0.03046517\n",
            "   0.0775344   0.15592491  0.265625  ]\n",
            " [ 0.3125      0.20288037  0.12454026  0.0775344   0.06184983  0.0775344\n",
            "   0.12454026  0.20288037  0.3125    ]\n",
            " [ 0.390625    0.28111535  0.20288037  0.15592491  0.14027904  0.15592491\n",
            "   0.20288037  0.28111535  0.390625  ]\n",
            " [ 0.5         0.390625    0.3125      0.265625    0.25        0.265625\n",
            "   0.3125      0.390625    0.5       ]]\n"
          ],
          "name": "stdout"
        }
      ]
    },
    {
      "cell_type": "code",
      "metadata": {
        "id": "YALM2WG1Djob",
        "colab_type": "code",
        "colab": {
          "base_uri": "https://localhost:8080/",
          "height": 88
        },
        "outputId": "afb0aac3-3c4e-4f59-f04c-d22c5aee7a13"
      },
      "source": [
        "# Monte-Carlo Method\n",
        "import numpy as np\n",
        "import random as rd\n",
        "\n",
        "N = 8\n",
        "h = 1/N\n",
        "alpha = 0.04 \n",
        "\n",
        "s = [x for x in range(1,N)]\n",
        "#rd.seed(1)\n",
        "s0 = [rd.choice(s), rd.choice(s)]\n",
        "\n",
        "S_list = [s0]\n",
        "print(S_list)         # Still change S_list[0] even though set it firstly\n",
        "ei = [-1,1]\n",
        "T = 0                 # T is the stopping time\n",
        "\n",
        "while s0[0]>0 and s0[0]<N and s0[1]>0 and s0[1]<N:\n",
        "  s0[0] += rd.choice(ei)\n",
        "  s0[1] += rd.choice(ei)\n",
        "  S_list.append([s0[0],s0[1]])\n",
        "  T += 1              # S_list is the state space excepet S_list[0]\n",
        "print(S_list)\n",
        "\n",
        "R = np.zeros(T+1)\n",
        "v = 0\n",
        "for i in range(T+1):\n",
        "  x1 = S_list[i][0]\n",
        "  x2 = S_list[i][1]\n",
        "  R[i] = h**2/(2+h**2)*((x1/N-0.5)**2+(x2/N-0.5)**2-2)        # The reward list, (terminal is equal to 0?)\n",
        "G = R[T]\n",
        "V_list = [0]\n",
        "for t in range(T-1,0,-1):\n",
        "  G = R[t] + gamma(N) * G\n",
        "  v += alpha * (G - v)\n",
        "  V_list.append(v)               #Owing to the bug in S_list[0], there is no value when T=1\n",
        "print(V_list)\n",
        "\n",
        "#print(l(4)*gamma(4))   # This is the complete R(s)\n"
      ],
      "execution_count": 101,
      "outputs": [
        {
          "output_type": "stream",
          "text": [
            "[[3, 5]]\n",
            "[[8, 4], [2, 6], [3, 7], [4, 6], [5, 5], [6, 4], [7, 3], [8, 4]]\n",
            "[0, -0.0011101346072952348, -0.0027680333294669143, -0.004956885063166739, -0.007641131773511759, -0.010767368909141649, -0.014323348168597734]\n"
          ],
          "name": "stdout"
        }
      ]
    }
  ]
}