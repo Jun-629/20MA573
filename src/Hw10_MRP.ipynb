{
  "nbformat": 4,
  "nbformat_minor": 0,
  "metadata": {
    "colab": {
      "name": "Hw10_2.ipynb",
      "provenance": [],
      "authorship_tag": "ABX9TyPdAgHuGXfJJUp9kVvHEWq6",
      "include_colab_link": true
    },
    "kernelspec": {
      "name": "python3",
      "display_name": "Python 3"
    }
  },
  "cells": [
    {
      "cell_type": "markdown",
      "metadata": {
        "id": "view-in-github",
        "colab_type": "text"
      },
      "source": [
        "<a href=\"https://colab.research.google.com/github/Jun-629/20MA573/blob/master/src/Hw10_MRP.ipynb\" target=\"_parent\"><img src=\"https://colab.research.google.com/assets/colab-badge.svg\" alt=\"Open In Colab\"/></a>"
      ]
    },
    {
      "cell_type": "markdown",
      "metadata": {
        "id": "FDdUFb5F7xX8",
        "colab_type": "text"
      },
      "source": [
        "Consider 2-d PDE\n",
        "$$\\frac{1}{2} \\Delta v(x) - v(x) + x_{1}^2 + x_{2}^2 - x_{1} - x_{2} - \\frac{3}{2} = 0, x \\in O=(0,1)^2$$\n",
        "with its boundary data\n",
        "$$v(x) = (x_{1} - \\frac{1}{2})^2 + (x_{2} - \\frac{1}{2})^2, x \\notin O.$$\n",
        "The exact solution is \n",
        "$$v(x) = (x_{1} - \\frac{1}{2})^2 + (x_{2} - \\frac{1}{2})^2.$$"
      ]
    },
    {
      "cell_type": "markdown",
      "metadata": {
        "id": "TmCOn7f594Bx",
        "colab_type": "text"
      },
      "source": [
        "- Idendify $\\mathrm{MRP}$ with $\\mathrm{CFD}$ in the form of \n",
        "\n",
        "\\begin{align}\n",
        "v(x) = \\gamma \\{ \\ell ^h (x) + \\sum_{i=1}^{d} p^h (x + he_{i}|x)v(x + he_{i}) + p^h(x-he_{i}|x)v(x - he_{i}) \\} \\tag{1} \\\\\n",
        "\\end{align}\n",
        "\n",
        "__Soln:__\n",
        "\n",
        "First, we change the form of the equation (1):\n",
        "\n",
        "\\begin{align}\n",
        "v(x) = \\gamma \\cdot \\ell ^h (x) + \\gamma \\cdot \\sum_{i=1}^{2} p^h (x + he_{i}|x)v(x + he_{i}) + p^h(x-he_{i}|x)v(x - he_{i}) \\tag{2} \\\\\n",
        "\\end{align}\n",
        "\n",
        "Also, we already calculate that\n",
        "$$\\gamma = \\frac{2}{2+h^{2}}, \\quad \\ell^{h}(x) = \\frac{h^{2}}{2} [(x_{1} - \\frac{1}{2})^{2} + (x_{2} - \\frac{1}{2})^{2} -2], \\quad p^{h}(x\\pm he_{i}|x) = \\frac{1}{4}.$$\n",
        "Then compare (2) to the Bellman Equation:\n",
        "$$v(s) = R(s) + \\gamma \\sum_{s' \\in \\mathcal S} P(s,s')v(s'),$$\n",
        "we can deduce that\n",
        "\n",
        "$$P(s,s') =\n",
        "\\begin{cases} \n",
        "\\frac{1}{4},  & \\mbox{if } ||s'-s||_1 = h \\\\\n",
        "0, & \\mbox{otherwise}\n",
        "\\end{cases}$$\n",
        "\n",
        "and\n",
        "$$ R(s) = \\gamma \\cdot \\ell^h(s) = \\frac{h^2}{2+h^2} [(x_{1} - \\frac{1}{2})^{2} + (x_{2} - \\frac{1}{2})^{2} -2] $$"
      ]
    },
    {
      "cell_type": "markdown",
      "metadata": {
        "id": "ep5-DCHX-qwl",
        "colab_type": "text"
      },
      "source": [
        "- For $h$ = 1/8, compute $\\mathrm{CFD}$ solution by value iteration.\n",
        "- For $h$ = 1/8, compute $\\mathrm{CFD}$ solution by Monte-Carlo method.\n",
        "- For $h$ = 1/8, compute $\\mathrm{CFD}$ solution by $\\mathrm{TD}$ method.\n",
        "- Compare above three methodsand conclude your observations.\n"
      ]
    },
    {
      "cell_type": "code",
      "metadata": {
        "id": "qnlomw8D8fzE",
        "colab_type": "code",
        "colab": {}
      },
      "source": [
        "# Value Iteration\n",
        "\n",
        "import numpy as np\n",
        "\n",
        "def gamma(N):\n",
        "  h = 1/N\n",
        "  gamma_value = 2/(2 + h**2)\n",
        "  return gamma_value\n",
        "def l(N):\n",
        "  h = 1/N\n",
        "  l_h = np.zeros([N+1, N+1])\n",
        "  for i in range(N+1):\n",
        "    for j in range(N+1):\n",
        "      if i == 0 or i == N or j == 0 or j == N:\n",
        "        l_h[i, j] = 0\n",
        "      else:\n",
        "        l_h[i, j] = h**2 / 2 *  ((i/N - 0.5)**2 + (j/N - 0.5)**2 - 2)\n",
        "  return l_h\n",
        "def F(N, u):\n",
        "  h = 1/N\n",
        "  l_h = l(N)\n",
        "  v = np.zeros([N+1, N+1])\n",
        "  for i in range(0, N+1):\n",
        "    for j in range(0, N+1):\n",
        "      if i == 0 or i == N or j == 0 or j == N:\n",
        "        v[i, j] = u[i, j]\n",
        "      else:\n",
        "        v[i, j] = gamma(N) * l_h[i, j] + gamma(N) * (u[i+1, j] + u[i, j+1] + u[i, j-1] + u[i-1, j]) / 4\n",
        "  return v\n",
        "def initial_value(N):\n",
        "  u = np.zeros([N+1, N+1])\n",
        "  for i in range(0, N+1):\n",
        "    for j in range(0, N+1):\n",
        "      if i == 0 or i == N or j == 0 or j == N:\n",
        "        u[i, j] = ((i/N - 0.5)**2 + (j/N - 0.5)**2)\n",
        "      else:\n",
        "        u[i, j] = 0\n",
        "  return u\n",
        "def value_iteration(N, error_hat = 0.0001):\n",
        "  v = initial_value(N)\n",
        "  error = 1\n",
        "  step = 0\n",
        "  while error > error_hat:\n",
        "    step +=1\n",
        "    u = v\n",
        "    v = F(N, u)\n",
        "    error = np.max(np.abs(u - v))\n",
        "  return [error, step, v]\n",
        "VI_soln = value_iteration(8)[2]\n",
        "# print(VI_soln)"
      ],
      "execution_count": 0,
      "outputs": []
    },
    {
      "cell_type": "code",
      "metadata": {
        "id": "YALM2WG1Djob",
        "colab_type": "code",
        "outputId": "753d59eb-fccb-4069-898b-a404a4f65857",
        "colab": {
          "base_uri": "https://localhost:8080/",
          "height": 68
        }
      },
      "source": [
        "# Monte-Carlo Method\n",
        "import numpy as np\n",
        "import random as rd\n",
        "\n",
        "N = 8\n",
        "h = 1/N\n",
        "alpha = 0.04 \n",
        "\n",
        "s = [x for x in range(1,N)]\n",
        "#rd.seed(1)\n",
        "s0 = [rd.choice(s), rd.choice(s)]\n",
        "\n",
        "S_list = [s0]\n",
        "print(S_list)         # Still change S_list[0] even though set it firstly\n",
        "ei = [-1,1]\n",
        "T = 0                 # T is the stopping time\n",
        "\n",
        "while s0[0]>0 and s0[0]<N and s0[1]>0 and s0[1]<N:\n",
        "  s0[0] += rd.choice(ei)\n",
        "  s0[1] += rd.choice(ei)\n",
        "  S_list.append([s0[0],s0[1]])\n",
        "  T += 1              # S_list is the state space excepet S_list[0]\n",
        "print(S_list)\n",
        "\n",
        "R = np.zeros(T+1)\n",
        "v = 0\n",
        "for i in range(T+1):\n",
        "  x1 = S_list[i][0]\n",
        "  x2 = S_list[i][1]\n",
        "  R[i] = h**2/(2+h**2)*((x1/N-0.5)**2+(x2/N-0.5)**2-2)        # The reward list, (terminal is equal to 0?)\n",
        "G = R[T]\n",
        "V_list = [0]\n",
        "for t in range(T-1,0,-1):\n",
        "  G = R[t] + gamma(N) * G\n",
        "  v += alpha * (G - v)\n",
        "  V_list.append(v)               # Owing to the bug in S_list[0], there is no value when T=1\n",
        "print(V_list)\n",
        "\n",
        "#print(l(8)*gamma(8))   # This is the complete R(s)\n"
      ],
      "execution_count": 14,
      "outputs": [
        {
          "output_type": "stream",
          "text": [
            "[[4, 1]]\n",
            "[[5, 0], [5, 0]]\n",
            "[0]\n"
          ],
          "name": "stdout"
        }
      ]
    },
    {
      "cell_type": "code",
      "metadata": {
        "id": "g6XEIEh1mgPQ",
        "colab_type": "code",
        "colab": {
          "base_uri": "https://localhost:8080/",
          "height": 34
        },
        "outputId": "8c3e6942-c138-41b6-b95b-567c2726b72c"
      },
      "source": [
        "gamma(8)"
      ],
      "execution_count": 17,
      "outputs": [
        {
          "output_type": "execute_result",
          "data": {
            "text/plain": [
              "0.9922480620155039"
            ]
          },
          "metadata": {
            "tags": []
          },
          "execution_count": 17
        }
      ]
    },
    {
      "cell_type": "code",
      "metadata": {
        "id": "qF-SK1ATkli8",
        "colab_type": "code",
        "outputId": "08b5dffa-c6e4-4c94-bbe4-480d9a005a49",
        "colab": {
          "base_uri": "https://localhost:8080/",
          "height": 374
        }
      },
      "source": [
        "# TD Method\n",
        "\n",
        "import numpy as np\n",
        "from tqdm import tqdm\n",
        "import matplotlib.pyplot as plt\n",
        "import seaborn as sns\n",
        "sns.set_style(\"darkgrid\")\n",
        "%pylab inline\n",
        "import random\n",
        "\n",
        "# parameters\n",
        "gamma = 0.9922480620155039 # discounting rate: gamma(8)\n",
        "rewardSize = -1\n",
        "gridSize = 8\n",
        "alpha = 0.05 # (0,1] // stepSize\n",
        "terminationStates = []\n",
        "for i in range(gridSize):\n",
        "  for j in [0,gridSize-1]:\n",
        "    terminationStates.append([i,j])\n",
        "for j in range(gridSize):\n",
        "  for i in [0,gridSize-1]:\n",
        "    terminationStates.append([i,j])\n",
        "actions = [[-1, 0], [1, 0], [0, 1], [0, -1]]\n",
        "numIterations = 10000\n",
        "\n",
        "# initialization\n",
        "V = np.zeros((gridSize, gridSize))\n",
        "returns = {(i, j):list() for i in range(gridSize) for j in range(gridSize)}\n",
        "deltas = {(i, j):list() for i in range(gridSize) for j in range(gridSize)}\n",
        "states = [[i, j] for i in range(gridSize) for j in range(gridSize)]\n",
        "\n",
        "# utils\n",
        "def InitialState():\n",
        "    initState = random.choice(states[1:-1])\n",
        "    return initState\n",
        "\n",
        "def NextAction():\n",
        "    return random.choice(actions)\n",
        "\n",
        "def takeAction(state, action):\n",
        "    if list(state) in terminationStates:\n",
        "        return 0, None\n",
        "    finalState = np.array(state)+np.array(action)\n",
        "    # if robot crosses wall\n",
        "    if -1 in list(finalState) or gridSize in list(finalState):\n",
        "        finalState = state\n",
        "    return rewardSize, list(finalState)\n",
        "\n",
        "for it in tqdm(range(numIterations)):\n",
        "    state = InitialState()\n",
        "    while True:\n",
        "        action = NextAction()\n",
        "        reward, finalState = takeAction(state, action)\n",
        "        \n",
        "        # we reached the end\n",
        "        if finalState is None:\n",
        "            break\n",
        "        \n",
        "        # modify Value function\n",
        "        before =  V[state[0], state[1]]\n",
        "        V[state[0], state[1]] += alpha*(reward + gamma*V[finalState[0], finalState[1]] - V[state[0], state[1]])\n",
        "        deltas[state[0], state[1]].append(float(np.abs(before-V[state[0], state[1]])))\n",
        "        \n",
        "        state = finalState\n",
        "\n",
        "V\n"
      ],
      "execution_count": 21,
      "outputs": [
        {
          "output_type": "stream",
          "text": [
            "/usr/local/lib/python3.6/dist-packages/IPython/core/magics/pylab.py:161: UserWarning: pylab import has clobbered these variables: ['random', 'gamma']\n",
            "`%matplotlib` prevents importing * from pylab and numpy\n",
            "  \"\\n`%matplotlib` prevents importing * from pylab and numpy\"\n",
            "  8%|▊         | 810/10000 [00:00<00:01, 8099.47it/s]"
          ],
          "name": "stderr"
        },
        {
          "output_type": "stream",
          "text": [
            "Populating the interactive namespace from numpy and matplotlib\n"
          ],
          "name": "stdout"
        },
        {
          "output_type": "stream",
          "text": [
            "100%|██████████| 10000/10000 [00:01<00:00, 8530.09it/s]\n"
          ],
          "name": "stderr"
        },
        {
          "output_type": "execute_result",
          "data": {
            "text/plain": [
              "array([[  0.        ,   0.        ,   0.        ,   0.        ,\n",
              "          0.        ,   0.        ,   0.        ,   0.        ],\n",
              "       [  0.        ,  -3.69624309,  -5.91977062,  -6.80785972,\n",
              "         -6.62171315,  -5.49027163,  -4.20450177,   0.        ],\n",
              "       [  0.        ,  -5.52946043,  -9.5612745 , -10.56263462,\n",
              "        -10.32949904,  -9.35512479,  -5.31772439,   0.        ],\n",
              "       [  0.        ,  -6.46109993, -10.69744034, -12.46079664,\n",
              "        -12.5416894 , -10.70746571,  -7.17163554,   0.        ],\n",
              "       [  0.        ,  -7.46557195, -10.79405551, -12.76664124,\n",
              "        -12.71774238, -11.19996876,  -6.02165372,   0.        ],\n",
              "       [  0.        ,  -6.5787885 , -10.22504888, -11.08921663,\n",
              "        -10.68994254,  -9.47355868,  -6.13509814,   0.        ],\n",
              "       [  0.        ,  -4.7522589 ,  -6.68789106,  -7.5959414 ,\n",
              "         -5.99852188,  -5.54612458,  -3.97842478,   0.        ],\n",
              "       [  0.        ,   0.        ,   0.        ,   0.        ,\n",
              "          0.        ,   0.        ,   0.        ,   0.        ]])"
            ]
          },
          "metadata": {
            "tags": []
          },
          "execution_count": 21
        }
      ]
    }
  ]
}