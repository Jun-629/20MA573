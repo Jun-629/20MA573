{
  "nbformat": 4,
  "nbformat_minor": 0,
  "metadata": {
    "colab": {
      "name": "Hw 9 ",
      "provenance": [],
      "authorship_tag": "ABX9TyOjytJmfcEHV3HhitBUwBeI",
      "include_colab_link": true
    },
    "kernelspec": {
      "name": "python3",
      "display_name": "Python 3"
    }
  },
  "cells": [
    {
      "cell_type": "markdown",
      "metadata": {
        "id": "view-in-github",
        "colab_type": "text"
      },
      "source": [
        "<a href=\"https://colab.research.google.com/github/Jun-629/20MA573/blob/master/src/Hw9.ipynb\" target=\"_parent\"><img src=\"https://colab.research.google.com/assets/colab-badge.svg\" alt=\"Open In Colab\"/></a>"
      ]
    },
    {
      "cell_type": "markdown",
      "metadata": {
        "id": "xlmR9lERoxZM",
        "colab_type": "text"
      },
      "source": [
        "Consider 2-d PDE\n",
        "$$\\frac{1}{2}\\Delta v(x) - v(x) + x_1^2 + x_2^2 - x_1 - x_2 - \\frac{3}{2} = 0, x \\in O = (0,1)^2$$\n",
        "with its boundary data\n",
        "$$v(x) = (x_1 - \\frac{1}{2})^2 + (x_2 - \\frac{1}{2})^2, x \\notin O.$$\n",
        "- Show that exact solution is\n",
        "$$v(x) = (x_1 - \\frac{1}{2})^2 + (x_2 - \\frac{1}{2})^2.$$\n",
        "\n",
        "__Pf:__\n",
        "\n",
        "\\begin{aligned}\n",
        "L.H.S &= \\frac{1}{2} \\sum_{i=1}^2 \\partial_{ii} v(x) - v(x) + x_1^2 + x_2^2 - x_1 - x_2 - \\frac{3}{2} \\\\\n",
        "&= \\frac{1}{2} \\cdot (2+2) - (x_1^2 - x_1 + \\frac{1}{4}) - (x_2^2 - x_2 + \\frac{1}{4}) + x_1^2 + x_2^2 - x_1 - x_2 - \\frac{3}{2} \\\\\n",
        "&= 1 - x_1^2 - x_2^2 + x_1 + x_2 - \\frac{1}{2} + x_1^2 + x_2^2 - x_1 - x_2 - \\frac{3}{2} \\\\\n",
        "&= R.H.S \\\\\n",
        "\\end{aligned}\n",
        "\n",
        "Also, $v(x)$ meets the boundary data, i.e., for $x \\notin O$.\n",
        "\n",
        "Therefore, the exact solution is \n",
        "$$v(x) = (x_1 - \\frac{1}{2})^2 + (x_2 - \\frac{1}{2})^2.$$"
      ]
    },
    {
      "cell_type": "markdown",
      "metadata": {
        "id": "0T5Vohv7kv2W",
        "colab_type": "text"
      },
      "source": [
        "- Identify $\\gamma, \\ell^h, p^h$ in the CFD solution given by\n",
        "\n",
        "\\begin{align}\n",
        "v(x) = \\gamma \\{ \\ell^h(x) + \\sum_{i=1}^d p^h(x+he_i|x)v(x+he_i) + p^h(x-he_i|x)v(x-he_i) \\}. \\tag{1} \\\\\n",
        "\\end{align}\n",
        "\n",
        "__Soln:__\n",
        "\n",
        "For CFD Solution, we already have that:\n",
        "\n",
        "\\begin{cases}\n",
        "\\partial_i v(x) = \\frac{v(x+he_i) - v(x-he_i)}{2h} \\\\\n",
        "\\partial_{ii} v(x) = \\frac{v(x+he_i) - 2v(x) + v(x-he_i)}{h^2} \\\\\n",
        "\\end{cases}\n",
        "\n",
        "Then, denote $v = v(x)$, $v_i^+ = v(x+he_i)$ and $v_i^- = v(x-he_i)$. Take these equations into the equation $(1)$, we will have that:\n",
        "\n",
        "\n"
      ]
    },
    {
      "cell_type": "code",
      "metadata": {
        "id": "ezy7PFgPqhCB",
        "colab_type": "code",
        "colab": {}
      },
      "source": [
        ""
      ],
      "execution_count": 0,
      "outputs": []
    }
  ]
}