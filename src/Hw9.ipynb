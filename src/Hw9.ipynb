{
  "nbformat": 4,
  "nbformat_minor": 0,
  "metadata": {
    "colab": {
      "name": "Hw9 ",
      "provenance": [],
      "authorship_tag": "ABX9TyP6Q5NBnv48syOUUWX0AvHc",
      "include_colab_link": true
    },
    "kernelspec": {
      "name": "python3",
      "display_name": "Python 3"
    }
  },
  "cells": [
    {
      "cell_type": "markdown",
      "metadata": {
        "id": "view-in-github",
        "colab_type": "text"
      },
      "source": [
        "<a href=\"https://colab.research.google.com/github/Jun-629/20MA573/blob/master/src/Hw9.ipynb\" target=\"_parent\"><img src=\"https://colab.research.google.com/assets/colab-badge.svg\" alt=\"Open In Colab\"/></a>"
      ]
    },
    {
      "cell_type": "markdown",
      "metadata": {
        "id": "xlmR9lERoxZM",
        "colab_type": "text"
      },
      "source": [
        "Consider 2-d PDE\n",
        "\n",
        "\\begin{align}\n",
        "\\frac{1}{2}\\Delta v(x) - v(x) + x_1^2 + x_2^2 - x_1 - x_2 - \\frac{3}{2} = 0, x \\in O = (0,1)^2 \\tag{1} \\\\\n",
        "\\end{align}\n",
        "\n",
        "with its boundary data\n",
        "$$v(x) = (x_1 - \\frac{1}{2})^2 + (x_2 - \\frac{1}{2})^2, x \\notin O.$$\n",
        "- Show that exact solution is\n",
        "$$v(x) = (x_1 - \\frac{1}{2})^2 + (x_2 - \\frac{1}{2})^2.$$\n",
        "\n",
        "__Pf:__\n",
        "\n",
        "\\begin{aligned}\n",
        "L.H.S &= \\frac{1}{2} \\sum_{i=1}^2 \\partial_{ii} v(x) - v(x) + x_1^2 + x_2^2 - x_1 - x_2 - \\frac{3}{2} \\\\\n",
        "&= \\frac{1}{2} \\cdot (2+2) - (x_1^2 - x_1 + \\frac{1}{4}) - (x_2^2 - x_2 + \\frac{1}{4}) + x_1^2 + x_2^2 - x_1 - x_2 - \\frac{3}{2} \\\\\n",
        "&= 1 - x_1^2 - x_2^2 + x_1 + x_2 - \\frac{1}{2} + x_1^2 + x_2^2 - x_1 - x_2 - \\frac{3}{2} \\\\\n",
        "&= R.H.S \\\\\n",
        "\\end{aligned}\n",
        "\n",
        "Also, $v(x)$ meets the boundary data, i.e., for $x \\notin O$.\n",
        "\n",
        "Therefore, the exact solution is \n",
        "$$v(x) = (x_1 - \\frac{1}{2})^2 + (x_2 - \\frac{1}{2})^2.$$"
      ]
    },
    {
      "cell_type": "markdown",
      "metadata": {
        "id": "0T5Vohv7kv2W",
        "colab_type": "text"
      },
      "source": [
        "- Identify $\\gamma, \\ell^h, p^h$ in the CFD solution given by\n",
        "\n",
        "\\begin{align}\n",
        "v(x) = \\gamma \\{ \\ell^h(x) + \\sum_{i=1}^d p^h(x+he_i|x)v(x+he_i) + p^h(x-he_i|x)v(x-he_i) \\}. \\tag{2} \\\\\n",
        "\\end{align}\n",
        "\n",
        "__Soln:__\n",
        "\n",
        "For CFD Solution, we already have that:\n",
        "\n",
        "\\begin{cases}\n",
        "\\partial_i v(x) = \\frac{v(x+he_i) - v(x-he_i)}{2h} \\\\\n",
        "\\partial_{ii} v(x) = \\frac{v(x+he_i) - 2v(x) + v(x-he_i)}{h^2} \\\\\n",
        "\\end{cases}\n",
        "\n",
        "Then, denote $v = v(x)$, $v_i^+ = v(x+he_i)$ and $v_i^- = v(x-he_i)$. Take these equations into the equation $(1)$, we will have that:\n",
        "$$\\frac{1}{2} \\sum_{i=1}^2 \\frac{v_i^+ - 2v + v_i^-}{h^2} - v + x_1^2 + x_2^2 - x_1 - x_2 - \\frac{3}{2} = 0 $$\n",
        "\n",
        "\\begin{aligned}\n",
        "(\\frac{2}{h^2} + 1)v &= \\sum_{i=1}^2 \\frac{1}{2h^2} v_i^+ + \\sum_{i=1}^2 \\frac{1}{2h^2} v_i^- + x_1^2 + x_2^2 - x_1 - x_2 - \\frac{3}{2} \\\\\n",
        "v(x) = v &= \\frac{2}{2+h^2} \\cdot \\{ \\frac{h^2}{2} (x_1^2 + x_2^2 - x_1 - x_2 - \\frac{3}{2}) + \\sum_{i=1}^2 \\frac{1}{4} v_i^+ + \\sum_{i=1}^2 \\frac{1}{4} v_i^- \\} \\\\\n",
        "\\end{aligned}\n",
        "\n",
        "Thus, to compare the above equation to the equation $(2)$, we can deduce that\n",
        "\n",
        "\\begin{cases}\n",
        "\\gamma = \\frac{2}{2+h^2}, \\\\\n",
        "\\ell^h(x) = \\frac{h^2}{2}(x_1^2 + x_2^2 - x_1 - x_2 - \\frac{3}{2}), \\\\\n",
        "d = 2, \\\\\n",
        "p^h(x \\pm he_i|x) = \\frac{1}{4}. \\\\\n",
        "\\end{cases}\n",
        "\n",
        "\n"
      ]
    },
    {
      "cell_type": "markdown",
      "metadata": {
        "id": "rQdF09JpBFmF",
        "colab_type": "text"
      },
      "source": [
        "- For $\\{ h = 2^{-i}, i = 2,3,4,5 \\}$, compute CFD solution and find maxnorm of error."
      ]
    },
    {
      "cell_type": "code",
      "metadata": {
        "id": "8V-D-puXSCBh",
        "colab_type": "code",
        "outputId": "fe6f3b32-1f0d-478f-987d-e7df4315b996",
        "colab": {
          "base_uri": "https://localhost:8080/",
          "height": 255
        }
      },
      "source": [
        "import numpy as np\n",
        "\n",
        "def gamma(N):\n",
        "  h = 1/N\n",
        "  gamma = 2/(2 + h**2)\n",
        "  return gamma\n",
        "\n",
        "def l(N):\n",
        "  h = 1/N\n",
        "  l_h = np.zeros([N+1, N+1])\n",
        "  for i in range(N+1):\n",
        "    for j in range(N+1):\n",
        "      if i*j == 0 or i == N or j == N:\n",
        "        l_h[i, j] = 0\n",
        "      else:\n",
        "        l_h[i, j] = h**2 / 2 * (((i+1)/N)**2 + ((j+1)/N)**2 - (i+1)/N - (j+1)/N - 3/2)\n",
        "  return l_h\n",
        "\n",
        "## define the iteration function F\n",
        "\n",
        "def F(N, u):\n",
        "  h = 1/N\n",
        "  l_h = l(N)\n",
        "  F = np.zeros([N+1, N+1])\n",
        "  for i in range(0, N+1):\n",
        "    for j in range(0, N+1):\n",
        "      if i*j == 0 or i == N or j == N:\n",
        "        F[i, j] = u[i, j]\n",
        "      else:\n",
        "        F[i, j] = gamma(N) * l_h[i, j] + gamma(N) * (u[i+1, j] + u[i, j+1] + u[i, j-1] + u[i-1, j]) / 4\n",
        "  return F\n",
        "\n",
        "# define the function of initial value of the PDE\n",
        "\n",
        "def initial_value(N):\n",
        "  Ini = np.zeros([N+1, N+1])\n",
        "  for i in range(0, N+1):\n",
        "    for j in range(0, N+1):\n",
        "      if i*j == 0 or i == N or j == N:\n",
        "        Ini[i, j] = ((i/N - 0.5)**2 + (j/N - 0.5)**2)\n",
        "      else:\n",
        "        Ini[i, j] = 0\n",
        "  return Ini\n",
        "\n",
        "def value_iteration(hat_eps, N):            # N: max iteration, hat_eps: tolerance\n",
        "  v = initial_value(N)\n",
        "  flag = 1\n",
        "  n = 0                                     # the number of iteration\n",
        "\n",
        "  eps = 1\n",
        "  while flag:\n",
        "    n += 1\n",
        "    u = v\n",
        "    v = F(N, u)\n",
        "    eps = np.max(np.abs(u - v))\n",
        "    if eps < hat_eps:\n",
        "      flag = 0\n",
        "  return [eps, n, v]\n",
        "\n",
        "# Get the exact solution of the PDE\n",
        "\n",
        "def exact_value(N):\n",
        "  v_exact_value = np.zeros([N+1, N+1])\n",
        "  for i in range(0, N+1):\n",
        "    for j in range(0, N+1):\n",
        "      v_exact_value[i, j] = (i/N - 0.5)**2 + (j/N - 0.5)**2\n",
        "  return v_exact_value\n",
        "\n",
        "v_exact_value = exact_value(4)\n",
        "\n",
        "print(\"The exact value of the PDE is:\")\n",
        "print(v_exact_value)\n",
        "\n",
        "# Find maxnorm of error\n",
        "\n",
        "for i in range(2,6):\n",
        "  error = np.max(np.abs(value_iteration(0.0001, 2**i)[2] - exact_value(2**i)))\n",
        "  print(\"When h = \", 2**(-i), \", the maxnorn error is:\")\n",
        "  print(error)\n"
      ],
      "execution_count": 0,
      "outputs": [
        {
          "output_type": "stream",
          "text": [
            "The exact value of the PDE is:\n",
            "[[0.5    0.3125 0.25   0.3125 0.5   ]\n",
            " [0.3125 0.125  0.0625 0.125  0.3125]\n",
            " [0.25   0.0625 0.     0.0625 0.25  ]\n",
            " [0.3125 0.125  0.0625 0.125  0.3125]\n",
            " [0.5    0.3125 0.25   0.3125 0.5   ]]\n",
            "When h =  0.25 , the maxnorn error is:\n",
            "0.02036086793376196\n",
            "When h =  0.125 , the maxnorn error is:\n",
            "0.007767404850966719\n",
            "When h =  0.0625 , the maxnorn error is:\n",
            "0.0048814207852426045\n",
            "When h =  0.03125 , the maxnorn error is:\n",
            "0.01847625984958414\n"
          ],
          "name": "stdout"
        }
      ]
    }
  ]
}