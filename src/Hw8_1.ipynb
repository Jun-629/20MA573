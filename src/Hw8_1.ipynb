{
  "nbformat": 4,
  "nbformat_minor": 0,
  "metadata": {
    "colab": {
      "name": "Project_1.ipynb",
      "provenance": [],
      "authorship_tag": "ABX9TyN7pxfx7OMmxJA2gRZrdjaL",
      "include_colab_link": true
    },
    "kernelspec": {
      "name": "python3",
      "display_name": "Python 3"
    }
  },
  "cells": [
    {
      "cell_type": "markdown",
      "metadata": {
        "id": "view-in-github",
        "colab_type": "text"
      },
      "source": [
        "<a href=\"https://colab.research.google.com/github/Jun-629/20MA573/blob/master/src/Hw8_1.ipynb\" target=\"_parent\"><img src=\"https://colab.research.google.com/assets/colab-badge.svg\" alt=\"Open In Colab\"/></a>"
      ]
    },
    {
      "cell_type": "markdown",
      "metadata": {
        "id": "ZxxJ6aE-KmoX",
        "colab_type": "text"
      },
      "source": [
        "__For ($\\star$ 2)__\n",
        "- Consider CFD soln $u^h$ for $h = \\frac{1}{4}$.\n",
        "- Plot a figure with\n",
        "\\begin{cases}\n",
        "x \\to u^h(x) \\\\\n",
        "x \\to u(x) \\\\\n",
        "\\end{cases}\n",
        "- for $h = 2^{-2} ... 2^{-6}$, compute $\\epsilon^h = \\sup_{0 \\le i \\le N}|u(x_i) - u_i^h|$"
      ]
    },
    {
      "cell_type": "code",
      "metadata": {
        "id": "TDJTirtLD-HO",
        "colab_type": "code",
        "outputId": "a80fefbd-4f3c-4abe-c759-39c51d620b49",
        "colab": {
          "base_uri": "https://localhost:8080/",
          "height": 51
        }
      },
      "source": [
        "import numpy as np\n",
        "import scipy.linalg as sl\n",
        "\n",
        "r = 18\n",
        "s = 34\n",
        "t = 14\n",
        "\n",
        "f = [x*x/8 - 3 for x in range(1,4)]\n",
        "\n",
        "Lh = np.array([[1, 0, 0 ,0, 0], [-r, s, -t, 0, 0],[0, -r, s, -t, 0], [0, 0, -r, s, -t], [0, 0 ,0, 0, 1]])\n",
        "Rf = np.array([0, f[0], f[1], f[2], 0])\n",
        "uh = sl.solve(Lh, Rf)\n",
        "print(uh)"
      ],
      "execution_count": 2,
      "outputs": [
        {
          "output_type": "stream",
          "text": [
            "[ 1.48029737e-16 -1.87500000e-01 -2.50000000e-01 -1.87500000e-01\n",
            "  0.00000000e+00]\n"
          ],
          "name": "stdout"
        }
      ]
    },
    {
      "cell_type": "markdown",
      "metadata": {
        "id": "qZCeChsGRIo7",
        "colab_type": "text"
      },
      "source": [
        "- Thus CFD soln $u^h$ is $[0, -0.1875, -0.25, -0.1875, 0]$."
      ]
    },
    {
      "cell_type": "code",
      "metadata": {
        "id": "7-7Q3E6-OWn_",
        "colab_type": "code",
        "outputId": "87dd9c19-04d1-4acf-81eb-9d65330d91de",
        "colab": {
          "base_uri": "https://localhost:8080/",
          "height": 279
        }
      },
      "source": [
        "import matplotlib.pyplot as plt\n",
        "\n",
        "Gh = np.linspace(0, 1, 5)\n",
        "u = []\n",
        "\n",
        "for i in Gh:\n",
        "  u.append(i*i - i)\n",
        "\n",
        "plt.plot(Gh, uh, 'o', label='CFD Soln')\n",
        "plt.plot(Gh, u, label ='Exact Soln')\n",
        "\n",
        "plt.ylabel('u(x)')\n",
        "plt.xlabel('x')\n",
        "plt.legend();"
      ],
      "execution_count": 3,
      "outputs": [
        {
          "output_type": "display_data",
          "data": {
            "image/png": "[encoded data removed]",
            "text/plain": [
              "<Figure size 432x288 with 1 Axes>"
            ]
          },
          "metadata": {
            "tags": []
          }
        }
      ]
    },
    {
      "cell_type": "code",
      "metadata": {
        "id": "dYh7Gdm0WmTA",
        "colab_type": "code",
        "outputId": "2bbfe46b-cf0f-4abc-9645-6fa238b3eda0",
        "colab": {
          "base_uri": "https://localhost:8080/",
          "height": 102
        }
      },
      "source": [
        "max_eps = []\n",
        "for i in range(2,7):\n",
        "  h = 2**(-i)\n",
        "  r = 1/h/h + 1/2/h\n",
        "  s = 2/h/h + 2\n",
        "  t = 1/h/h - 1/2/h\n",
        "  m = np.zeros((2**i+1,2**i+1))     # matrix, i.e. Lh\n",
        "  m[0,0] = 1\n",
        "  m[2**i,2**i] = 1\n",
        "  for j in range(1,2**i):\n",
        "    m[j,j-1] = -r\n",
        "    m[j,j] = s\n",
        "    m[j,j+1] = -t\n",
        "  #print(m)                          # the ultimate Lh we need\n",
        "  f = [0]                            # Rf with f0 = 0\n",
        "  for k in range(1,2**i):\n",
        "    f.append(2*(k*h)**2-3)\n",
        "  f.append(0)                        # the ultimate Rf we need\n",
        "  uh = sl.solve(m, f)\n",
        "  #print(uh)\n",
        "  G_h = np.linspace(0,1,2**i+1)\n",
        "  u_l = []\n",
        "  for p in G_h:\n",
        "    u_l.append(p*p-p)\n",
        "  eps = []                           # to find supremum epi^h\n",
        "  for q in range(len(u_l)):\n",
        "    eps.append(u_l[q] - uh[q])\n",
        "  max_eps.append(max(eps))\n",
        "  print(\">>> When h = 2^(-\", i ,\"), epsilon^h = \", max(eps))"
      ],
      "execution_count": 4,
      "outputs": [
        {
          "output_type": "stream",
          "text": [
            ">>> When h = 2^(- 2 ), epsilon^h =  0.0\n",
            ">>> When h = 2^(- 3 ), epsilon^h =  2.873518416676876e-16\n",
            ">>> When h = 2^(- 4 ), epsilon^h =  0.0\n",
            ">>> When h = 2^(- 5 ), epsilon^h =  0.0\n",
            ">>> When h = 2^(- 6 ), epsilon^h =  2.7755575615628914e-17\n"
          ],
          "name": "stdout"
        }
      ]
    },
    {
      "cell_type": "code",
      "metadata": {
        "id": "CIDwDcdIcfTo",
        "colab_type": "code",
        "outputId": "50fc7a0f-cbcf-4f84-930b-c2f685bce4c2",
        "colab": {
          "base_uri": "https://localhost:8080/",
          "height": 352
        }
      },
      "source": [
        "x = [-2, -3, -4, -5, -6]\n",
        "y = np.log2(max_eps)\n",
        "plt.plot(x,y,'o')\n",
        "\n",
        "import scipy.stats as stats\n",
        "order = stats.linregress(x, y)\n",
        "print('>>>>The convergence order is ' \"%.1f\" % -round(order[0]))"
      ],
      "execution_count": 6,
      "outputs": [
        {
          "output_type": "stream",
          "text": [
            "/usr/local/lib/python3.6/dist-packages/ipykernel_launcher.py:2: RuntimeWarning: divide by zero encountered in log2\n",
            "  \n",
            "/usr/local/lib/python3.6/dist-packages/numpy/lib/function_base.py:2449: RuntimeWarning: invalid value encountered in subtract\n",
            "  X -= avg[:, None]\n"
          ],
          "name": "stderr"
        },
        {
          "output_type": "stream",
          "text": [
            ">>>>The convergence order is nan\n"
          ],
          "name": "stdout"
        },
        {
          "output_type": "display_data",
          "data": {
            "image/png": "[encoded data removed]",
            "text/plain": [
              "<Figure size 432x288 with 1 Axes>"
            ]
          },
          "metadata": {
            "tags": []
          }
        }
      ]
    },
    {
      "cell_type": "markdown",
      "metadata": {
        "id": "S8av-ozCkMWc",
        "colab_type": "text"
      },
      "source": [
        "- Guess: This is because most of $\\epsilon^h = \\sup$ equals to 0, which shows that this is a good apprxiamtion by using CFD."
      ]
    }
  ]
}