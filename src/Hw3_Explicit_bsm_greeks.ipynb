{
  "nbformat": 4,
  "nbformat_minor": 0,
  "metadata": {
    "kernelspec": {
      "display_name": "Python 3",
      "language": "python",
      "name": "python3"
    },
    "language_info": {
      "codemirror_mode": {
        "name": "ipython",
        "version": 3
      },
      "file_extension": ".py",
      "mimetype": "text/x-python",
      "name": "python",
      "nbconvert_exporter": "python",
      "pygments_lexer": "ipython3",
      "version": "3.7.4"
    },
    "colab": {
      "name": "Explicit_bsm_greeks.ipynb",
      "provenance": [],
      "include_colab_link": true
    }
  },
  "cells": [
    {
      "cell_type": "markdown",
      "metadata": {
        "id": "view-in-github",
        "colab_type": "text"
      },
      "source": [
        "<a href=\"https://colab.research.google.com/github/Jun-629/20MA573/blob/master/src/Hw3_Explicit_bsm_greeks.ipynb\" target=\"_parent\"><img src=\"https://colab.research.google.com/assets/colab-badge.svg\" alt=\"Open In Colab\"/></a>"
      ]
    },
    {
      "cell_type": "markdown",
      "metadata": {
        "id": "Cx24RXpc8fIv",
        "colab_type": "text"
      },
      "source": [
        "__Abstract__\n",
        "\n",
        "- Goal\n",
        "    - Familiarize to python function\n",
        "    - Apply explicit BSM formula and FD to find greeks\n",
        "- Ref"
      ]
    },
    {
      "cell_type": "markdown",
      "metadata": {
        "id": "zegEFei28fI1",
        "colab_type": "text"
      },
      "source": [
        "__Problem__\n",
        "\n",
        "Given a BS model with the parameters denoted by\n",
        "\n",
        "* $S(t)$: The initial stock price\n",
        "* $S(T)$: The stock price at $T$\n",
        "* $r$: interest rate\n",
        "* $\\sigma$: volatility\n",
        "\n",
        "our goal is to \n",
        "- find the exact value of $\\Delta$ and $\\theta$ of call. \n",
        "- find the approximation of $\\Delta$ and $\\theta$ by CFD, and compare it with exact ones."
      ]
    },
    {
      "cell_type": "markdown",
      "metadata": {
        "id": "iER1qIFr8fI3",
        "colab_type": "text"
      },
      "source": [
        "__Anal__. \n",
        "\n",
        "If we denote $C$ as the call price when its spot price is $S$ and time is $t$, and other parameters are frozen, then its formula is given by\n",
        "$$C(S, t) = S_t  \\Phi(d_1) - K e^{-r(T-t)} \\Phi(d_2),$$\n",
        "where $d_i$ are given as\n",
        "$$d_1 = \\frac{(r + \\frac 1 2 \\sigma^2) (T-t) - \\ln \\frac{K}{S_0}}{\\sigma \\sqrt {T-t}}, \n",
        "\\quad \n",
        "d_2 = d_1 - \\sigma \\sqrt {T-t}.$$\n",
        "\n",
        "By its very definition of Greeks, we write\n",
        "$$\\Delta = \\partial_s C, \\quad \\theta = \\partial_t C.$$\n",
        "\n",
        "With BSM, they have explicit form of\n",
        "$$\\Delta = \\Phi(d_1), \\quad \\theta = - \\frac{S \\phi(d_1) \\sigma}{2 \\sqrt{T-t}} - r K e^{-r(T-t)} \\Phi(d_2).$$"
      ]
    },
    {
      "cell_type": "markdown",
      "metadata": {
        "id": "9sAym7sb8fI3",
        "colab_type": "text"
      },
      "source": [
        "__Parameters__\n",
        "\n",
        "$$S(0) = 100, t = 0, K = 110, r = 4.75\\%, \\sigma = 20\\%, T = 1, h = .1.$$"
      ]
    },
    {
      "cell_type": "markdown",
      "metadata": {
        "id": "663uURlL8fI4",
        "colab_type": "text"
      },
      "source": [
        "__Algo__. \n"
      ]
    },
    {
      "cell_type": "code",
      "metadata": {
        "id": "hIv79yMK8fI5",
        "colab_type": "code",
        "colab": {}
      },
      "source": [
        "import numpy as np\n",
        "import pandas as pd\n",
        "import matplotlib.pyplot as plt\n",
        "import scipy.stats as ss"
      ],
      "execution_count": 0,
      "outputs": []
    },
    {
      "cell_type": "code",
      "metadata": {
        "id": "3uwR2Rva8fI9",
        "colab_type": "code",
        "colab": {}
      },
      "source": [
        "#Setting parameters\n",
        "S0 = 100.0\n",
        "t = 0.\n",
        "K = 110.0\n",
        "r=0.0475\n",
        "sigma = 0.20\n",
        "T = 1."
      ],
      "execution_count": 0,
      "outputs": []
    },
    {
      "cell_type": "code",
      "metadata": {
        "id": "m6DZn8zT8fJA",
        "colab_type": "code",
        "colab": {}
      },
      "source": [
        "def bsm_call_value(S0, K, T, r, sigma):\n",
        "    ''' Calculates Black-Scholes-Merton European call option value.\n",
        "    '''\n",
        "    d1 = (np.log(S0 / K) + (r + 0.5 * sigma ** 2)* T) / (sigma * np.sqrt(T))\n",
        "    \n",
        "    d2 = d1 - sigma * np.sqrt(T)\n",
        "    call_value = S0 * ss.norm.cdf(d1) - np.exp(-r * T) * K * ss.norm.cdf(d2)\n",
        "    return call_value"
      ],
      "execution_count": 0,
      "outputs": []
    },
    {
      "cell_type": "markdown",
      "metadata": {
        "id": "KdCBkpZu8fJF",
        "colab_type": "text"
      },
      "source": [
        "__1__. Find exact $\\Delta$"
      ]
    },
    {
      "cell_type": "code",
      "metadata": {
        "id": "8FUwKby48fJH",
        "colab_type": "code",
        "outputId": "1621e96e-e09c-42d1-bb6d-79a0b9af1fb0",
        "colab": {
          "base_uri": "https://localhost:8080/",
          "height": 34
        }
      },
      "source": [
        "#Your input here\n",
        "d1 = (np.log(S0 / K) + (r + 0.5 * sigma ** 2)* T) / (sigma * np.sqrt(T))\n",
        "delta = ss.norm.cdf(d1)\n",
        "print ('>>> Δ is ' + str(delta))"
      ],
      "execution_count": 0,
      "outputs": [
        {
          "output_type": "stream",
          "text": [
            ">>> Δ is 0.44470496404281507\n"
          ],
          "name": "stdout"
        }
      ]
    },
    {
      "cell_type": "markdown",
      "metadata": {
        "id": "xFyIP8q28fJL",
        "colab_type": "text"
      },
      "source": [
        "__2__. Find exact $\\theta$"
      ]
    },
    {
      "cell_type": "code",
      "metadata": {
        "id": "KPr7kX8M8fJO",
        "colab_type": "code",
        "outputId": "1508a1da-7468-478a-af86-9ebd89c65687",
        "colab": {
          "base_uri": "https://localhost:8080/",
          "height": 34
        }
      },
      "source": [
        "#Your input here\n",
        "d2 = d1 - sigma * np.sqrt(T)\n",
        "theta = -S0*delta*sigma/(2*np.sqrt(T)) - r*K*np.exp(-r*T)*(ss.norm.cdf(d2))\n",
        "print('>>> θ is ' + str(theta))"
      ],
      "execution_count": 0,
      "outputs": [
        {
          "output_type": "stream",
          "text": [
            ">>> θ is -6.277092743417512\n"
          ],
          "name": "stdout"
        }
      ]
    },
    {
      "cell_type": "markdown",
      "metadata": {
        "id": "td4n65Zn8fJS",
        "colab_type": "text"
      },
      "source": [
        "__3__. Approximate $\\Delta$"
      ]
    },
    {
      "cell_type": "code",
      "metadata": {
        "id": "ZoCYnHSJ8fJU",
        "colab_type": "code",
        "colab": {}
      },
      "source": [
        "h = 0.1 #step size for CFD\n",
        "\n",
        "#Use central finite difference\n",
        "def CFD(f, x, h):\n",
        "    return (f(x+h) - f(x-h))/h/2"
      ],
      "execution_count": 0,
      "outputs": []
    },
    {
      "cell_type": "code",
      "metadata": {
        "id": "57Sngsel8fJX",
        "colab_type": "code",
        "outputId": "fca76451-5a2f-4ec8-ee81-f17acc8763b1",
        "colab": {
          "base_uri": "https://localhost:8080/",
          "height": 51
        }
      },
      "source": [
        "#Your input here\n",
        "def Del(x):\n",
        "  return (bsm_call_value(x,110,1,0.0475,0.2))\n",
        "delta_appx = CFD(Del, 100, 0.1)\n",
        "diff_delta = delta - delta_appx\n",
        "print('>>> The Approximate Δ is ' + str(delta_appx))\n",
        "print('>>> The difference of them is ' + str(diff_delta))"
      ],
      "execution_count": 0,
      "outputs": [
        {
          "output_type": "stream",
          "text": [
            ">>> The Approximate Δ is 0.4447048637059581\n",
            ">>> The difference of them is 1.0033685698962458e-07\n"
          ],
          "name": "stdout"
        }
      ]
    },
    {
      "cell_type": "markdown",
      "metadata": {
        "id": "NO--ympk8fJa",
        "colab_type": "text"
      },
      "source": [
        "__4__. Approximate $\\theta$"
      ]
    },
    {
      "cell_type": "code",
      "metadata": {
        "id": "WxazpBr88fJb",
        "colab_type": "code",
        "outputId": "b7361319-86a5-4bba-8555-1eaf2c75693a",
        "colab": {
          "base_uri": "https://localhost:8080/",
          "height": 34
        }
      },
      "source": [
        "#Your input here\n",
        "def The(x):\n",
        "  return (bsm_call_value(100,110,x,0.0475,0.2))\n",
        "theta_appx = CFD(The, 1, 0.1)\n",
        "\n",
        "print('>>> The Approximate θ is ' + str(theta_appx))"
      ],
      "execution_count": 0,
      "outputs": [
        {
          "output_type": "stream",
          "text": [
            ">>> The Approximate θ is 5.782966021677218\n"
          ],
          "name": "stdout"
        }
      ]
    }
  ]
}