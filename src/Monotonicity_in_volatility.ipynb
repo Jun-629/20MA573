{
  "nbformat": 4,
  "nbformat_minor": 0,
  "metadata": {
    "colab": {
      "name": "Monotonicity in volatility.ipynb",
      "provenance": [],
      "authorship_tag": "ABX9TyN+EP/tuYDL/i0qCb6HgZpD",
      "include_colab_link": true
    },
    "kernelspec": {
      "name": "python3",
      "display_name": "Python 3"
    }
  },
  "cells": [
    {
      "cell_type": "markdown",
      "metadata": {
        "id": "view-in-github",
        "colab_type": "text"
      },
      "source": [
        "<a href=\"https://colab.research.google.com/github/Jun-629/20MA573/blob/master/src/Monotonicity_in_volatility.ipynb\" target=\"_parent\"><img src=\"https://colab.research.google.com/assets/colab-badge.svg\" alt=\"Open In Colab\"/></a>"
      ]
    },
    {
      "cell_type": "markdown",
      "metadata": {
        "id": "yqtf9FmCMmuJ",
        "colab_type": "text"
      },
      "source": [
        "- __Suppose $f$ is convex and $X$ is submartingale, prove that \n",
        "$g(t) = \\mathbb E[f(X_t)]$ is increasing.__\n",
        " \n",
        "__Pf:__\n",
        "Assuming that $X_n$ is a submartingale with respect to the filtration $\\{\\mathcal{F_n}\\}_{n\\in\\mathbb{N}}$, which means that $$\\mathbb E[X_t|\\mathcal{F_s}] \\ge X_s, \\forall t \\ge s$$\n",
        "\n",
        "then, by Jensen's Inequality, we have\n",
        "$$\\mathbb E[f(X_t)|\\mathcal{F_s}] \\ge f(\\mathbb E[X_t|\\mathcal{F_s}]) \\ge f(X_s), \\forall t \\ge s$$\n",
        "\n",
        "then by taking expectation of both sides, we will have the following inequality by the property of conditional expectation:\n",
        "$$\\mathbb E[f(X_t)] = \\mathbb E[\\mathbb E[f(X_t)|\\mathcal{F_s}]] \\ge \\mathbb E[f(X_s)], \\forall t \\ge s$$\n",
        "Therefore, $g(t) = \\mathbb E[f(X_t)]$ is increasing.\n",
        "\n",
        "__Q.E.D__\n"
      ]
    },
    {
      "cell_type": "markdown",
      "metadata": {
        "id": "vi1mvI5VrRmK",
        "colab_type": "text"
      },
      "source": [
        "- __Let $t \\mapsto e^{-rt}S_t$ be a martingale, \n",
        "then prove that $C(t) = \\mathbb E[e^{-rt}(S_t - K)^+]$ is increasing.__\n",
        "\n",
        "__Pf:__\n",
        "Assuming that $e^{-rt}S_t$ is a martingale with respect to the filtration $\\{\\mathcal{F_n}\\}_{n\\in\\mathbb{N}}$, which means\n",
        "$$\\mathbb E[e^{-rt}S_t|\\mathcal{F_s}] = e^{-rs}S_s, \\forall t \\ge s.$$\n",
        "When $S_t \\leq K$, then $$\\mathbb E[e^{-rt}(S_t - K)^+|\\mathcal{F_s}] = 0.$$\n",
        "when $S_t > K$, then \n",
        "\\begin{equation}\n",
        "\\begin{split}\n",
        "\\mathbb E[e^{-rt}(S_t - K)^+|\\mathcal{F_s}] &= \\mathbb E[e^{-rt}(S_t-K)|\\mathcal{F_s}]\\\\\n",
        "&= \\mathbb E[e^{-rt}S_t - K(e^{-rt}-e^{-rs}+e^{-rs})|\\mathcal{F_s}] \\\\\n",
        "&= e^{-rs}(S_s - K) - K \\mathbb E[e^{-rt} - e^{-rs}|\\mathcal{F_s}] \\\\\n",
        "&\\ge e^{-rs}(S_s - K) \\\\\n",
        "&\\ge e^{-rs}(S_s - K)^+.\n",
        "\\end{split}\n",
        "\\end{equation}\n",
        "Thus,$$\\mathbb E[e^{-rt}(S_t - K)^+|\\mathcal{F_s}] \\ge e^{-rs}(S_s - K)^+, \\forall t \\ge s.$$\n",
        "Therefore, by taking expectation of both sides, we will have\n",
        "$$\\mathbb E[e^{-rt}(S_t - K)^+] = \\mathbb E[ \\mathbb E[e^{-rt}(S_t - K)^+|\\mathcal{F_s}]] \\ge \\mathbb E[e^{-rs}(S_s - K)^+], \\forall t \\ge s,$$\n",
        "which shows that $C(t) = \\mathbb E[e^{-rt}(S_t - K)^+]$ is increasing.\n",
        "\n",
        "__Q.E.D__"
      ]
    },
    {
      "cell_type": "markdown",
      "metadata": {
        "id": "sC-gcIi6zuVn",
        "colab_type": "text"
      },
      "source": [
        "- __Suppose $r = 0$ and $S$ is martingale, prove that\n",
        "$P(t) = \\mathbb E [(S_t - K)^-]$ is increasing.__\n",
        "\n",
        "__Pf:__\n",
        "Assuming that $S_t$ is a martingale with respect to the filtration $\\{\\mathcal{F_n}\\}_{n\\in\\mathbb{N}}$, which means\n",
        "$$\\mathbb E[S_t|\\mathcal{F_s}] = S_s, \\forall t \\ge s.$$\n",
        "When $S_t \\ge K$, then $$\\mathbb E[(S_t - K)^-|\\mathcal{F_s}] = 0.$$\n",
        "when $S_t < K$, then \n",
        "\\begin{equation}\n",
        "\\begin{split}\n",
        "\\mathbb E[(S_t - K)^-|\\mathcal{F_s}] &= \\mathbb E[K - S_t|\\mathcal{F_s}]\\\\\n",
        "&= K - S_s \\\\\n",
        "&\\ge (S_s - K)^-.\n",
        "\\end{split}\n",
        "\\end{equation}\n",
        "Thus,$$\\mathbb E[(S_t - K)^-|\\mathcal{F_s}] \\ge (S_s - K)^-, \\forall t \\ge s.$$\n",
        "Therefore, by taking expectation of both sides, we will have\n",
        "$$\\mathbb E[(S_t - K)^-] = \\mathbb E[ \\mathbb E[(S_t - K)^-|\\mathcal{F_s}]] \\ge \\mathbb E[(S_s - K)^-], \\forall t \\ge s,$$\n",
        "which shows that $P(t) = \\mathbb E[(S_t - K)^-]$ is increasing.\n",
        "\n",
        "__Q.E.D__"
      ]
    }
  ]
}