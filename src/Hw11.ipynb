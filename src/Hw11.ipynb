{
  "nbformat": 4,
  "nbformat_minor": 0,
  "metadata": {
    "colab": {
      "name": "Hw11.ipynb",
      "provenance": [],
      "authorship_tag": "ABX9TyNl1si2xthvJgPWgRQMESF2",
      "include_colab_link": true
    },
    "kernelspec": {
      "name": "python3",
      "display_name": "Python 3"
    }
  },
  "cells": [
    {
      "cell_type": "markdown",
      "metadata": {
        "id": "view-in-github",
        "colab_type": "text"
      },
      "source": [
        "<a href=\"https://colab.research.google.com/github/Jun-629/20MA573/blob/master/src/Hw11.ipynb\" target=\"_parent\"><img src=\"https://colab.research.google.com/assets/colab-badge.svg\" alt=\"Open In Colab\"/></a>"
      ]
    },
    {
      "cell_type": "markdown",
      "metadata": {
        "id": "RprCBioH5j3q",
        "colab_type": "text"
      },
      "source": [
        "Asset price under $\\mathbb Q$ follows\n",
        "$$S_{t} = S_{0} exp \\{ \\mu t + \\sigma W_{t} \\}$$\n",
        "Coonsider Digital put with payoff \n",
        "$$h(S_{T}) = I(S_{T} < S_{0}e^{-b})$$\n",
        "We want to find the forward price:\n",
        "$$v = \\mathbb E^{\\mathbb Q}[h(S_{T})]$$\n",
        "Parameters are given as \n",
        "$$r = .03, \\sigma = .2, \\mu = r - \\frac{1}{2} \\sigma^2 = .01, T = 1, b = .39$$\n"
      ]
    },
    {
      "cell_type": "markdown",
      "metadata": {
        "id": "_Dx2nF2v57YV",
        "colab_type": "text"
      },
      "source": [
        "- Prove that the exact price is 0.02275\n",
        "\n",
        "__Pf:__\n",
        "\n",
        "As we have discussed in the video, we claim that\n",
        "\n",
        "\\begin{equation}\n",
        "\\begin{aligned}\n",
        "v &= \\mathbb E^{\\mathbb Q}[h(S_{T})] \\\\\n",
        "&= \\mathbb Q(W_1 < - \\frac{b + \\mu}{\\sigma} = -2) \\\\\n",
        "&= \\Phi(-2), \\\\\n",
        "\\end{aligned}\n",
        "\\end{equation}\n",
        "\n",
        "where $W_1 \\sim \\mathcal N(0,1)$ and $\\Phi(\\cdot)$ is the $\\mathrm{CDF}$ of the standard Normal Distribution.\n",
        "\n",
        "Thus, the exace price is shown as follows:\n"
      ]
    },
    {
      "cell_type": "code",
      "metadata": {
        "id": "3RnbHrwm9me3",
        "colab_type": "code",
        "colab": {
          "base_uri": "https://localhost:8080/",
          "height": 34
        },
        "outputId": "eb0c6bac-f838-46e3-cb85-c749eda3d397"
      },
      "source": [
        "import scipy.stats as ss\n",
        "exact_price = ss.norm(0,1).cdf(-2)\n",
        "print(exact_price)"
      ],
      "execution_count": 51,
      "outputs": [
        {
          "output_type": "stream",
          "text": [
            "0.022750131948179195\n"
          ],
          "name": "stdout"
        }
      ]
    },
    {
      "cell_type": "markdown",
      "metadata": {
        "id": "JkDjWI1g8H95",
        "colab_type": "text"
      },
      "source": [
        "- Use $\\mathrm{OMC}$ find the price\n",
        "\n",
        "__Soln:__\n",
        "\n",
        "By using $\\mathrm{OMC}$, we replace $\\Phi(-2)$ with $\\frac{1}{n} \\sum_{i=1}^n I(X_i<-2)$"
      ]
    },
    {
      "cell_type": "code",
      "metadata": {
        "id": "7ZNNKqlDCYlA",
        "colab_type": "code",
        "colab": {
          "base_uri": "https://localhost:8080/",
          "height": 34
        },
        "outputId": "927248ae-45a8-4d8a-a578-4d20f41241e3"
      },
      "source": [
        "import numpy as np\n",
        "\n",
        "def OMC(N):         # N is the number of samples\n",
        "  s = 0\n",
        "  for i in range(N):\n",
        "    X = np.random.normal(0,1)\n",
        "    if (X<-2):\n",
        "      s += 1\n",
        "  return s/N\n",
        "OMC(100000)"
      ],
      "execution_count": 21,
      "outputs": [
        {
          "output_type": "execute_result",
          "data": {
            "text/plain": [
              "0.02269"
            ]
          },
          "metadata": {
            "tags": []
          },
          "execution_count": 21
        }
      ]
    },
    {
      "cell_type": "markdown",
      "metadata": {
        "id": "3bU2POjzBKXG",
        "colab_type": "text"
      },
      "source": [
        "- Use $\\mathrm{IS}(\\alpha)$ find the price\n",
        " \n",
        " __Soln:__\n",
        "\n",
        " Assume $\\phi_\\alpha(\\cdot) \\sim \\mathcal N(-\\alpha,1)$, where $\\phi_\\alpha(\\cdot)$ is the $\\mathrm{pdf}$.\n",
        "\n",
        "Then we can rewrite v which has been discussed in the video:\n",
        "\n",
        "\\begin{equation}\n",
        "\\begin{aligned}\n",
        "v &= \\mathbb E[I(Y<-2) \\cdot e^{\\frac{1}{2}\\alpha^2 + \\alpha Y}|Y \\sim \\phi_\\alpha] \\\\\n",
        "&\\approx \\frac{1}{n} \\sum_{i=1}^n I(Y_i<-2) \\cdot e^{\\frac{1}{2}\\alpha^2 + \\alpha Y_i}, \\\\\n",
        "\\end{aligned}\n",
        "\\end{equation}\n",
        "\n",
        "where $Y_i \\sim \\mathcal N(-\\alpha,1).$"
      ]
    },
    {
      "cell_type": "code",
      "metadata": {
        "id": "aqoVubMgG0Wl",
        "colab_type": "code",
        "colab": {
          "base_uri": "https://localhost:8080/",
          "height": 34
        },
        "outputId": "9484b36e-4836-45a9-c0b1-4f1182c64a6a"
      },
      "source": [
        "import numpy as np\n",
        "import math\n",
        "\n",
        "def ImpSamp(N,alpha):         # N is the number of samples\n",
        "  s = 0\n",
        "  for i in range(N):\n",
        "    Y = np.random.normal(-alpha,1)\n",
        "    if (Y<-2):\n",
        "      s += math.e ** (alpha**2/2 + alpha*Y)\n",
        "  return s/N\n",
        "ImpSamp(10000,2)"
      ],
      "execution_count": 50,
      "outputs": [
        {
          "output_type": "execute_result",
          "data": {
            "text/plain": [
              "0.022733003117337208"
            ]
          },
          "metadata": {
            "tags": []
          },
          "execution_count": 50
        }
      ]
    },
    {
      "cell_type": "markdown",
      "metadata": {
        "id": "XFVofEPnBNn4",
        "colab_type": "text"
      },
      "source": [
        "- Can you show your approach is optimal?\n"
      ]
    },
    {
      "cell_type": "code",
      "metadata": {
        "id": "tHt62wllJWvP",
        "colab_type": "code",
        "colab": {
          "base_uri": "https://localhost:8080/",
          "height": 34
        },
        "outputId": "5cf2fef8-80ee-4e8b-92f9-08a8540704c1"
      },
      "source": [
        "err_list = []\n",
        "for alpha in range(10):\n",
        "  M = 1000                 # the number of trials to find the minimum of error\n",
        "  error = []\n",
        "  for i in range (M):\n",
        "    error.append(abs(ImpSamp(10000,alpha) - exact_price))     # document every trial's error\n",
        "  err_list.append(min(error))       # document the minimum of error wrt different alpha\n",
        "min_err = min(err_list)\n",
        "print(\">>> The minimum error among different α is \" + str(min_err) + \", where α = \" + str(err_list.index(min_err))) "
      ],
      "execution_count": 67,
      "outputs": [
        {
          "output_type": "stream",
          "text": [
            ">>> The minimum error among different α is 2.0011788371201988e-07, where α = 2\n"
          ],
          "name": "stdout"
        }
      ]
    },
    {
      "cell_type": "markdown",
      "metadata": {
        "id": "sU6aoAqjBOBP",
        "colab_type": "text"
      },
      "source": [
        "- Prove or demonstrate $\\mathrm{IS}$ is more efficient to $\\mathrm{OMC}$"
      ]
    }
  ]
}