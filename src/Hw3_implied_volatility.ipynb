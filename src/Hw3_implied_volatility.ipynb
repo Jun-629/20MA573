{
  "nbformat": 4,
  "nbformat_minor": 0,
  "metadata": {
    "colab": {
      "name": "Hw3_implied volatility.ipynb",
      "provenance": [],
      "include_colab_link": true
    },
    "kernelspec": {
      "name": "python3",
      "display_name": "Python 3"
    }
  },
  "cells": [
    {
      "cell_type": "markdown",
      "metadata": {
        "id": "view-in-github",
        "colab_type": "text"
      },
      "source": [
        "<a href=\"https://colab.research.google.com/github/Jun-629/20MA573/blob/master/src/Hw3_implied_volatility.ipynb\" target=\"_parent\"><img src=\"https://colab.research.google.com/assets/colab-badge.svg\" alt=\"Open In Colab\"/></a>"
      ]
    },
    {
      "cell_type": "markdown",
      "metadata": {
        "id": "iHMqWczsik6_",
        "colab_type": "text"
      },
      "source": [
        "- Prove the following facts: Supose $f$ is a function satisfying\n",
        "  - $f(0) = f_{min},$ and $\\lim_{x\\to \\infty}f(x) =  f_{max}$\n",
        "  - $f$ is continuous\n",
        "  - $f$ is strictly increasing\n",
        "  \n",
        "  then, for any $p\\in  (f_{min}, f_{max})$, \n",
        "  - there exists unique $\\hat \\sigma$, such that $f(\\hat \\sigma) = p$ and  \n",
        "  $$\\hat \\sigma = \\arg\\min_{\\sigma\\in (0,\\infty)} | f(\\sigma) - p|.$$\n",
        "\n",
        "__Pf:__\n",
        "By Intermediate Value Theorem, there exists $\\hat \\sigma$, such that $f(\\hat \\sigma) = p$, since $f$ is continuous and $p\\in  (f_{min}, f_{max})$.\n",
        "\n",
        "Assuming that there exists $\\hat \\sigma' \\ne \\hat \\sigma$, such that $f(\\hat \\sigma') = p$, then we must have $$\\hat \\sigma' < \\hat \\sigma$$ or \n",
        "$$\\hat \\sigma' > \\hat \\sigma.$$\n",
        "Without loss of generality, assuming that $\\hat \\sigma' < \\hat \\sigma$. Because $f$ is strictly increasing, we have \n",
        "$$p = f(\\hat \\sigma') > f(\\hat \\sigma) = p,$$\n",
        "which contradicts the assumption above.\n",
        "\n",
        "Therefore, there exists unique $\\hat \\sigma$, such that $f(\\hat \\sigma) = p.$\n",
        "\n",
        "Plus, since $| f(\\sigma) - p| \\ge 0$, we have $$\\min_{\\sigma\\in (0,\\infty)} | f(\\sigma) - p| \\ge 0,$$\n",
        "Because $\\hat \\sigma$ is the unique point which satisfies  $$f(\\hat \\sigma) - p = 0 ,$$\n",
        "we can conclude that\n",
        "$$\\hat \\sigma = \\arg\\min_{\\sigma\\in (0,\\infty)} | f(\\sigma) - p|.$$\n",
        "\n",
        "__Q.E.D__\n",
        "\n",
        "\n"
      ]
    },
    {
      "cell_type": "markdown",
      "metadata": {
        "id": "F9tYcXcNcbil",
        "colab_type": "text"
      },
      "source": [
        "- Now we denote by $f(\\sigma)$ the BSM put price with the following parameters:\n",
        "  - vol_ratio = $\\sigma$; spot_price = 100.; drift_ratio = .0475; strike = 110.; maturity = 1.\n",
        "  \n",
        "  Answer the following questions:\n",
        "  - What is $f_{min}$ and $f_{max}$?\n",
        "  - Is $f$ strictly increasing on $(0,\\infty)$? Justify your answer.\n",
        "  - If the market put price is $10$, then what's the implied volatility?\n",
        "\n",
        "__Soln:__\n",
        "The put price with maturity $T$ and $K$ will be known as $P_0$ given as below:\n",
        "$$P_0 = \\mathbb E [e^{-rT} (S(T) - K)^-] = K e^{-rT} \\Phi(- d_2) - S_0  \\Phi(- d_1),$$\n",
        "where $d_i$ are given as\n",
        "$$d_1 = \\frac{(r + \\frac 1 2 \\sigma^2) T - \\ln \\frac{K}{S_0}}{\\sigma \\sqrt T},$$\n",
        "and\n",
        "$$d_2 = \\frac{(r - \\frac 1 2 \\sigma^2) T - \\ln \\frac{K}{S_0}}{\\sigma \\sqrt T} = d_1 - \\sigma \\sqrt T$$\n",
        "- $f_{min} = f(0) = 4.8972$ , $f_{max} = \\lim_{x\\to \\infty}f(x) = 104.8972$\n",
        "- $f$ is strictly increasing on $(0,\\infty)$, which has been proved in Hw_3/2.\n",
        "- The implied volatility $\\hat \\sigma = 0.1787$. The main code is shown as follows. __###__"
      ]
    },
    {
      "cell_type": "code",
      "metadata": {
        "id": "2y5K03NNxJ33",
        "colab_type": "code",
        "colab": {}
      },
      "source": [
        "from scipy.optimize import fsolve\n",
        "\n",
        "def f(x):\n",
        "  gbm1 = Gbm(vol_ratio = x)\n",
        "  option1 = VanillaOption(otype=-1)\n",
        "  return(gbm1.bsm_price(option1)-10)\n",
        "\n",
        "ans_sig = fsolve(f,0.1)\n",
        "print(ans_sig)"
      ],
      "execution_count": 0,
      "outputs": []
    },
    {
      "cell_type": "markdown",
      "metadata": {
        "id": "Yb5WeJlQp971",
        "colab_type": "text"
      },
      "source": [
        "- Find its implied volatility with the following parameters:\n",
        "  - BSM call price is 10.;  spot_price = 100.; drift_ratio = .0475; strike = 110.; maturity = 1.\n",
        "\n"
      ]
    },
    {
      "cell_type": "code",
      "metadata": {
        "id": "beGz9O5zqRXK",
        "colab_type": "code",
        "colab": {}
      },
      "source": [
        "import numpy as np\n",
        "import scipy.stats as ss\n",
        "\n",
        "class VanillaOption:\n",
        "    def __init__(\n",
        "        self,\n",
        "        otype = 1, # 1: 'call'\n",
        "                  # -1: 'put'\n",
        "        strike = 110.,\n",
        "        maturity = 1.,\n",
        "        market_price = 10.):\n",
        "      self.otype = otype\n",
        "      self.strike = strike\n",
        "      self.maturity = maturity\n",
        "      self.market_price = market_price #this will be used for calibration\n",
        "      \n",
        "        \n",
        "    def payoff(self, s): #s: excercise price\n",
        "      otype = self.otype\n",
        "      k = self.strike\n",
        "      maturity = self.maturity\n",
        "      return max([0, (s - k)*otype])\n",
        "\n",
        "class Gbm:\n",
        "    def __init__(self,\n",
        "                 init_state = 100.,\n",
        "                 drift_ratio = .0475,\n",
        "                 vol_ratio = .2\n",
        "                ):\n",
        "        self.init_state = init_state\n",
        "        self.drift_ratio = drift_ratio\n",
        "        self.vol_ratio = vol_ratio\n",
        "\n",
        "def bsm_price(self, vanilla_option):\n",
        "    s0 = self.init_state\n",
        "    sigma = self.vol_ratio\n",
        "    r = self.drift_ratio\n",
        "    \n",
        "    otype = vanilla_option.otype\n",
        "    k = vanilla_option.strike\n",
        "    maturity = vanilla_option.maturity\n",
        "    \n",
        "    d1 = (np.log(s0 / k) + (r + 0.5 * sigma ** 2) \n",
        "          * maturity) / (sigma * np.sqrt(maturity))\n",
        "    d2 = d1 - sigma * np.sqrt(maturity)\n",
        "    \n",
        "    return (otype * s0 * ss.norm.cdf(otype * d1) #line break needs parenthesis\n",
        "            - otype * np.exp(-r * maturity) * k * ss.norm.cdf(otype * d2))\n",
        "\n",
        "Gbm.bsm_price = bsm_price"
      ],
      "execution_count": 0,
      "outputs": []
    },
    {
      "cell_type": "code",
      "metadata": {
        "id": "ovbZOvrYyGhG",
        "colab_type": "code",
        "outputId": "0d78a606-54d9-4eea-a492-219e7a581607",
        "colab": {
          "base_uri": "https://localhost:8080/",
          "height": 34
        }
      },
      "source": [
        "from scipy.optimize import fsolve\n",
        "\n",
        "def f(x):\n",
        "  gbm2 = Gbm(vol_ratio = x)\n",
        "  option2 = VanillaOption(otype=1)\n",
        "  return(gbm2.bsm_price(option2)-10)\n",
        "\n",
        "ans_sig_2 = fsolve(f,0.1)\n",
        "print('>>> The implied volatility is ' + str(ans_sig_2))"
      ],
      "execution_count": 0,
      "outputs": [
        {
          "output_type": "stream",
          "text": [
            ">>> The implied volatility is [0.30199229]\n"
          ],
          "name": "stdout"
        }
      ]
    }
  ]
}