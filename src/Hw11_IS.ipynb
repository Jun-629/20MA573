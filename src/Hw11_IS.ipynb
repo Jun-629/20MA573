{
  "nbformat": 4,
  "nbformat_minor": 0,
  "metadata": {
    "colab": {
      "name": "Hw11.ipynb",
      "provenance": [],
      "authorship_tag": "ABX9TyOxcyfjO/rCUQV9h2BXE2U/",
      "include_colab_link": true
    },
    "kernelspec": {
      "name": "python3",
      "display_name": "Python 3"
    }
  },
  "cells": [
    {
      "cell_type": "markdown",
      "metadata": {
        "id": "view-in-github",
        "colab_type": "text"
      },
      "source": [
        "<a href=\"https://colab.research.google.com/github/Jun-629/20MA573/blob/master/src/Hw11_IS.ipynb\" target=\"_parent\"><img src=\"https://colab.research.google.com/assets/colab-badge.svg\" alt=\"Open In Colab\"/></a>"
      ]
    },
    {
      "cell_type": "markdown",
      "metadata": {
        "id": "RprCBioH5j3q",
        "colab_type": "text"
      },
      "source": [
        "Asset price under $\\mathbb Q$ follows\n",
        "$$S_{t} = S_{0} exp \\{ \\mu t + \\sigma W_{t} \\}$$\n",
        "Coonsider Digital put with payoff \n",
        "$$h(S_{T}) = I(S_{T} < S_{0}e^{-b})$$\n",
        "We want to find the forward price:\n",
        "$$v = \\mathbb E^{\\mathbb Q}[h(S_{T})]$$\n",
        "Parameters are given as \n",
        "$$r = .03, \\sigma = .2, \\mu = r - \\frac{1}{2} \\sigma^2 = .01, T = 1, b = .39$$\n"
      ]
    },
    {
      "cell_type": "markdown",
      "metadata": {
        "id": "_Dx2nF2v57YV",
        "colab_type": "text"
      },
      "source": [
        "- Prove that the exact price is 0.02275\n",
        "\n",
        "__Pf:__\n",
        "\n",
        "As we have discussed in the video, we claim that\n",
        "\n",
        "\\begin{equation}\n",
        "\\begin{aligned}\n",
        "v &= \\mathbb E^{\\mathbb Q}[h(S_{T})] \\\\\n",
        "&= \\mathbb Q(W_1 < - \\frac{b + \\mu}{\\sigma} = -2) \\\\\n",
        "&= \\Phi(-2), \\\\\n",
        "\\end{aligned}\n",
        "\\end{equation}\n",
        "\n",
        "where $W_1 \\sim \\mathcal N(0,1)$ and $\\Phi(\\cdot)$ is the $\\mathrm{CDF}$ of the standard Normal Distribution.\n",
        "\n",
        "Thus, the exace price is shown as follows:\n"
      ]
    },
    {
      "cell_type": "code",
      "metadata": {
        "id": "3RnbHrwm9me3",
        "colab_type": "code",
        "outputId": "59aa9c7a-b8ef-43d3-e9f0-ffec040dd484",
        "colab": {
          "base_uri": "https://localhost:8080/",
          "height": 34
        }
      },
      "source": [
        "import scipy.stats as ss\n",
        "exact_price = ss.norm(0,1).cdf(-2)\n",
        "print(exact_price)"
      ],
      "execution_count": 0,
      "outputs": [
        {
          "output_type": "stream",
          "text": [
            "0.022750131948179195\n"
          ],
          "name": "stdout"
        }
      ]
    },
    {
      "cell_type": "markdown",
      "metadata": {
        "id": "JkDjWI1g8H95",
        "colab_type": "text"
      },
      "source": [
        "- Use $\\mathrm{OMC}$ find the price\n",
        "\n",
        "__Soln:__\n",
        "\n",
        "By using $\\mathrm{OMC}$, we replace $\\Phi(-2)$ with $\\frac{1}{n} \\sum_{i=1}^n I(X_i<-2)$"
      ]
    },
    {
      "cell_type": "code",
      "metadata": {
        "id": "7ZNNKqlDCYlA",
        "colab_type": "code",
        "outputId": "2b68aeb1-2ed2-41d6-a225-96b972f9ee7b",
        "colab": {
          "base_uri": "https://localhost:8080/",
          "height": 34
        }
      },
      "source": [
        "import numpy as np\n",
        "\n",
        "def OMC(N):         # N is the number of samples\n",
        "  s = 0\n",
        "  for i in range(N):\n",
        "    X = np.random.normal(0,1)\n",
        "    if (X<-2):\n",
        "      s += 1\n",
        "  return s/N\n",
        "OMC(1000000)"
      ],
      "execution_count": 0,
      "outputs": [
        {
          "output_type": "execute_result",
          "data": {
            "text/plain": [
              "0.022768"
            ]
          },
          "metadata": {
            "tags": []
          },
          "execution_count": 7
        }
      ]
    },
    {
      "cell_type": "markdown",
      "metadata": {
        "id": "3bU2POjzBKXG",
        "colab_type": "text"
      },
      "source": [
        "- Use $\\mathrm{IS}(\\alpha)$ find the price\n",
        " \n",
        " __Soln:__\n",
        "\n",
        " Assume $\\phi_\\alpha(\\cdot) \\sim \\mathcal N(-\\alpha,1)$, where $\\phi_\\alpha(\\cdot)$ is the $\\mathrm{pdf}$.\n",
        "\n",
        "Then we can rewrite v which has been discussed in the video:\n",
        "\n",
        "\\begin{equation}\n",
        "\\begin{aligned}\n",
        "v &= \\mathbb E[I(Y<-2) \\cdot e^{\\frac{1}{2}\\alpha^2 + \\alpha Y}|Y \\sim \\phi_\\alpha] \\\\\n",
        "&\\approx \\frac{1}{n} \\sum_{i=1}^n I(Y_i<-2) \\cdot e^{\\frac{1}{2}\\alpha^2 + \\alpha Y_i}, \\\\\n",
        "\\end{aligned}\n",
        "\\end{equation}\n",
        "\n",
        "where $Y_i \\sim \\mathcal N(-\\alpha,1).$"
      ]
    },
    {
      "cell_type": "code",
      "metadata": {
        "id": "aqoVubMgG0Wl",
        "colab_type": "code",
        "outputId": "80245ed2-93fe-4af3-bcdc-21b606cc6987",
        "colab": {
          "base_uri": "https://localhost:8080/",
          "height": 34
        }
      },
      "source": [
        "import numpy as np\n",
        "import math\n",
        "\n",
        "def ImpSamp(N,alpha):         # N is the number of samples\n",
        "  s = 0\n",
        "  for i in range(N):\n",
        "    Y = np.random.normal(-alpha,1)\n",
        "    if (Y<-2):\n",
        "      s += math.e ** (alpha**2/2 + alpha*Y)\n",
        "  return s/N\n",
        "ImpSamp(10000,2)"
      ],
      "execution_count": 0,
      "outputs": [
        {
          "output_type": "execute_result",
          "data": {
            "text/plain": [
              "0.02249178731207442"
            ]
          },
          "metadata": {
            "tags": []
          },
          "execution_count": 3
        }
      ]
    },
    {
      "cell_type": "markdown",
      "metadata": {
        "id": "XFVofEPnBNn4",
        "colab_type": "text"
      },
      "source": [
        "- Can you show your approach is optimal?\n"
      ]
    },
    {
      "cell_type": "code",
      "metadata": {
        "id": "tHt62wllJWvP",
        "colab_type": "code",
        "outputId": "5cf2fef8-80ee-4e8b-92f9-08a8540704c1",
        "colab": {
          "base_uri": "https://localhost:8080/",
          "height": 34
        }
      },
      "source": [
        "err_list = []\n",
        "for alpha in range(10):\n",
        "  M = 1000                 # the number of trials to find the minimum of error\n",
        "  error = []\n",
        "  for i in range (M):\n",
        "    error.append(abs(ImpSamp(10000,alpha) - exact_price))     # document every trial's error\n",
        "  err_list.append(min(error))       # document the minimum of error wrt different alpha\n",
        "min_err = min(err_list)\n",
        "print(\">>> The minimum error among different α is \" + str(min_err) + \", where α = \" + str(err_list.index(min_err))) "
      ],
      "execution_count": 0,
      "outputs": [
        {
          "output_type": "stream",
          "text": [
            ">>> The minimum error among different α is 2.0011788371201988e-07, where α = 2\n"
          ],
          "name": "stdout"
        }
      ]
    },
    {
      "cell_type": "markdown",
      "metadata": {
        "id": "sU6aoAqjBOBP",
        "colab_type": "text"
      },
      "source": [
        "- Prove or demonstrate $\\mathrm{IS}$ is more efficient to $\\mathrm{OMC}$"
      ]
    },
    {
      "cell_type": "code",
      "metadata": {
        "id": "7unyYE0RObJu",
        "colab_type": "code",
        "outputId": "5a1149e9-ae1d-4c86-f882-812dfbe0e432",
        "colab": {
          "base_uri": "https://localhost:8080/",
          "height": 51
        }
      },
      "source": [
        "N = 1000                         # N is the number of samples for both OMC and Importance Sampling\n",
        "sq_err_omc = 0\n",
        "sq_err_ImpSamp = 0\n",
        "K = 10000                         # K is the number of trials for OMC\n",
        "for i in range(K):\n",
        "  sq_err_omc += (exact_price - OMC(N))**2\n",
        "  sq_err_ImpSamp += (exact_price - ImpSamp(N,2))**2\n",
        "mse_omc = sq_err_omc / K\n",
        "mse_ImpSamp = sq_err_ImpSamp / K\n",
        "print(\">>> The Mean Square Error of Ordinary Monte Carlo is \" + str(mse_omc))\n",
        "print(\">>> The Mean Square Error of Importance Sampling is \" + str(mse_ImpSamp))  "
      ],
      "execution_count": 0,
      "outputs": [
        {
          "output_type": "stream",
          "text": [
            ">>> The Mean Square Error of Ordinary Monte Carlo is 2.228314286581901e-05\n",
            ">>> The Mean Square Error of Importance Sampling is 1.1975332166123286e-06\n"
          ],
          "name": "stdout"
        }
      ]
    },
    {
      "cell_type": "markdown",
      "metadata": {
        "id": "LVfV0Z_sSLN6",
        "colab_type": "text"
      },
      "source": [
        "- After trying two different values of $K$ ($K=1000\\ or\\ 10000$), the value of exponential will not change. Thus we can say that $\\mathrm{IS}$ is more efficient to $\\mathrm{OMC}$."
      ]
    },
    {
      "cell_type": "markdown",
      "metadata": {
        "id": "ps6RuXYNUf-q",
        "colab_type": "text"
      },
      "source": [
        "__Numeric Method:__\n",
        "\n",
        "As we have shown before,\n",
        "$$ \\hat v_{OMC} = \\frac{1}{n} \\sum_{i=1}^n I(X_i<-2),$$\n",
        "and\n",
        "$$ \\hat v_{IS} = \\frac{1}{n} \\sum_{i=1}^n I(Y_i<-2) \\cdot e^{\\frac{1}{2}\\alpha^2 + \\alpha Y_i}.$$\n",
        "Both $v_{OMC}$ and $v_{IS}$ are unbiased, thus we can deduce that\n",
        "\n",
        "\\begin{equation}\n",
        "\\begin{aligned}\n",
        "\\mathrm{MSE}(\\hat v_{OMC}) &= Var(\\hat v_{OMC}) \\\\\n",
        "&= \\frac{1}{n} \\left( \\mathbb E[I(X_i<-2)^2] - (\\mathbb E[I(X_i<-2)])^2 \\right) \\\\\n",
        "&= \\frac{1}{n}(\\Phi(-2) - \\Phi(-2)^2) \\\\\n",
        "\\mathrm{MSE}(\\hat v_{IS}) &=  Var(\\hat v_{IS}) \\\\\n",
        "&= \\frac{1}{n} \\left( \\mathbb{E} [I(Y_{i} < - 2) e^{\\alpha^{2} + 2 \\alpha Y_{i}}] - \\Phi^{2}(-2) \\right) \\\\\n",
        "\\end{aligned}\n",
        "\\end{equation}\n",
        "\n",
        "Now we calculate the right hand side of the last equation:\n",
        "\n",
        "\\begin{equation}\n",
        "\\begin{aligned}\n",
        "\\mathbb{E} [I(Y_{i} < - 2) e^{\\alpha^{2} + 2 \\alpha Y_{i}}] &= \\int_{- \\infty}^{-2} e^{\\alpha^{2}+ 2 \\alpha y}  \\frac{1}{\\sqrt{2 \\pi}} e^{- \\frac{(y + \\alpha)^2}{2}} \\mathrm{d} y \\\\\n",
        "&= \\int_{- \\infty}^{-2} \\frac{1}{\\sqrt{2 \\pi}} e^{- \\frac{y^{2} - \\alpha y - \\alpha^{2}}{2}} \\mathrm{d} y \\\\\n",
        "&= \\int_{- \\infty}^{-2} \\frac{1}{\\sqrt{2 \\pi}} e^{- \\frac{(y - \\alpha)^{2}}{2}}  e^{\\alpha^{2}} \\mathrm{d} y  \\\\\n",
        "&= e^{\\alpha^{2}} \\cdot \\Phi(-2-\\alpha), \\\\\n",
        "\\end{aligned}\n",
        "\\end{equation}\n",
        "\n",
        "Thus, we will have\n",
        "$$\\mathrm{MSE}(\\hat v_{IS}) = \\frac{1}{n} \\left( e^{\\alpha^{2}} \\Phi(-2-\\alpha) - \\Phi^{2}(-2) \\right).$$\n",
        "\n",
        "Therefore,\n",
        "$$\\mathrm{MSE}(\\hat v_{OMC}) - \\mathrm{MSE}(\\hat v_{IS}) = \\frac{1}{n} \\left( \\Phi(-2) - e^{\\alpha^{2}} \\Phi(-2 - \\alpha) \\right) \\ge 0.$$"
      ]
    },
    {
      "cell_type": "code",
      "metadata": {
        "id": "HdKe14V3bEY-",
        "colab_type": "code",
        "outputId": "203375f0-17a4-4249-b101-ea04b1bd66a4",
        "colab": {
          "base_uri": "https://localhost:8080/",
          "height": 102
        }
      },
      "source": [
        "import numpy as np\n",
        "import scipy.stats as ss\n",
        "\n",
        "for alpha in range(5):\n",
        "  diff = ss.norm(0,1).cdf(-2) - np.exp(alpha**2) * ss.norm.cdf(-2-alpha)\n",
        "  print(diff)"
      ],
      "execution_count": 0,
      "outputs": [
        {
          "output_type": "stream",
          "text": [
            "0.0\n",
            "0.019080728658526478\n",
            "0.021020940734838522\n",
            "0.020427370203270685\n",
            "0.01398320509620665\n"
          ],
          "name": "stdout"
        }
      ]
    }
  ]
}