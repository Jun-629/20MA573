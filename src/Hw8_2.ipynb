{
  "nbformat": 4,
  "nbformat_minor": 0,
  "metadata": {
    "colab": {
      "name": "Hw8_2.ipynb",
      "provenance": [],
      "authorship_tag": "ABX9TyMqSlR36N5ArdfxfZZwnoYB",
      "include_colab_link": true
    },
    "kernelspec": {
      "name": "python3",
      "display_name": "Python 3"
    }
  },
  "cells": [
    {
      "cell_type": "markdown",
      "metadata": {
        "id": "view-in-github",
        "colab_type": "text"
      },
      "source": [
        "<a href=\"https://colab.research.google.com/github/Jun-629/20MA573/blob/master/src/Hw8_2.ipynb\" target=\"_parent\"><img src=\"https://colab.research.google.com/assets/colab-badge.svg\" alt=\"Open In Colab\"/></a>"
      ]
    },
    {
      "cell_type": "markdown",
      "metadata": {
        "id": "5UMaCQsFmlIH",
        "colab_type": "text"
      },
      "source": [
        "- (i) Prove that $$u(x) = x - \\frac{exp(\\frac{x-1}{\\sqrt\\epsilon}) - exp(-\\frac{x+1}{\\sqrt\\epsilon})}{1-exp(-\\frac{2}{\\sqrt\\epsilon})}$$ is the unique solution.\n",
        "\n",
        "__Pf:__\n",
        "\n",
        "By calculation, we will have\n",
        "$$u'(x) = 1 - \\frac{exp(\\frac{x-1}{\\sqrt\\epsilon}) \\cdot \\frac{1}{\\sqrt\\epsilon} - exp(-\\frac{x+1}{\\sqrt\\epsilon}) \\cdot (-\\frac{1}{\\sqrt\\epsilon})}{1-exp(-\\frac{2}{\\sqrt\\epsilon})}, $$\n",
        "and\n",
        "$$u''(x) = - \\frac{exp(\\frac{x-1}{\\sqrt\\epsilon}) \\cdot \\frac{1}{\\epsilon} - exp(-\\frac{x+1}{\\sqrt\\epsilon}) \\cdot \\frac{1}{\\epsilon}}{1-exp(-\\frac{2}{\\sqrt\\epsilon})}. $$\n",
        "Thus,\n",
        "$$L.H.S = \\frac{exp(\\frac{x-1}{\\sqrt\\epsilon}) - exp(-\\frac{x+1}{\\sqrt\\epsilon})}{1-exp(-\\frac{2}{\\sqrt\\epsilon})} + u(x) = x.$$"
      ]
    },
    {
      "cell_type": "markdown",
      "metadata": {
        "id": "xedYpNThp27s",
        "colab_type": "text"
      },
      "source": [
        " - (ii) Using CFD on (1), find out the matrix $L^h$ and vector $R^hf$, such that the numerical solution satisfies $L^hu^h = R^hf$.\n",
        "\n",
        " __Soln:__\n",
        "\n",
        "Compare with $\\star 1$, we have $b = 0, c = 1/\\epsilon$, where $\\epsilon = 10^{-10}.$\n",
        "\n",
        "Then using the equation:\n",
        "\\begin{cases}\n",
        "r_i = \\frac{1}{h^2} + \\frac{b_i}{2h} \\\\\n",
        "s_i = \\frac{2}{h^2} + c_i \\\\\n",
        "t_i = \\frac{1}{h^2} -\\frac{b_i}{2h}, \\\\\n",
        "\\end{cases}\n",
        "\n",
        "We have\n",
        "\\begin{cases}\n",
        "r = N^2 \\\\\n",
        "s = 2N^2 + 1/\\epsilon \\\\\n",
        "t = N^2 \\\\\n",
        "\\end{cases}\n",
        "(Assuming that $h = \\frac{1}{N}$.)\n",
        "\n",
        "Thus,\n",
        "$$L^h = \\begin{pmatrix}\n",
        "1 & 0 & 0 & 0 & \\cdots & 0 & 0 & 0 \\\\\n",
        "-r & s & -t & 0 & \\cdots & 0 & 0 & 0 \\\\\n",
        "0 & -r & s & -t & \\cdots & 0 & 0 & 0 \\\\\n",
        "\\vdots & \\vdots & \\vdots & \\vdots & \\ddots & \\vdots & \\vdots & \\vdots \\\\\n",
        "0 & 0 & 0 & 0 & \\cdots & -r & s & -t \\\\\n",
        "0 & 0 & 0 & 0 & \\cdots & 0 & 0 & 1 \\\\\n",
        "\\end{pmatrix}$$\n",
        "and\n",
        "$$R^hf = (0,\\frac{1}{N\\epsilon},\\frac{2}{N\\epsilon}, ... , \\frac{N-1}{N\\epsilon},0)^T.$$"
      ]
    },
    {
      "cell_type": "markdown",
      "metadata": {
        "id": "oyYyCsp-vrhV",
        "colab_type": "text"
      },
      "source": [
        "- See question (iii) on pdf\n"
      ]
    },
    {
      "cell_type": "code",
      "metadata": {
        "id": "nPkyv0mMui9e",
        "colab_type": "code",
        "colab": {
          "base_uri": "https://localhost:8080/",
          "height": 34
        },
        "outputId": "ad9fad09-7047-47b7-e9ad-7e15152fd813"
      },
      "source": [
        "import numpy as np\n",
        "import scipy.linalg as sl\n",
        "\n",
        "N = 5\n",
        "eps = 10**(-10)\n",
        "r = N*N\n",
        "s = 2*N*N + 1/eps\n",
        "t = N*N\n",
        "\n",
        "f = [x/5/eps for x in range(1,5)]\n",
        "\n",
        "Lh = np.array([[1, 0, 0 ,0, 0, 0], [-r, s, -t, 0, 0, 0],[0, -r, s, -t, 0, 0], [0, 0, -r, s, -t, 0], [0, 0, 0, -r, s, -t], [0, 0, 0 ,0, 0, 1]])\n",
        "Rf = np.array([0, f[0], f[1], f[2], f[3], 0])\n",
        "uh = sl.solve(Lh, Rf)\n",
        "print(uh)"
      ],
      "execution_count": 4,
      "outputs": [
        {
          "output_type": "stream",
          "text": [
            "[-0.   0.2  0.4  0.6  0.8  0. ]\n"
          ],
          "name": "stdout"
        }
      ]
    }
  ]
}