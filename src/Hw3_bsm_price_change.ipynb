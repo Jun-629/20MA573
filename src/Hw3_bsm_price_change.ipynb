{
  "nbformat": 4,
  "nbformat_minor": 0,
  "metadata": {
    "colab": {
      "name": "bsm price change.ipynb",
      "provenance": [],
      "authorship_tag": "ABX9TyNfzR8qybKUbwgB69OxerqN",
      "include_colab_link": true
    },
    "kernelspec": {
      "name": "python3",
      "display_name": "Python 3"
    }
  },
  "cells": [
    {
      "cell_type": "markdown",
      "metadata": {
        "id": "view-in-github",
        "colab_type": "text"
      },
      "source": [
        "<a href=\"https://colab.research.google.com/github/Jun-629/20MA573/blob/master/src/bsm_price_change.ipynb\" target=\"_parent\"><img src=\"https://colab.research.google.com/assets/colab-badge.svg\" alt=\"Open In Colab\"/></a>"
      ]
    },
    {
      "cell_type": "markdown",
      "metadata": {
        "id": "TfXeleoEl_Xa",
        "colab_type": "text"
      },
      "source": [
        "**Consider** an european option with\n",
        "- call type\n",
        "- strike = 110\n",
        "- maturity = T\n",
        "underlying a Gbm stock with\n",
        "- initial: 100\n",
        "- interest rate: 4.75%\n",
        "- vol ratio: $\\sigma$\n",
        "\n",
        "We denote this bsm price by $f(\\sigma, T)$.\n",
        "\n",
        "- Let $\\sigma = 20\\%$ fixed. plot $T \\mapsto f(0.2, T)$ when $T$ is ranging over $(0.5, 2)$.\n",
        "\n",
        "- Let $T = 1$ fixed. plot $\\sigma \\mapsto f(\\sigma, 1)$ when $\\sigma$ is ranging over $(.05, 0.5)$\n",
        "\n",
        "- Describe your observations. Do you think the same behavior is also true for put?\n",
        "\n",
        "- Could you prove your observations?"
      ]
    },
    {
      "cell_type": "code",
      "metadata": {
        "id": "GHhT0WZvowuD",
        "colab_type": "code",
        "colab": {}
      },
      "source": [
        "import scipy.stats as stats\n",
        "\n",
        "class VanillaOption:\n",
        "    def __init__(\n",
        "        self,\n",
        "        otype = 1, # 1: 'call'   -1: 'put'\n",
        "        strike = 110.,\n",
        "        maturity = 1.,\n",
        "        market_price = 10.):\n",
        "      self.otype = otype\n",
        "      self.strike = strike\n",
        "      self.maturity = maturity\n",
        "      self.market_price = market_price\n",
        "\n",
        "class Gbm:\n",
        "    def __init__(self, init_state = 100., drift_ratio = .0475, vol_ratio = .2):\n",
        "        self.init_state = init_state\n",
        "        self.drift_ratio = drift_ratio\n",
        "        self.vol_ratio = vol_ratio\n",
        "\n",
        "def bsm_price(self, vanilla_option):\n",
        "    s0 = self.init_state\n",
        "    sigma = self.vol_ratio\n",
        "    r = self.drift_ratio\n",
        "    \n",
        "    otype = vanilla_option.otype\n",
        "    k = vanilla_option.strike\n",
        "    maturity = vanilla_option.maturity\n",
        "    \n",
        "    d1 = (np.log(s0 / k) + (r + 0.5 * sigma ** 2) * maturity) / (sigma * np.sqrt(maturity))\n",
        "    d2 = d1 - sigma * np.sqrt(maturity)\n",
        "    \n",
        "    return (otype * s0 * stats.norm.cdf(otype * d1) - otype * np.exp(-r * maturity) * k * stats.norm.cdf(otype * d2))\n",
        "\n",
        "Gbm.bsm_price = bsm_price"
      ],
      "execution_count": 0,
      "outputs": []
    },
    {
      "cell_type": "markdown",
      "metadata": {
        "id": "EePe6JgSmCV4",
        "colab_type": "text"
      },
      "source": [
        "**Soln:**\n",
        "- Let $\\sigma = 20\\%$ fixed. plot $T \\mapsto f(0.2, T)$ when $T$ is ranging over $(0.5, 2)$."
      ]
    },
    {
      "cell_type": "code",
      "metadata": {
        "id": "DGAx9frDr0bw",
        "colab_type": "code",
        "colab": {
          "base_uri": "https://localhost:8080/",
          "height": 282
        },
        "outputId": "10cff9c0-3d08-4138-fc2d-44c2b529e347"
      },
      "source": [
        "import numpy as np\n",
        "import matplotlib.pyplot as plt\n",
        "\n",
        "T = np.arange(0.5,2.1,0.1)\n",
        "gbm1 = Gbm()\n",
        "option1 = VanillaOption(otype=1, strike=110, maturity=T)\n",
        "BS_price1 = gbm1.bsm_price(option1)\n",
        "\n",
        "plt.plot(T, BS_price1, label = 'BSM price of f(0.2, T=(0.5,2.0))')\n",
        "plt.legend()"
      ],
      "execution_count": 9,
      "outputs": [
        {
          "output_type": "execute_result",
          "data": {
            "text/plain": [
              "<matplotlib.legend.Legend at 0x7f939f0a4be0>"
            ]
          },
          "metadata": {
            "tags": []
          },
          "execution_count": 9
        },
        {
          "output_type": "display_data",
          "data": {
            "image/png": "[encoded data removed]",
            "text/plain": [
              "<Figure size 432x288 with 1 Axes>"
            ]
          },
          "metadata": {
            "tags": []
          }
        }
      ]
    },
    {
      "cell_type": "markdown",
      "metadata": {
        "colab_type": "text",
        "id": "GkUKQckLv_FJ"
      },
      "source": [
        "- Let $T = 1$ fixed. plot $\\sigma \\mapsto f(\\sigma, 1)$ when $\\sigma$ is ranging over $(.05, 0.5)$"
      ]
    },
    {
      "cell_type": "code",
      "metadata": {
        "id": "9t1O6DGmwAH3",
        "colab_type": "code",
        "colab": {
          "base_uri": "https://localhost:8080/",
          "height": 282
        },
        "outputId": "8e64d761-9ed6-45ff-e07f-5d11af6db6d4"
      },
      "source": [
        "sigma = np.arange(0.05, 0.53, 0.03)\n",
        "\n",
        "gbm2 = Gbm(100., .0475, sigma)\n",
        "option2 = VanillaOption()\n",
        "BS_price2 = gbm2.bsm_price(option2)\n",
        "\n",
        "plt.plot(sigma, BS_price2, label = 'BSM price of f(σ=(0.05,0.5),1)')\n",
        "plt.legend()"
      ],
      "execution_count": 10,
      "outputs": [
        {
          "output_type": "execute_result",
          "data": {
            "text/plain": [
              "<matplotlib.legend.Legend at 0x7f939f0a4518>"
            ]
          },
          "metadata": {
            "tags": []
          },
          "execution_count": 10
        },
        {
          "output_type": "display_data",
          "data": {
            "image/png": "[encoded data removed]",
            "text/plain": [
              "<Figure size 432x288 with 1 Axes>"
            ]
          },
          "metadata": {
            "tags": []
          }
        }
      ]
    },
    {
      "cell_type": "markdown",
      "metadata": {
        "id": "p0v1o9_9Bcx2",
        "colab_type": "text"
      },
      "source": [
        "__Observation:__\n",
        "\n",
        "**1.** For the fixed volatility $\\sigma$, with the increasing of maturity time, the bsm price of call option increases.\n",
        "\n",
        "**2.** For the fixed time, with the increasing of volatility $\\sigma$, the bsm price of call option increases.\n",
        "\n",
        "The put option shares the same conclusion in **observation 2.** as the call option."
      ]
    },
    {
      "cell_type": "markdown",
      "metadata": {
        "colab_type": "text",
        "id": "7kiRwyiWZjmu"
      },
      "source": [
        "__Pf:__\n",
        "\n",
        "Firstly, we will show the counter example of **observation 1.** for the put option."
      ]
    },
    {
      "cell_type": "code",
      "metadata": {
        "id": "m7qVoisVXzWF",
        "colab_type": "code",
        "colab": {
          "base_uri": "https://localhost:8080/",
          "height": 282
        },
        "outputId": "11d1f2c4-6b71-42e5-aebd-11c1660c4905"
      },
      "source": [
        "T = np.arange(0.2,4.,0.1)\n",
        "gbm1 = Gbm()\n",
        "option3 = VanillaOption(otype=-1, strike=110, maturity=T)\n",
        "BS_price1 = gbm1.bsm_price(option3)\n",
        "\n",
        "plt.plot(T, BS_price1, label = 'BSM price of f(0.2, T=(0.5,2.0))')\n",
        "plt.legend()"
      ],
      "execution_count": 11,
      "outputs": [
        {
          "output_type": "execute_result",
          "data": {
            "text/plain": [
              "<matplotlib.legend.Legend at 0x7f939efe1c50>"
            ]
          },
          "metadata": {
            "tags": []
          },
          "execution_count": 11
        },
        {
          "output_type": "display_data",
          "data": {
            "image/png": "[encoded data removed]",
            "text/plain": [
              "<Figure size 432x288 with 1 Axes>"
            ]
          },
          "metadata": {
            "tags": []
          }
        }
      ]
    },
    {
      "cell_type": "markdown",
      "metadata": {
        "id": "NxaeMKyIZll0",
        "colab_type": "text"
      },
      "source": [
        "The plot shows that when maturity time is big enough, the bsm price of put option will decrease as the maturity time increases.\n",
        "\n",
        "Now we will prove the **observation 1.** and the same conclusion for the put option.\n",
        "\n",
        "Due to the Put-Call parity $$C_t - P_t =  S(t) - Ke^{-r(T-t)} ,$$\n",
        "when $C_t$ increases as the volatility increases, $P_t$ has to increase since $S(t) - Ke^{-r(T-t)}$ is a constant, which means that we just need to prove the **observation 1.**.\n",
        "\n",
        "$$C_t = \\mathbb E [e^{-r(T-t)} (S(T-t) - K)^+] = S_t  \\Phi(d_1) - K e^{-r(T-t)} \\Phi(d_2),$$\n",
        "where $d_i$ are given as\n",
        "$$d_1 = \\frac{(r + \\frac 1 2 \\sigma^2) T - \\ln \\frac{K}{S_0}}{\\sigma \\sqrt T},$$\n",
        "and\n",
        "$$d_2 = \\frac{(r - \\frac 1 2 \\sigma^2) T - \\ln \\frac{K}{S_0}}{\\sigma \\sqrt T} = d_1 - \\sigma \\sqrt T.$$\n",
        "Without loss of generality, assuming that $t = 0$, then we will have\n",
        "$$C_0 = \\mathbb E [e^{-rT} (S(T) - K)^+] = S_0  \\Phi(d_1) - K e^{-rT} \\Phi(d_2),$$\n",
        "thus\n",
        "\\begin{equation}\n",
        "\\begin{split}\n",
        "\\frac{\\partial C_0}{\\partial \\sigma} &= S_0 \\frac{\\partial \\Phi(d_1)}{\\partial \\sigma} - K e^{-rT} \\frac{\\partial \\Phi(d_2)}{\\partial \\sigma}  \\\\\n",
        "&= S_0 \\Phi'(d_1) \\frac{\\partial d_1}{\\partial \\sigma} -  K e^{-rT} \\Phi'(d_2) (\\frac{\\partial d_1}{\\partial \\sigma} - \\sqrt T) \\\\\n",
        "\\frac{\\partial d_1}{\\partial \\sigma} &= \\frac{1}{\\sqrt T}\\frac{\\sigma T \\cdot \\sigma - [(r + \\frac 1 2 \\sigma^2) T - \\ln \\frac{K}{S_0}]}{\\sigma^2} \\\\\n",
        "&= \\sqrt T - \\frac{d_1}{\\sigma} \\\\\n",
        "\\Phi'(d_i) &= \\frac{1}{\\sqrt {2\\pi}}e^{-\\frac{d_i^2}{2}}, i = 1,2\n",
        "\\end{split}\n",
        "\\end{equation}\n",
        "then by calculation, we will have \n",
        "\\begin{equation}\n",
        "\\begin{split}\n",
        "\\frac{\\partial C_0}{\\partial \\sigma} &= \\frac{1}{\\sqrt {2\\pi}} [S_0 \\cdot e^{-\\frac{d_1^2}{2}} \\cdot (\\sqrt T - \\frac{d_1}{\\sigma}) + K e^{-rT} \\cdot e^{-\\frac{d_1^2 - 2\\sigma \\sqrt T d_1 + \\sigma^2 T}{2}} \\cdot \\frac{d_1}{\\sigma}] \\\\\n",
        "&= \\frac{1}{\\sqrt {2\\pi}} e^{-\\frac{d_1^2}{2}} [S_0 \\cdot (\\sqrt T - \\frac{d_1}{\\sigma}) + K e^{-rT} \\cdot \\frac{d_1}{\\sigma} \\cdot e^{\\sigma \\sqrt T d_1 - \\frac{\\sigma^2 T}{2}}] \\\\\n",
        "&= \\frac{1}{\\sqrt {2\\pi}} e^{-\\frac{d_1^2}{2}} [S_0 \\cdot (\\sqrt T - \\frac{d_1}{\\sigma}) + K e^{-rT} \\cdot \\frac{d_1}{\\sigma} \\cdot e^{rT - ln{\\frac{K}{S_0}}}]\\\\\n",
        "&= \\frac{1}{\\sqrt {2\\pi}} e^{-\\frac{d_1^2}{2}} [S_0 \\cdot (\\sqrt T - \\frac{d_1}{\\sigma}) + K \\cdot \\frac{d_1}{\\sigma} \\cdot e^{ln{\\frac{S_0}{K}}}] \\\\\n",
        "&= \\frac{1}{\\sqrt {2\\pi}} e^{-\\frac{d_1^2}{2}} \\cdot S_0 \\cdot \\sqrt T > 0\n",
        "\\end{split}\n",
        "\\end{equation}\n",
        "Since every term of right hand side of the equation is positive, which means the BSM price increases with the increasing of volatility $\\sigma$.\n",
        "\n",
        "__Q.E.D.__\n",
        "\n",
        "\n"
      ]
    }
  ]
}
