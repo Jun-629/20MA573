{
  "nbformat": 4,
  "nbformat_minor": 0,
  "metadata": {
    "kernelspec": {
      "display_name": "Python 3",
      "language": "python",
      "name": "python3"
    },
    "language_info": {
      "codemirror_mode": {
        "name": "ipython",
        "version": 3
      },
      "file_extension": ".py",
      "mimetype": "text/x-python",
      "name": "python",
      "nbconvert_exporter": "python",
      "pygments_lexer": "ipython3",
      "version": "3.7.4"
    },
    "colab": {
      "name": "hw1_grid_random_walk_01.ipynb",
      "provenance": [],
      "include_colab_link": true
    }
  },
  "cells": [
    {
      "cell_type": "markdown",
      "metadata": {
        "id": "view-in-github",
        "colab_type": "text"
      },
      "source": [
        "<a href=\"https://colab.research.google.com/github/Jun-629/20MA573/blob/master/src/hw1_grid_random_walk_01.ipynb\" target=\"_parent\"><img src=\"https://colab.research.google.com/assets/colab-badge.svg\" alt=\"Open In Colab\"/></a>"
      ]
    },
    {
      "cell_type": "markdown",
      "metadata": {
        "id": "u9MN6jM_31zh",
        "colab_type": "text"
      },
      "source": [
        "# Escaping from a Gridworld \n",
        "\n",
        "We will take n dimensional gridworld of any shape as our experimental environment. Read and understand the code in the following shell. Then proceed to next questions."
      ]
    },
    {
      "cell_type": "code",
      "metadata": {
        "id": "2pYVelLG31zj",
        "colab_type": "code",
        "colab": {}
      },
      "source": [
        "import random\n",
        "\n",
        "class grid:\n",
        "    def __init__(self, shape = (5, 5)):     #内置方法：_init_方法：绑定属性，第一参数必是self，指创建的类实例本身\n",
        "        self.n_dim = len(shape)\n",
        "        self.shape = shape\n",
        "        print('>>> grid world shape is: '+str(shape))\n",
        "        # https://blog.csdn.net/CLHugh/article/details/75000104  : explain the \"self\"\n",
        "\n",
        "    def is_interior(self,ix):\n",
        "        return all([0.<a<b-1 for a,b in zip(ix,list(self.shape))])\n",
        "        # a=2 b=5 ; a=3 b=5\n",
        "\n",
        "    #input: lists of index\n",
        "    #return: running cost, list of next index, list of probability\n",
        "    def step(self, ix):\n",
        "        run_cost = 0.                \n",
        "        ix_next = []; pr_next= []\n",
        "        if self.is_interior(ix):\n",
        "            run_cost = 1.\n",
        "            for i in range(self.n_dim):\n",
        "                ix1 = ix.copy(); ix1[i]+=1; ix_next += [ix1,]\n",
        "                pr1 = 1./(self.n_dim*2.0) \n",
        "                pr_next += [pr1,]\n",
        "            for i in range(self.n_dim):\n",
        "                ix1 = ix.copy(); ix1[i]-=1; ix_next += [ix1,]\n",
        "                pr1 = 1./(self.n_dim*2.0) \n",
        "                pr_next += [pr1,]\n",
        "     \n",
        "        return run_cost, ix_next, pr_next\n",
        "    \n",
        "    def step_random(self, ix):\n",
        "        run_cost, ix_next, pr_next = self.step(ix)\n",
        "        ix_next_rd = random.choices(ix_next, pr_next, k = 1)\n",
        "        return run_cost, ix_next_rd[0]\n",
        "        #从集群中随机选取k次数据，返回一个列表，可以设置权重。\n",
        "        #注意每次选取都不会影响原序列，每一次选取都是基于原序列。\n"
      ],
      "execution_count": 0,
      "outputs": []
    },
    {
      "cell_type": "markdown",
      "metadata": {
        "id": "ElXTrQcN31zm",
        "colab_type": "text"
      },
      "source": [
        "- Explain the meaning of each output from the next shell\n",
        "- (Your answer)\n",
        "\n",
        "- 1、Since we have defined g1, the first line of the output shows the shape of this grid because of the definition of \"__ init __\"\n",
        "- 2、It shows that the point [2,3] is in this grid\n",
        "- 3、the run_cost of this trial equals to 1.0\n",
        "- 4、list all the possible indexes of the next step, the first one is ix1[1]+1 and ix1[2] does not change, the second one is ix1[2]+1 and ix1[1] does not change, the last two are similar to the former, except that the number is made to substraction.\n",
        "- 5、the probability of these four results, since they share the same self.n_dim, they have the same prob.\n",
        "- 6、Shows that we will take another try\n",
        "- 7、Shows that the index [1,4] is not in this grid\n",
        "- 8、Since [1,4] is not in this grid, self.is_interior returns false, then \n",
        "\n",
        "  run_cost = 0.;ix_next = []; pr_next= []"
      ]
    },
    {
      "cell_type": "code",
      "metadata": {
        "id": "FP9lpgug31zn",
        "colab_type": "code",
        "outputId": "75386a0e-dd45-4246-f4db-b6bf5b290999",
        "colab": {
          "base_uri": "https://localhost:8080/",
          "height": 187
        }
      },
      "source": [
        "\n",
        "#####check\n",
        "g1 = grid(shape=(5,5))\n",
        "ix1 = [2,3]\n",
        "\n",
        "print('>>>', g1.is_interior(ix1))\n",
        "o1, o2, o3 = g1.step(ix1)\n",
        "print('>>>', o1, '\\n', o2, '\\n', o3)\n",
        "print('>>>>>>>>><<<<<<<<<<')\n",
        "ix2 = [1,4]\n",
        "print('>>>', g1.is_interior(ix2))\n",
        "o1, o2, o3 = g1.step(ix2)\n",
        "print('>>>', o1, '\\n', o2, '\\n', o3)\n"
      ],
      "execution_count": 0,
      "outputs": [
        {
          "output_type": "stream",
          "text": [
            ">>> grid world shape is: (5, 5)\n",
            ">>> True\n",
            ">>> 1.0 \n",
            " [[3, 3], [2, 4], [1, 3], [2, 2]] \n",
            " [0.25, 0.25, 0.25, 0.25]\n",
            ">>>>>>>>><<<<<<<<<<\n",
            ">>> False\n",
            ">>> 0.0 \n",
            " [] \n",
            " []\n"
          ],
          "name": "stdout"
        }
      ]
    },
    {
      "cell_type": "markdown",
      "metadata": {
        "id": "tBykceLL31zp",
        "colab_type": "text"
      },
      "source": [
        "- Explain the meaning of each output from the next shell\n",
        "- (Your answer)\n",
        "- 1、After the first step, the index becomes [3,2]\n",
        "- 2、After the second step, the index becomes [4,2]\n",
        "- 3、Since one of the number of the index become 4, which means \"all(a<b-1)\" equals to false, so that stop the \"while statement\"\n",
        "\n",
        "and we can get that tot_cost = 2"
      ]
    },
    {
      "cell_type": "code",
      "metadata": {
        "id": "kmGX_U0G31zq",
        "colab_type": "code",
        "outputId": "91a1712b-5704-4945-a287-da5430e829cc",
        "colab": {
          "base_uri": "https://localhost:8080/",
          "height": 68
        }
      },
      "source": [
        "#import ipdb\n",
        "\n",
        "ix = [2,2]\n",
        "tot_cost = 0.\n",
        "while g1.is_interior(ix):\n",
        "    #ipdb.set_trace()\n",
        "    run_cost, ix = g1.step_random(ix)\n",
        "    print('>>>', ix)\n",
        "    tot_cost+=run_cost\n",
        "    \n",
        "print('>>>', tot_cost)"
      ],
      "execution_count": 0,
      "outputs": [
        {
          "output_type": "stream",
          "text": [
            ">>> [2, 1]\n",
            ">>> [2, 0]\n",
            ">>> 2.0\n"
          ],
          "name": "stdout"
        }
      ]
    },
    {
      "cell_type": "markdown",
      "metadata": {
        "id": "tBtCLVjn31zs",
        "colab_type": "text"
      },
      "source": [
        "- Consider a grid world of shape (4,4). This means, the agent's state belongs to the state space of $\\{0,1,2,3,4\\}\\times \\{0,1,2,3,4\\}$. A state $(a,b)$ is called a boundary if one of its coordinate is either $0$ or $4$. Otherwise, the state is called interior. An agent moves a random walk in the grid world from initial state $(2,2)$. Use your math to find the expected number of steps to reach the boundary."
      ]
    },
    {
      "cell_type": "markdown",
      "metadata": {
        "id": "i27xLOay31zt",
        "colab_type": "text"
      },
      "source": [
        "- (your answer)\n",
        "- 4.5"
      ]
    },
    {
      "cell_type": "markdown",
      "metadata": {
        "id": "cKCmu-qT31zu",
        "colab_type": "text"
      },
      "source": [
        "- Use your code to verify your answer."
      ]
    },
    {
      "cell_type": "markdown",
      "metadata": {
        "id": "sW5v3SZS31zv",
        "colab_type": "text"
      },
      "source": [
        "#your code \n",
        "pass"
      ]
    },
    {
      "cell_type": "code",
      "metadata": {
        "id": "rQ7s9csz9_1N",
        "colab_type": "code",
        "outputId": "12f05732-7142-4a57-efc7-e27a01b1a1a2",
        "colab": {
          "base_uri": "https://localhost:8080/",
          "height": 34
        }
      },
      "source": [
        "def steps():\n",
        "  ix = [2,2]\n",
        "  tot_cost = 0.\n",
        "  while g1.is_interior(ix):\n",
        "    run_cost, ix = g1.step_random(ix)\n",
        "    tot_cost+=run_cost\n",
        "  return tot_cost\n",
        "\n",
        "tot_steps = 0.\n",
        "num_try = 500000\n",
        "for i in range(num_try):\n",
        "  tot_steps += steps()\n",
        "E_X = tot_steps/num_try\n",
        "\n",
        "print(\"the expexted number of steps to reach the boundary is\",\"%.1f\" % E_X)"
      ],
      "execution_count": 0,
      "outputs": [
        {
          "output_type": "stream",
          "text": [
            "the expexted number of steps to reach the boundary is 4.5\n"
          ],
          "name": "stdout"
        }
      ]
    }
  ]
}