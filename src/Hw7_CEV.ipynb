{
  "nbformat": 4,
  "nbformat_minor": 0,
  "metadata": {
    "colab": {
      "name": "Hw7.ipynb",
      "provenance": [],
      "authorship_tag": "ABX9TyNUK6p9/j+js2EPOmqQUCrG",
      "include_colab_link": true
    },
    "kernelspec": {
      "name": "python3",
      "display_name": "Python 3"
    }
  },
  "cells": [
    {
      "cell_type": "markdown",
      "metadata": {
        "id": "view-in-github",
        "colab_type": "text"
      },
      "source": [
        "<a href=\"https://colab.research.google.com/github/Jun-629/20MA573/blob/master/src/Hw7_CEV.ipynb\" target=\"_parent\"><img src=\"https://colab.research.google.com/assets/colab-badge.svg\" alt=\"Open In Colab\"/></a>"
      ]
    },
    {
      "cell_type": "code",
      "metadata": {
        "id": "RJ4md7-WPTC1",
        "colab_type": "code",
        "colab": {
          "base_uri": "https://localhost:8080/",
          "height": 408
        },
        "outputId": "c0030817-b7c7-4c73-ccce-035c1eedd99e"
      },
      "source": [
        "%cd~\n",
        "\n",
        "!git clone https://github.com/Jun-629/20MA573.git \n",
        "pass\n",
        "\n",
        "%cd 20MA573/src/\n",
        "%ls\n",
        "\n",
        "from bsm import *"
      ],
      "execution_count": 2,
      "outputs": [
        {
          "output_type": "stream",
          "text": [
            "/root\n",
            "fatal: destination path '20MA573' already exists and is not an empty directory.\n",
            "/root/20MA573/src\n",
            "bsm.py\n",
            "hw1_grid_random_walk.ipynb\n",
            "Hw2_finite_difference.ipynb\n",
            "Hw2_pdf.ipynb\n",
            "Hw3_bsm_price_change.ipynb\n",
            "Hw3_Explicit_bsm_greeks.ipynb\n",
            "Hw3_implied_volatility.ipynb\n",
            "Hw3_payoff_structure_of_option_combinations.ipynb\n",
            "Hw4_BSM_Calibration.ipynb\n",
            "Hw4_bsm_draft.ipynb\n",
            "Hw4_Monotonicity_in_volatility.ipynb\n",
            "Hw5_Monte_Carlo.ipynb\n",
            "Hw5_Pseudocode.pdf\n",
            "Hw6_BM1D.ipynb\n",
            "Hw6_Geometric_Brownian_Motion.ipynb\n",
            "Hw6_Pseudocode.pdf\n",
            "optiondata.dat\n",
            "Project_1.ipynb\n",
            "Project_2.ipynb\n",
            "\u001b[0m\u001b[01;34m__pycache__\u001b[0m/\n"
          ],
          "name": "stdout"
        }
      ]
    },
    {
      "cell_type": "code",
      "metadata": {
        "id": "BjiUxpFhi3pp",
        "colab_type": "code",
        "colab": {
          "base_uri": "https://localhost:8080/",
          "height": 34
        },
        "outputId": "8ca8ec64-1ff9-4fa1-cf08-1155c8a1b757"
      },
      "source": [
        "gbm = Gbm(init_state = 100., drift_ratio = .03, vol_ratio = .1)\n",
        "option1 = VanillaOption(strike=97)\n",
        "BS_price = gbm.bsm_price(option1)\n",
        "print (BS_price)\n",
        "\n",
        "# what does it mean by \"recovering in the question?\""
      ],
      "execution_count": 5,
      "outputs": [
        {
          "output_type": "stream",
          "text": [
            "7.490004085454132\n"
          ],
          "name": "stdout"
        }
      ]
    },
    {
      "cell_type": "code",
      "metadata": {
        "id": "QhWbZrmWm5HQ",
        "colab_type": "code",
        "colab": {
          "base_uri": "https://localhost:8080/",
          "height": 34
        },
        "outputId": "b65b6c73-0a05-4d2c-a775-d5750df80df9"
      },
      "source": [
        "import numpy as np\n",
        "\n",
        "def mu(x, drift):\n",
        "  mu = drift * x\n",
        "  return mu\n",
        "\n",
        "def sigma(vol, x, gamma):\n",
        "  sigma = vol * x**gamma\n",
        "  return sigma\n",
        "\n",
        "def euler(\n",
        "    x,T,N,vol,gamma,\n",
        "    otype = 1,\n",
        "    strike = 97):\n",
        "  delta = T/N\n",
        "  t = np.linspace(0, T, N+1)\n",
        "  x_delta = []\n",
        "  x_delta.append(x)\n",
        "\n",
        "  drift = 0.03\n",
        "  for i in range(N):\n",
        "    Z = np.random.normal(0,1)\n",
        "    x_delta.append(x_delta[i] + mu(x,drift) * delta + sigma(vol, x, gamma) * np.sqrt(delta) * Z)\n",
        "  price = max([0, (x_delta[N] - strike) * otype])\n",
        "  return price\n",
        "\n",
        "print(euler(100,1,1000,0.2,1))"
      ],
      "execution_count": 58,
      "outputs": [
        {
          "output_type": "stream",
          "text": [
            "11.291878740974056\n"
          ],
          "name": "stdout"
        }
      ]
    },
    {
      "cell_type": "code",
      "metadata": {
        "id": "a9z_DwG1pvSA",
        "colab_type": "code",
        "colab": {
          "base_uri": "https://localhost:8080/",
          "height": 51
        },
        "outputId": "1f32146e-f8ac-4bac-b91c-b69e647c3355"
      },
      "source": [
        "option_data1 = np.loadtxt('optiondata.dat', comments='#', delimiter=',')\n",
        "\n",
        "opt_data = option_data1[4:8,]\n",
        "\n",
        "def error_function_2(para):\n",
        "  vol = para[0]\n",
        "  elas = para[1]\n",
        "  error = 0\n",
        "  for i in np.arange(len(opt_data)):\n",
        "    error += (opt_data[i, 3] - euler(100, opt_data[i,1], 1000, vol, elas, opt_data[i, 0], opt_data[i,2]))**2    \n",
        "  return error\n",
        "\n",
        "init_guess = [.1, 1.0] \n",
        "print(\">>> The calibrated volatility and elasticity constant respectively equals to \")\n",
        "print(so.fmin(error_function_2, init_guess, disp = 0))"
      ],
      "execution_count": 78,
      "outputs": [
        {
          "output_type": "stream",
          "text": [
            ">>> The calibrated volatility and elasticity constant respectively equals to \n",
            "[0.10132324 0.97509766]\n"
          ],
          "name": "stdout"
        }
      ]
    }
  ]
}