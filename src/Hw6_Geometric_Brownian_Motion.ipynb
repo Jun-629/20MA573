{
  "nbformat": 4,
  "nbformat_minor": 0,
  "metadata": {
    "colab": {
      "name": "Untitled6.ipynb",
      "provenance": [],
      "authorship_tag": "ABX9TyNk2H0ZYTQmrDrLlRHnKjSQ",
      "include_colab_link": true
    },
    "kernelspec": {
      "name": "python3",
      "display_name": "Python 3"
    }
  },
  "cells": [
    {
      "cell_type": "markdown",
      "metadata": {
        "id": "view-in-github",
        "colab_type": "text"
      },
      "source": [
        "<a href=\"https://colab.research.google.com/github/Jun-629/20MA573/blob/master/src/Hw6_Geometric%20Brownian%20Motion.ipynb\" target=\"_parent\"><img src=\"https://colab.research.google.com/assets/colab-badge.svg\" alt=\"Open In Colab\"/></a>"
      ]
    },
    {
      "cell_type": "markdown",
      "metadata": {
        "id": "pi6iA4ngmhDI",
        "colab_type": "text"
      },
      "source": [
        "- __Example 1：__ \n",
        "\n",
        "Find $logS_t$ for $S \\sim GBM(s,\\mu,\\sigma^2)$, where the dynamics $dS_t = \\mu S_t dt + \\sigma S_t dW_t$ with $S_0 = s.$\n",
        "\n",
        "__Soln:__\n",
        "\n",
        "By using Ito-Doeblin Formula, we have\n",
        "\n",
        "\\begin{equation}\n",
        "\\begin{aligned}\n",
        "dlnS_t &= \\frac{1}{S_t} dS_t - \\frac {1}{2} \\frac{1}{S_t^2} \\cdot \\sigma^2 S_t^2dW_tdW_t \\\\\n",
        "&= \\mu dt + \\sigma dW_t - \\frac{1}{2} \\sigma^2 dt \\\\\n",
        "&= (\\mu -  \\frac{1}{2} \\sigma^2)dt + \\sigma dW_t \\\\\n",
        "\\end{aligned}\n",
        "\\end{equation}\n",
        "\n",
        "Then, transform this integral form into derivative form, we will get that\n",
        "\n",
        "\\begin{equation}\n",
        "\\begin{aligned}\n",
        "lnS_t - lnS_0 &= \\int_0^t (\\mu - \\frac{1}{2} \\sigma^2) \\, ds + \\int_0^t \\sigma dW_s \\\\\n",
        "lnS_t &= lns +  (\\mu - \\frac{1}{2} \\sigma^2) \\cdot t + \\sigma W_t. \\\\\n",
        "\\end{aligned}\n",
        "\\end{equation}"
      ]
    }
  ]
}
