{
  "nbformat": 4,
  "nbformat_minor": 0,
  "metadata": {
    "colab": {
      "name": "bsm_calibration.ipynb",
      "provenance": [],
      "include_colab_link": true
    },
    "kernelspec": {
      "display_name": "Python 3",
      "language": "python",
      "name": "python3"
    },
    "language_info": {
      "codemirror_mode": {
        "name": "ipython",
        "version": 3
      },
      "file_extension": ".py",
      "mimetype": "text/x-python",
      "name": "python",
      "nbconvert_exporter": "python",
      "pygments_lexer": "ipython3",
      "version": "3.6.4"
    }
  },
  "cells": [
    {
      "cell_type": "markdown",
      "metadata": {
        "id": "view-in-github",
        "colab_type": "text"
      },
      "source": [
        "<a href=\"https://colab.research.google.com/github/Jun-629/20MA573/blob/master/src/Hw4_bsm_calibration.ipynb\" target=\"_parent\"><img src=\"https://colab.research.google.com/assets/colab-badge.svg\" alt=\"Open In Colab\"/></a>"
      ]
    },
    {
      "cell_type": "markdown",
      "metadata": {
        "colab_type": "text",
        "id": "VBlkqbgUvQ6k"
      },
      "source": [
        "# Volatility calibration to BSM"
      ]
    },
    {
      "cell_type": "markdown",
      "metadata": {
        "colab_type": "text",
        "id": "gxxtEM40t092"
      },
      "source": [
        "## Abstract\n",
        "\n",
        "- Goal\n",
        "    - Calibrate BSM model for makert price of options\n"
      ]
    },
    {
      "cell_type": "markdown",
      "metadata": {
        "colab_type": "text",
        "id": "Y0jFTVYPt1Ot"
      },
      "source": [
        "## Problem\n",
        "\n",
        "All of pricing models require a set of model parameters in order to fully define the dynamics of each model. The process of adjusting model parameters such that the model prices are compatible with market prices is called **Calibration**. \n",
        "\n",
        "Input:\n",
        "\n",
        "- market prices of several options with different strikes and maturities\n",
        "- spot price\n",
        "- interest rates\n",
        "\n",
        "Output:\n",
        "\n",
        "- Find volatility of BSM model"
      ]
    },
    {
      "cell_type": "markdown",
      "metadata": {
        "colab_type": "text",
        "id": "imn9O8Qcu1iW"
      },
      "source": [
        "## Anal\n",
        "\n",
        "\n",
        "Suppose\n",
        "- Model prameter $\\theta = (\\theta_1, ... \\theta_m)$ is a vector\n",
        "- Prices of $n$ instruments are aviable in the market with its market price of $i$th instrument quoted by $C_i$. \n",
        "Let's denote $C = (C_1, ..., C_n)$ as a market price vector.\n",
        "- In theory, $C_i^\\theta$ is the model price of the $i$th instrument, and they are denoted as a vector $C^\\theta = (C_1^\\theta, ...,  C^\\theta_n)$. \n",
        "\n",
        "Given a distance function $H: \\mathbb R^n \\times \\mathbb R^n \\mapsto \\mathbb R^+$, calibration is to find the parameter $\\theta^*$  which minimize the objective function $H(C^\\theta, C)$, i.e.\n",
        "$$ \\theta^* = \\arg\\min_\\theta H(C^\\theta, C).$$\n",
        "\n",
        "Commonly used distance functions for $H$ are \n",
        "- $H(x, y) = (\\sum_{i=1}^n w_i |x_i - y_i|^p)^{1/p}.$\n",
        "- $H(x, y) = (\\sum_{i=1}^n w_i | \\frac{x_i - y_i}{y_i}|^p)^{1/p}.$ If $p = 2$, $w_i =1$, then $H^2$ is called as SSRE (sum of squred relative errors)\n",
        "- $H(x, y) = (\\sum_{i=1}^n w_i |\\ln x - \\ln y|^p)^{1/p}.$\n",
        "\n",
        "In this below, we are goint to use, the first case of $H$ with $p = 2$ and $w_i = 1$ for all i's."
      ]
    },
    {
      "cell_type": "markdown",
      "metadata": {
        "id": "I7Id5NE-hOaZ",
        "colab_type": "text"
      },
      "source": [
        "# Hw Tasks"
      ]
    },
    {
      "cell_type": "markdown",
      "metadata": {
        "id": "ipfXGogphZ79",
        "colab_type": "text"
      },
      "source": [
        "## Task-1\n",
        "\n",
        "- Upload data from [here](https://github.com/songqsh/20s_ma573/blob/master/src/20optiondata2.dat) to your cloud platform\n",
        "- Calibration/Performance:\n",
        "  - Filter out 2-mon options and calibrate volatility using the distance function\n",
        "$$H(x, y) = (\\sum_{i=1}^n w_i |x_i - y_i|^2)^{1/2}.$$\n",
        "  - Calibrated price for option means the computed option price using calibrated volatility and other parameters given by the market. Compare the market price and calibrated price using a plot of two curves: strike vs market (calibrated) price\n",
        "- Do the same thing for the filter from 5-mon options.\n",
        "- Which calibrated volatility is bigger, 2-mon or 5-mon?\n"
      ]
    },
    {
      "cell_type": "markdown",
      "metadata": {
        "id": "DuovTMczlP_d",
        "colab_type": "text"
      },
      "source": [
        "## Task-2 (optional)\n",
        "Please discuss the validity of the following statements:\n",
        "- Given an underlying asset, options with shorter maturity can be better fitted than a longer maturity.\n",
        "- Suppose Assest1(ex. AAPL) is more liquid than Asset2 (ex. TAL). Then Asset1 can be fit better than Asset2."
      ]
    },
    {
      "cell_type": "code",
      "metadata": {
        "colab_type": "code",
        "id": "UOVUqxlEEqIG",
        "outputId": "3e44345a-8a13-4877-eb44-68154597c024",
        "colab": {
          "base_uri": "https://localhost:8080/",
          "height": 51
        }
      },
      "source": [
        "%cd~\n",
        "\n",
        "!git clone https://github.com/Jun-629/20MA573.git \n",
        "pass"
      ],
      "execution_count": 0,
      "outputs": [
        {
          "output_type": "stream",
          "text": [
            "/root\n",
            "fatal: destination path '20MA573' already exists and is not an empty directory.\n"
          ],
          "name": "stdout"
        }
      ]
    },
    {
      "cell_type": "code",
      "metadata": {
        "id": "rg2izcjAb0yn",
        "colab_type": "code",
        "outputId": "5b3bc7ce-e759-4a5a-c9fe-3deabe23c927",
        "colab": {
          "base_uri": "https://localhost:8080/",
          "height": 238
        }
      },
      "source": [
        "%cd 20MA573/src/\n",
        "%ls\n",
        "\n",
        "from bsm import *"
      ],
      "execution_count": 0,
      "outputs": [
        {
          "output_type": "stream",
          "text": [
            "/root/20MA573/src\n",
            "bsm.py\n",
            "hw1_grid_random_walk.ipynb\n",
            "Hw2_finite_difference.ipynb\n",
            "Hw2_pdf.ipynb\n",
            "Hw3_bsm_price_change.ipynb\n",
            "Hw3_Explicit_bsm_greeks.ipynb\n",
            "Hw3_implied_volatility.ipynb\n",
            "Hw3_payoff_structure_of_option_combinations.ipynb\n",
            "Hw4_Monotonicity_in_volatility.ipynb\n",
            "optiondata.dat\n",
            "Project_1.ipynb\n",
            "Project_2.ipynb\n"
          ],
          "name": "stdout"
        }
      ]
    },
    {
      "cell_type": "code",
      "metadata": {
        "id": "J0_ikDIrc-xj",
        "colab_type": "code",
        "outputId": "e91e0e3c-f89a-4b1f-86e5-2219db6608e0",
        "colab": {
          "base_uri": "https://localhost:8080/",
          "height": 119
        }
      },
      "source": [
        "np_option_data1 = np.loadtxt('optiondata.dat', comments='#', delimiter=',')\n",
        "\n",
        "print('The data of 2-mon options will be shown as follows:')\n",
        "print('>>>otype,         maturity, strike,       option_price')\n",
        "print(np_option_data1[0:4])"
      ],
      "execution_count": 0,
      "outputs": [
        {
          "output_type": "stream",
          "text": [
            "The data of 2-mon options will be shown as follows:\n",
            ">>>otype,         maturity, strike,       option_price\n",
            "[[  1.           0.16666667  97.           5.32705461]\n",
            " [  1.           0.16666667  99.           3.86224255]\n",
            " [  1.           0.16666667 101.           2.7204371 ]\n",
            " [  1.           0.16666667 103.           2.1202793 ]]\n"
          ],
          "name": "stdout"
        }
      ]
    },
    {
      "cell_type": "code",
      "metadata": {
        "id": "HUoYPIImC77r",
        "colab_type": "code",
        "outputId": "9de11a1b-8bc1-44b8-b47b-bb564817e2d3",
        "colab": {
          "base_uri": "https://localhost:8080/",
          "height": 119
        }
      },
      "source": [
        "np_option_data1 = np.loadtxt('optiondata.dat', comments='#', delimiter=',')\n",
        "\n",
        "print('The data of 5-mon options will be shown as follows:')\n",
        "print('>>>otype,         maturity, strike,       option_price')\n",
        "print(np_option_data1[4:8])"
      ],
      "execution_count": 0,
      "outputs": [
        {
          "output_type": "stream",
          "text": [
            "The data of 5-mon options will be shown as follows:\n",
            ">>>otype,         maturity, strike,       option_price\n",
            "[[  1.           0.41666667  97.           7.23756307]\n",
            " [  1.           0.41666667  99.           5.95053461]\n",
            " [  1.           0.41666667 101.           5.2640122 ]\n",
            " [  1.           0.41666667 103.           4.97493422]]\n"
          ],
          "name": "stdout"
        }
      ]
    },
    {
      "cell_type": "code",
      "metadata": {
        "id": "4tO1FcoQc-xl",
        "colab_type": "code",
        "outputId": "682eb7fe-50ba-4f0e-a00a-b737f57fbd93",
        "colab": {
          "base_uri": "https://localhost:8080/",
          "height": 68
        }
      },
      "source": [
        "num_row = np_option_data1.shape[0]\n",
        "option_list = []\n",
        "\n",
        "for i in range(num_row):\n",
        "  option1 = VanillaOption(\n",
        "      otype = np_option_data1[i,0],\n",
        "      strike = np_option_data1[i,2],\n",
        "      maturity = np_option_data1[i,1],\n",
        "      market_price = np_option_data1[i,3]\n",
        "  )   \n",
        "  option_list.append(option1)\n",
        "\n",
        "gbm = Gbm( init_state = 100., drift_ratio = .05, vol_ratio = .1)  \n",
        "\n",
        "#expand one column for vol\n",
        "np_option_data2 = np.append(np_option_data1, np.zeros([num_row,1]), axis = 1)\n",
        "#compute implied vols and add them into the last column\n",
        "for i in range(num_row):\n",
        "  np_option_data2[i,4] = implied_volatility(gbm, option_list[i])\n",
        "\n",
        "IV = np_option_data2[0:8,4]\n",
        "IV_2mon = np_option_data2[0:4,4]\n",
        "IV_5mon = np_option_data2[4:8,4]\n",
        "\n",
        "model_vol = np.arange(0.15, 0.5, 0.00005)\n",
        " \n",
        "# Calculate different B-S price\n",
        "c = 0\n",
        "H_dist_2 = []\n",
        "#BS_price_list = []\n",
        "for i in range(len(model_vol)):\n",
        "  a = 0\n",
        "  for j in range(4):\n",
        "    BS_price = Gbm(100., 0.05, model_vol[i]).bsm_price(option_list[j])\n",
        "    a += (abs(BS_price - np_option_data1[j,3]))**2\n",
        "    #BS_price_list.append(BS_price)\n",
        "  c = np.sqrt(a)\n",
        "  H_dist_2.append(c)\n",
        "min_vol_2 = model_vol[H_dist_2.index(min(H_dist_2))]\n",
        "print('>>> The calibrate volatility of 2 months is ' + str(min_vol_2))\n",
        "\n",
        "c5 = 0\n",
        "H_dist_5 = []\n",
        "for i in range(len(model_vol)):\n",
        "  a5 = 0\n",
        "  for j in range(4):\n",
        "    BS_price_5 = Gbm(100., 0.05, model_vol[i]).bsm_price(option_list[j+4])\n",
        "    a5 += (abs(BS_price_5 - np_option_data1[j+4,3]))**2\n",
        "  c5 = np.sqrt(a5)\n",
        "  H_dist_5.append(c5)  \n",
        "min_vol_5 = model_vol[H_dist_5.index(min(H_dist_5))]\n",
        "print('>>> The calibrate volatility of 5 months is ' + str(min_vol_5))\n",
        "\n",
        "if (min_vol_2 > min_vol_5):\n",
        "  print('calibrated volatility of 2-mon is bigger')\n",
        "else:\n",
        "  print('calibrated volatility of 5-mon is bigger')"
      ],
      "execution_count": 0,
      "outputs": [
        {
          "output_type": "stream",
          "text": [
            ">>> The calibrate volatility of 2 months is 0.18109999999999657\n",
            ">>> The calibrate volatility of 5 months is 0.18399999999999625\n",
            "calibrated volatility of 5-mon is bigger\n"
          ],
          "name": "stdout"
        }
      ]
    },
    {
      "cell_type": "code",
      "metadata": {
        "id": "U7MaN_E5CQ59",
        "colab_type": "code",
        "outputId": "20a58101-6dab-43bd-af27-df2723617266",
        "colab": {
          "base_uri": "https://localhost:8080/",
          "height": 296
        }
      },
      "source": [
        "k = np_option_data1[0:4,2]\n",
        "mak_prc = np_option_data1[0:4,3]\n",
        "plt.plot(k, mak_prc)\n",
        "plt.xlabel('Strike')\n",
        "plt.ylabel('Market Price')"
      ],
      "execution_count": 0,
      "outputs": [
        {
          "output_type": "execute_result",
          "data": {
            "text/plain": [
              "Text(0, 0.5, 'Market Price')"
            ]
          },
          "metadata": {
            "tags": []
          },
          "execution_count": 35
        },
        {
          "output_type": "display_data",
          "data": {
            "image/png": "[encoded data removed]",
            "text/plain": [
              "<Figure size 432x288 with 1 Axes>"
            ]
          },
          "metadata": {
            "tags": []
          }
        }
      ]
    }
  ]
}