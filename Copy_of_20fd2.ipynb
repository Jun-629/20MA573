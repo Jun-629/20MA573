{
  "nbformat": 4,
  "nbformat_minor": 0,
  "metadata": {
    "kernelspec": {
      "display_name": "Python 3",
      "language": "python",
      "name": "python3"
    },
    "language_info": {
      "codemirror_mode": {
        "name": "ipython",
        "version": 3
      },
      "file_extension": ".py",
      "mimetype": "text/x-python",
      "name": "python",
      "nbconvert_exporter": "python",
      "pygments_lexer": "ipython3",
      "version": "3.7.4"
    },
    "colab": {
      "name": "Copy of 20fd2.ipynb",
      "provenance": [],
      "include_colab_link": true
    }
  },
  "cells": [
    {
      "cell_type": "markdown",
      "metadata": {
        "id": "view-in-github",
        "colab_type": "text"
      },
      "source": [
        "<a href=\"https://colab.research.google.com/github/Jun-629/20MA573/blob/master/Copy_of_20fd2.ipynb\" target=\"_parent\"><img src=\"https://colab.research.google.com/assets/colab-badge.svg\" alt=\"Open In Colab\"/></a>"
      ]
    },
    {
      "cell_type": "markdown",
      "metadata": {
        "id": "wKZEeDlVsvjo",
        "colab_type": "text"
      },
      "source": [
        "# Abstract\n",
        "- Goal:\n",
        "    - Learn the second order derivative approximation: second order central finite difference\n",
        "    - Understand convergence rate\n"
      ]
    },
    {
      "cell_type": "markdown",
      "metadata": {
        "id": "hziIUZf-svjr",
        "colab_type": "text"
      },
      "source": [
        "# Problem \n",
        "\n",
        "Let $f(x) = \\sin x$. Plot $f''$ and $\\delta_{-h} \\delta_h f$ with $h = .5$"
      ]
    },
    {
      "cell_type": "markdown",
      "metadata": {
        "id": "PqO-V9IYsvjt",
        "colab_type": "text"
      },
      "source": [
        "# Anal\n",
        "\n",
        "\n",
        "One of the commonly used FD for $f''$ is the following:\n",
        "$$f''(x) = \\frac{d}{dx} f'(x) \\simeq \\delta_h f'(x) \\simeq \\delta_h \\delta_{-h} f(x).$$\n",
        "If we write it explicitly, then\n",
        "$$f''(x) \\simeq \\frac{f(x+h) - 2 f(x) + f(x-h)}{h^2}.$$"
      ]
    },
    {
      "cell_type": "markdown",
      "metadata": {
        "id": "gseFArcUsvju",
        "colab_type": "text"
      },
      "source": [
        "__Prop__\n",
        "\n",
        "The central finite difference for the second order has convergence order $1$.\n",
        "\n",
        "__Proof__ \n",
        "\n",
        "\\begin{equation}\n",
        "\\begin{aligned}\n",
        "|\\frac{f(x+h) - 2 f(x) + f(x-h)}{h^2} - f''(x)| &= |\\frac{[f(x+h) - f(x)] - [f(x) - f(x-h)]}{h^2} - f''(x)|\\\\ \n",
        "&= |\\frac{[f'(x) \\cdot h + f''(x) \\cdot \\frac{h^2}{2} + O(h^3)] - [f'(x) \\cdot h - f''(x) \\cdot \\frac{h^2}{2} + O(h^3)]}{h^2} - f''(x)| \\\\\n",
        "&= |f''(x) + O(h) - f''(x)| \\\\\n",
        "&= O(h)\n",
        "\\end{aligned}\n",
        "\\end{equation}\n",
        "Q.E.D\n"
      ]
    },
    {
      "cell_type": "markdown",
      "metadata": {
        "id": "WILyGzXwsvjw",
        "colab_type": "text"
      },
      "source": [
        "# Code"
      ]
    },
    {
      "cell_type": "code",
      "metadata": {
        "id": "L78VcouYsvjx",
        "colab_type": "code",
        "colab": {}
      },
      "source": [
        "import numpy as np\n",
        "import matplotlib.pyplot as plt"
      ],
      "execution_count": 0,
      "outputs": []
    },
    {
      "cell_type": "code",
      "metadata": {
        "id": "LQBbuIUssvj5",
        "colab_type": "code",
        "colab": {}
      },
      "source": [
        "def sfd(f, x, h):\n",
        "    # your input here;\n",
        "    return (f(x+h) - 2*f(x) + f(x-h))/h/h\n"
      ],
      "execution_count": 0,
      "outputs": []
    },
    {
      "cell_type": "code",
      "metadata": {
        "id": "KuvP1Bwasvj-",
        "colab_type": "code",
        "outputId": "d3fa22a8-5a62-44d8-f8fb-d1310e5e9037",
        "colab": {
          "base_uri": "https://localhost:8080/",
          "height": 265
        }
      },
      "source": [
        "'''\n",
        "Remove all #s below to plot a figure:\n",
        "    x_cod: points at which the derivative to be computed\n",
        "    y_cod: estimated derivative by finite difference\n",
        "    numpy.linspace(start, stop, num=50, endpoint=True, retstep=False, dtype=None)\n",
        "    https://blog.csdn.net/you_are_my_dream/article/details/53493752\n",
        "'''\n",
        "\n",
        "h = .5 #step size\n",
        "\n",
        "x_co = np.linspace(0, 2*np.pi, 100)\n",
        "plt.plot(x_co, - np.sin(x_co), label = '$-sin(x)$');\n",
        "plt.plot(x_co, sfd(np.sin, x_co, h), label = 'sfd');\n",
        "plt.legend();"
      ],
      "execution_count": 0,
      "outputs": [
        {
          "output_type": "display_data",
          "data": {
            "image/png": "[encoded data removed]",
            "text/plain": [
              "<Figure size 432x288 with 1 Axes>"
            ]
          },
          "metadata": {
            "tags": []
          }
        }
      ]
    },
    {
      "cell_type": "markdown",
      "metadata": {
        "id": "-pK5qw2isvkF",
        "colab_type": "text"
      },
      "source": [
        "plot log-log chart for the demonstration of convergence rate, find convergence order using linear regression."
      ]
    },
    {
      "cell_type": "code",
      "metadata": {
        "id": "eH6vM51bsvkI",
        "colab_type": "code",
        "outputId": "4fabccf3-07b3-4264-e1a0-93dd84b5a27e",
        "colab": {
          "base_uri": "https://localhost:8080/",
          "height": 265
        }
      },
      "source": [
        "#your input here\n",
        "import math\n",
        "h = .5 #step size\n",
        "\n",
        "x_co = np.linspace(0.1, 4*np.pi, 1000)\n",
        "y1 = - np.sin(x_co)\n",
        "y2 = sfd(np.sin, x_co, h)\n",
        "#y = abs(y1 - y2)\n",
        "y0 = [math.log(a) for a in abs(y1 - y2)]\n",
        "#y = y1-y2\n",
        "#y = [i / h for i in y0]\n",
        "plt.plot(x_co, y , label = '$-log(x)$');\n"
      ],
      "execution_count": 0,
      "outputs": [
        {
          "output_type": "display_data",
          "data": {
            "image/png": "[encoded data removed]",
            "text/plain": [
              "<Figure size 432x288 with 1 Axes>"
            ]
          },
          "metadata": {
            "tags": []
          }
        }
      ]
    }
  ]
}