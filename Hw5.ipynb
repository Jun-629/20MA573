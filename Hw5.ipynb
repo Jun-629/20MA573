{
  "nbformat": 4,
  "nbformat_minor": 0,
  "metadata": {
    "colab": {
      "name": "Untitled5.ipynb",
      "provenance": [],
      "authorship_tag": "ABX9TyPDPaIbRmKEgNck4nqARoZQ",
      "include_colab_link": true
    },
    "kernelspec": {
      "name": "python3",
      "display_name": "Python 3"
    }
  },
  "cells": [
    {
      "cell_type": "markdown",
      "metadata": {
        "id": "view-in-github",
        "colab_type": "text"
      },
      "source": [
        "<a href=\"https://colab.research.google.com/github/Jun-629/20MA573/blob/master/Hw5.ipynb\" target=\"_parent\"><img src=\"https://colab.research.google.com/assets/colab-badge.svg\" alt=\"Open In Colab\"/></a>"
      ]
    },
    {
      "cell_type": "markdown",
      "metadata": {
        "id": "jq8N_MYe_3FV",
        "colab_type": "text"
      },
      "source": [
        "# Example 1 \n",
        "- Using *Algo 1*, design estimator $\\hat \\pi(N)$ and compute $\\hat \\pi(10000)$"
      ]
    },
    {
      "cell_type": "code",
      "metadata": {
        "id": "CmebCCgQ2TRj",
        "colab_type": "code",
        "colab": {
          "base_uri": "https://localhost:8080/",
          "height": 34
        },
        "outputId": "5a490328-582a-4a12-dd69-414b33650dd6"
      },
      "source": [
        "import numpy as np\n",
        "\n",
        "def mcpi(N):\n",
        "  n = 0\n",
        "  for i in range(N):\n",
        "    x = np.random.uniform(-1,1)\n",
        "    y = np.random.uniform(-1,1)\n",
        "    if (x**2 + y**2 < 1):\n",
        "      n += 1\n",
        "  return 4*n/N\n",
        "\n",
        "mcpi(10000)\n",
        "\n"
      ],
      "execution_count": 7,
      "outputs": [
        {
          "output_type": "execute_result",
          "data": {
            "text/plain": [
              "3.15"
            ]
          },
          "metadata": {
            "tags": []
          },
          "execution_count": 7
        }
      ]
    },
    {
      "cell_type": "markdown",
      "metadata": {
        "id": "jgO00xcsBWQ3",
        "colab_type": "text"
      },
      "source": [
        "# Example 3\n",
        "Given i.i.d $\\{\\alpha_i : i \\in 1, 2, ..., N\\}$, we use\n",
        "$$\\bar \\alpha_N = \\frac{1}{N} \\sum_{i=1}^N \\alpha_i$$\n",
        "as its estimator of the mean $\\mathbb E[\\alpha_1]$ and use\n",
        "$$\\beta_N = \\frac{1}{N} \\sum_{i=1}^N (\\alpha_i - \\bar \\alpha_N)^2$$\n",
        "as the estimator of $Var(\\alpha_1)$. Suppose $\\alpha_1 \\in L^4$, then \n",
        "- Prove $\\beta_N$ is biased. \n",
        "- Prove that $\\beta_N$ is consistent in $L^2$. \n",
        "- Can you propose an unbiased estimator? \n"
      ]
    },
    {
      "cell_type": "markdown",
      "metadata": {
        "id": "QJRfPPYRHJ9X",
        "colab_type": "text"
      },
      "source": [
        ""
      ]
    },
    {
      "cell_type": "code",
      "metadata": {
        "id": "3LGTVjC92YPW",
        "colab_type": "code",
        "colab": {
          "base_uri": "https://localhost:8080/",
          "height": 34
        },
        "outputId": "e4add85c-0f51-4cd8-dc2c-530e05974bdd"
      },
      "source": [
        "import numpy as np\n",
        "\n",
        "x = np.random.uniform(-1,1)\n",
        "print(x)"
      ],
      "execution_count": 8,
      "outputs": [
        {
          "output_type": "stream",
          "text": [
            "-0.35171705098602746\n"
          ],
          "name": "stdout"
        }
      ]
    }
  ]
}