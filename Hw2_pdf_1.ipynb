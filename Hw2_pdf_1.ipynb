{
  "nbformat": 4,
  "nbformat_minor": 0,
  "metadata": {
    "colab": {
      "name": "Hw2_pdf.ipynb",
      "provenance": [],
      "authorship_tag": "ABX9TyPCj0MHm52HmE22scSC7vEC",
      "include_colab_link": true
    },
    "kernelspec": {
      "name": "python3",
      "display_name": "Python 3"
    }
  },
  "cells": [
    {
      "cell_type": "markdown",
      "metadata": {
        "id": "view-in-github",
        "colab_type": "text"
      },
      "source": [
        "<a href=\"https://colab.research.google.com/github/Jun-629/20MA573/blob/master/Hw2_pdf_1.ipynb\" target=\"_parent\"><img src=\"https://colab.research.google.com/assets/colab-badge.svg\" alt=\"Open In Colab\"/></a>"
      ]
    },
    {
      "cell_type": "markdown",
      "metadata": {
        "id": "KthKzVDZU5Q_",
        "colab_type": "text"
      },
      "source": [
        "__Problem 1__\n",
        "\n",
        "__Proof:__\n",
        "By Taylor's Formula, we have\n",
        "\n",
        "\\begin{equation}\n",
        "\\begin{aligned}\n",
        "f(x + 2h) &= f(x) + f'(x) \\cdot 2h + f''(x) \\cdot \\frac{(2h)^2}{2} + f'''(x) \\cdot \\frac{(2h)^3}{6} + f^{(4)}(x) \\cdot \\frac{(2h)^4}{24} + O(h^5) \\\\\n",
        "&= f(x) + f'(x) \\cdot 2h + f''(x) \\cdot 2h^2 + f'''(x) \\cdot \\frac{4h^3}{3} + f^{(4)}(x) \\cdot \\frac{2h^4}{3} + O(h^5) \\\\\n",
        "f(x + h) &= f(x) + f'(x) \\cdot h + f''(x) \\cdot \\frac{h^2}{2} + f'''(x) \\cdot \\frac{h^3}{6} + f^{(4)}(x) \\cdot \\frac{h^4}{24} + O(h^5) \\\\\n",
        "f(x - h) &= f(x) - f'(x) \\cdot h + f''(x) \\cdot \\frac{h^2}{2} - f'''(x) \\cdot \\frac{h^3}{6} + f^{(4)}(x) \\cdot \\frac{h^4}{24} + O(h^5) \\\\\n",
        "f(x - 2h) &= f(x) - f'(x) \\cdot 2h + f''(x) \\cdot 2h^2 - f'''(x) \\cdot \\frac{4h^3}{3} + f^{(4)}(x) \\cdot \\frac{2h^4}{3} + O(h^5) \\\\\n",
        "\\end{aligned}\n",
        "\\end{equation}\n",
        "\n",
        "To approximate the ﬁrst derivative $u'(x)$ of a very smooth function with an error of only $O(h^4)$, we need to show that there exist a linear combination of $f(x + 2h),f(x + h),f(x - h),f(x - 2h)$, which eliminates the terms: $f''(x),f'''(x),f^{(4)}(x)$ as well as making the coefficient of the term: $f'(x)$ equals to $1$.\n",
        "\n",
        "Thus we need to solve the following quaternion equations:\n",
        "\n",
        "\\begin{equation}  \n",
        "\\left\\{\n",
        "  \\begin{array}{**lr**}  \n",
        "  a - b + 2c - 2d = 1, \\\\  \n",
        "  \\frac{1}{2}a + \\frac{1}{2}b + 2c + 2d = 0, \\\\  \n",
        "  \\frac{1}{6}a - \\frac{1}{6}b + \\frac{4}{3}c - \\frac{4}{3}d = 0, \\\\\n",
        "  \\frac{1}{24}a + \\frac{1}{24}b + \\frac{2}{3}c + \\frac{2}{3}d = 0   .\n",
        "  \\end{array}  \n",
        "\\right.\n",
        "\\end{equation} \n",
        "\n",
        "After calculation, we have :\n",
        "$$[a,b,c,d] = [\\frac{2}{3},-\\frac{2}{3},-\\frac{1}{12},\\frac{1}{12}]$$\n",
        "Thus, we have:\n",
        "\\begin{eqnarray}\n",
        "|\\frac{2}{3}f(x + h) - \\frac{2}{3}f(x - h) - \\frac{1}{12}f(x + 2h) + \\frac{1}{12}f(x - 2h)| = f'(x) \\cdot h + O(h^5) \\\\\n",
        "|\\frac{\\frac{2}{3}f(x + h) - \\frac{2}{3}f(x - h) - \\frac{1}{12}f(x + 2h) + \\frac{1}{12}f(x - 2h) - f'(x)}{h}| = O(h^4) \\\\\n",
        "\\end{eqnarray}\n",
        "\n",
        "\n",
        "\n",
        " \n"
      ]
    },
    {
      "cell_type": "code",
      "metadata": {
        "id": "oOecdXKwnBC8",
        "colab_type": "code",
        "outputId": "5a943102-dbcd-478b-f19f-5dda45696a74",
        "colab": {
          "base_uri": "https://localhost:8080/",
          "height": 34
        }
      },
      "source": [
        "import numpy as np\n",
        "from scipy.linalg import solve\n",
        "a = np.array([[1,-1,2,-2],[1/2,1/2,2,2],[1/6,-1/6,4/3,-4/3],[1/24,1/24,2/3,2/3]])\n",
        "b = np.array([1,0,0,0])\n",
        "x = solve(a, b)\n",
        "print(x)\n"
      ],
      "execution_count": 0,
      "outputs": [
        {
          "output_type": "stream",
          "text": [
            "[ 0.66666667 -0.66666667 -0.08333333  0.08333333]\n"
          ],
          "name": "stdout"
        }
      ]
    },
    {
      "cell_type": "markdown",
      "metadata": {
        "id": "mpnEiwZ8mCLO",
        "colab_type": "text"
      },
      "source": [
        "__Problem 2__\n",
        "\n",
        "- __Pf:__\n",
        "Since $f(x)$ is a smooth even function, we have $$f(x) = f(-x).$$\n",
        "\n",
        "Then we have $$f'(x) = f'(-x) = (-x)' \\cdot f'(-x) = -f'(-x),$$\n",
        "\n",
        "thus $$f'(x) + f'(-x) = 0,$$\n",
        "\n",
        "when $x = 0,$ we have $$f'(0) = 0.$$\n",
        "\n",
        "__Q.E.D__\n",
        "\n",
        "- __Pf:__\n",
        "As similar to the previous proof, we have $f'''(x) = 0,$\n",
        "\n",
        "By Taylor's Formula, we have \n",
        "\\begin{equation}\n",
        "\\begin{split}\n",
        "f(h) &= f(0) + f'(0) \\cdot h + f''(0) \\cdot \\frac{h^2}{2} + f'''(0) \\cdot \\frac{h^3}{6} + O(h^4) \\\\\n",
        "&= f''(0) \\cdot \\frac{h^2}{2} + O(h^4). \\\\\n",
        "\\end{split}\n",
        "\\end{equation}\n",
        "Thus, we will have $$|a_h - f''(0)| = |\\frac{2f(h)}{h^2} - f''(0)| = O(h^2).$$\n",
        "__Q.E.D__\n",
        "\n",
        "- __Soln:__\n",
        "As similar to the previous proof, we have $f^{(5)}(x) = 0,$\n",
        "\n",
        "By Taylor's Formula, we have \n",
        "\\begin{equation}\n",
        "\\begin{split}\n",
        "f(h) &= f''(0) \\cdot \\frac{h^2}{2} + f^{(4)} \\cdot \\frac{h^4}{24} + O(h^6). \\\\\n",
        "f(2h) &= f''(0) \\cdot \\frac{(2h)^2}{2} + f^{(4)} \\cdot \\frac{(2h)^4}{24} + O(h^6) \\\\\n",
        "&= f''(0) \\cdot 2h^2 + f^{(4)} \\cdot \\frac{2h^4}{3} + O(h^6). \\\\\n",
        "\\end{split}\n",
        "\\end{equation}\n",
        "\n",
        "To let $$|b_h - f''(x)| = |\\frac{c_1 \\cdot f(h) + c_2 \\cdot f(2h)}{h^2} - f''(x)| = O(h^2),$$\n",
        "\n",
        "we have the following binary linear equations：\n",
        "\n",
        "\\begin{equation}  \n",
        "\\left\\{\n",
        "  \\begin{array}{**lr**}  \n",
        "  \\frac{c_1}{2} +2c_2 = 1, \\\\\n",
        "  \\frac{c_1}{24} + \\frac{2}{3}c_2 = 0   .\n",
        "  \\end{array}  \n",
        "\\right.\n",
        "\\end{equation} \n",
        "\n",
        "thus $c_1 = \\frac{8}{3}, c_2 = -\\frac{1}{6}$.\n",
        "\n",
        "- __Soln:__\n"
      ]
    },
    {
      "cell_type": "code",
      "metadata": {
        "id": "6M4ZRBhjY8Wi",
        "colab_type": "code",
        "outputId": "42b8137a-58d8-4c3e-e240-dcd260d7a32f",
        "colab": {
          "base_uri": "https://localhost:8080/",
          "height": 34
        }
      },
      "source": [
        "import numpy as np\n",
        "from scipy.linalg import solve\n",
        "a = np.array([[1/2,2],[1/24,2/3]])\n",
        "b = np.array([1,0])\n",
        "x = solve(a, b)\n",
        "print(x)"
      ],
      "execution_count": 0,
      "outputs": [
        {
          "output_type": "stream",
          "text": [
            "[ 2.66666667 -0.16666667]\n"
          ],
          "name": "stdout"
        }
      ]
    }
  ]
}