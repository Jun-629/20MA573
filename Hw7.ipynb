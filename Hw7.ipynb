{
  "nbformat": 4,
  "nbformat_minor": 0,
  "metadata": {
    "colab": {
      "name": "Hw7.ipynb",
      "provenance": [],
      "authorship_tag": "ABX9TyMHdV3zw6KfCcwALnopOheb",
      "include_colab_link": true
    },
    "kernelspec": {
      "name": "python3",
      "display_name": "Python 3"
    }
  },
  "cells": [
    {
      "cell_type": "markdown",
      "metadata": {
        "id": "view-in-github",
        "colab_type": "text"
      },
      "source": [
        "<a href=\"https://colab.research.google.com/github/Jun-629/20MA573/blob/master/Hw7.ipynb\" target=\"_parent\"><img src=\"https://colab.research.google.com/assets/colab-badge.svg\" alt=\"Open In Colab\"/></a>"
      ]
    },
    {
      "cell_type": "code",
      "metadata": {
        "id": "QKIP2WPq0Fgs",
        "colab_type": "code",
        "colab": {}
      },
      "source": [
        "import numpy as np\n",
        "\n",
        "def mu(x):\n",
        "  mu = 0.03 * x\n",
        "  return mu\n",
        "\n",
        "def sigma(x):\n",
        "  sigma = 0.2 * x**1\n",
        "  return sigma\n",
        "\n",
        "def euler(x,T,N):\n",
        "  delta = T/N\n",
        "  t = np.linspace(0, T, N+1)\n",
        "  x_delta = []\n",
        "  x_delta.append(x)\n",
        "  for i in range(N):\n",
        "    Z = np.random.normal(0,1)\n",
        "    x_delta.append(x_delta[i] + mu(x) * delta + sigma(x) * np.sqrt(delta) * Z)\n",
        "  return x_delta\n",
        "\n",
        "euler(100,1,1000)[1000]\n"
      ],
      "execution_count": 0,
      "outputs": []
    }
  ]
}