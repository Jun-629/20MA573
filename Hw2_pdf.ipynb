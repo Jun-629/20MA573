{
  "nbformat": 4,
  "nbformat_minor": 0,
  "metadata": {
    "colab": {
      "name": "Hw2_pdf.ipynb",
      "provenance": [],
      "authorship_tag": "ABX9TyMa3zkk/xbYEZzZXymlBjH6",
      "include_colab_link": true
    },
    "kernelspec": {
      "name": "python3",
      "display_name": "Python 3"
    }
  },
  "cells": [
    {
      "cell_type": "markdown",
      "metadata": {
        "id": "view-in-github",
        "colab_type": "text"
      },
      "source": [
        "<a href=\"https://colab.research.google.com/github/Jun-629/20MA573/blob/master/Hw2_pdf.ipynb\" target=\"_parent\"><img src=\"https://colab.research.google.com/assets/colab-badge.svg\" alt=\"Open In Colab\"/></a>"
      ]
    },
    {
      "cell_type": "markdown",
      "metadata": {
        "id": "KthKzVDZU5Q_",
        "colab_type": "text"
      },
      "source": [
        "Problem 1\n",
        "\n",
        "__Proof:__\n",
        "By Taylor's Formula, we have\n",
        "\\begin{equation}\n",
        "\\begin{aligned}\n",
        "f(x + 2h) &= f(x) + f'(x) \\cdot 2h + f''(x) \\cdot \\frac{(2h)^2}{2} + f'''(x) \\cdot \\frac{(2h)^3}{6} + f^4(x) \\cdot \\frac{(2h)^4}{24} + O(h^5) \\\\\n",
        "&= f(x) + f'(x) \\cdot 2h + f''(x) \\cdot 2h^2 + f'''(x) \\cdot \\frac{4h^3}{3} + f^4(x) \\cdot \\frac{2h^4}{3} + O(h^5) \\\\\n",
        "f(x + h) &= f(x) + f'(x) \\cdot h + f''(x) \\cdot \\frac{h^2}{2} + f'''(x) \\cdot \\frac{h^3}{6} + f^4(x) \\cdot \\frac{h^4}{24} + O(h^5) \\\\\n",
        "f(x - h) &= f(x) - f'(x) \\cdot h + f''(x) \\cdot \\frac{h^2}{2} - f'''(x) \\cdot \\frac{h^3}{6} + f^4(x) \\cdot \\frac{h^4}{24} + O(h^5) \\\\\n",
        "f(x - 2h) &= f(x) - f'(x) \\cdot 2h + f''(x) \\cdot 2h^2 - f'''(x) \\cdot \\frac{4h^3}{3} + f^4(x) \\cdot \\frac{2h^4}{3} + O(h^5) \\\\\n",
        "\\end{aligned}\n",
        "\\end{equation}\n",
        "\n",
        "To approximate the ﬁrst derivative $u'(x)$ of a very smooth function with an error of only $O(h^4)$, we need to show that there exist a linear combination of $f(x + 2h),f(x + h),f(x - h),f(x - 2h)$, which eliminates the terms: $f''(x),f'''(x),f^4(x)$ as well as making the coefficient of the term: $f'(x)$ equals to $1$.\n",
        "\n",
        "Thus we need to solve the following quaternion equations:\n",
        "\\begin{equation}  \n",
        "\\left\\{  \n",
        "             \\begin{array}{**lr**}  \n",
        "             a - b + 2c - 2d = 1, \\\\  \n",
        "             \\frac{1}{2}a + \\frac{1}{2}b + 2c + 2d = 0, \\\\  \n",
        "             \\frac{1}{6}a - \\frac{1}{6}b + \\frac{4}{3}c - \\frac{4}{3}d = 0, \\\\\n",
        "             \\frac{1}{24}a + \\frac{1}{24}b + \\frac{2}{3}c + \\frac{2}{3}d = 0   .\n",
        "             \\end{array}  \n",
        "\\right.  \n",
        "\\end{equation} \n",
        "\n",
        "After calculation, we have :\n",
        "$$[a,b,c,d] = [\\frac{2}{3},-\\frac{2}{3},-\\frac{1}{12},\\frac{1}{12}]$$\n",
        "Thus, we have:\n",
        "\\begin{eqnarray}\n",
        "|\\frac{2}{3}f(x + h) - \\frac{2}{3}f(x - h) - \\frac{1}{12}f(x + 2h) + \\frac{1}{12}f(x - 2h)| = f'(x) \\cdot h + O(h^5) \\\\\n",
        "|\\frac{\\frac{2}{3}f(x + h) - \\frac{2}{3}f(x - h) - \\frac{1}{12}f(x + 2h) + \\frac{1}{12}f(x - 2h) - f'(x)}{h}| = O(h^4) \\\\\n",
        "\\end{eqnarray}\n",
        "\n",
        "\n",
        "\n",
        " \n"
      ]
    },
    {
      "cell_type": "code",
      "metadata": {
        "id": "oOecdXKwnBC8",
        "colab_type": "code",
        "outputId": "5a943102-dbcd-478b-f19f-5dda45696a74",
        "colab": {
          "base_uri": "https://localhost:8080/",
          "height": 34
        }
      },
      "source": [
        "import numpy as np\n",
        "from scipy.linalg import solve\n",
        "a = np.array([[1,-1,2,-2],[1/2,1/2,2,2],[1/6,-1/6,4/3,-4/3],[1/24,1/24,2/3,2/3]])\n",
        "b = np.array([1,0,0,0])\n",
        "x = solve(a, b)\n",
        "print(x)\n"
      ],
      "execution_count": 0,
      "outputs": [
        {
          "output_type": "stream",
          "text": [
            "[ 0.66666667 -0.66666667 -0.08333333  0.08333333]\n"
          ],
          "name": "stdout"
        }
      ]
    }
  ]
}