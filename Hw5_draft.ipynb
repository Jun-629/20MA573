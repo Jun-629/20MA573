{
  "nbformat": 4,
  "nbformat_minor": 0,
  "metadata": {
    "colab": {
      "name": "Hw5 draft.ipynb",
      "provenance": [],
      "authorship_tag": "ABX9TyNIyG2Rd2OibE6lLYDCBHRL",
      "include_colab_link": true
    },
    "kernelspec": {
      "name": "python3",
      "display_name": "Python 3"
    }
  },
  "cells": [
    {
      "cell_type": "markdown",
      "metadata": {
        "id": "view-in-github",
        "colab_type": "text"
      },
      "source": [
        "<a href=\"https://colab.research.google.com/github/Jun-629/20MA573/blob/master/Hw5_draft.ipynb\" target=\"_parent\"><img src=\"https://colab.research.google.com/assets/colab-badge.svg\" alt=\"Open In Colab\"/></a>"
      ]
    },
    {
      "cell_type": "markdown",
      "metadata": {
        "id": "jq8N_MYe_3FV",
        "colab_type": "text"
      },
      "source": [
        "# Example 1 \n",
        "- Using *Algo 1*, design estimator $\\hat \\pi(N)$ and compute $\\hat \\pi(10000)$"
      ]
    },
    {
      "cell_type": "code",
      "metadata": {
        "id": "CmebCCgQ2TRj",
        "colab_type": "code",
        "outputId": "2f1b1f23-8c95-4141-eea0-e7cd2a037668",
        "colab": {
          "base_uri": "https://localhost:8080/",
          "height": 34
        }
      },
      "source": [
        "import numpy as np\n",
        "\n",
        "def mcpi(N):\n",
        "  n = 0\n",
        "  for i in range(N):\n",
        "    x = np.random.uniform(-1,1)\n",
        "    y = np.random.uniform(-1,1)\n",
        "    if (x**2 + y**2 < 1):\n",
        "      n += 1\n",
        "  return 4*n/N\n",
        "\n",
        "mcpi(10000)"
      ],
      "execution_count": 0,
      "outputs": [
        {
          "output_type": "execute_result",
          "data": {
            "text/plain": [
              "3.1588"
            ]
          },
          "metadata": {
            "tags": []
          },
          "execution_count": 41
        }
      ]
    },
    {
      "cell_type": "markdown",
      "metadata": {
        "id": "jgO00xcsBWQ3",
        "colab_type": "text"
      },
      "source": [
        "# Example 3\n",
        "Given i.i.d $\\{\\alpha_i : i \\in 1, 2, ..., N\\}$, we use\n",
        "$$\\bar \\alpha_N = \\frac{1}{N} \\sum_{i=1}^N \\alpha_i$$\n",
        "as its estimator of the mean $\\mathbb E[\\alpha_1]$ and use\n",
        "$$\\beta_N = \\frac{1}{N} \\sum_{i=1}^N (\\alpha_i - \\bar \\alpha_N)^2$$\n",
        "as the estimator of $Var(\\alpha_1)$. Suppose $\\alpha_1 \\in L^4$, then \n",
        "- Prove $\\beta_N$ is biased. \n",
        "- Prove that $\\beta_N$ is consistent in $L^2$. \n",
        "- Can you propose an unbiased estimator? \n"
      ]
    },
    {
      "cell_type": "markdown",
      "metadata": {
        "id": "QJRfPPYRHJ9X",
        "colab_type": "text"
      },
      "source": [
        "__Proof:__\n",
        "- To prove $\\beta_N$ is biased, need to show that $\\mathbb E[\\beta_N] - Var(\\alpha_1)$ does not equal to 0.\n",
        "\n",
        "Because $\\{\\alpha_i\\}_{i\\in\\mathbb{N}}$ is i.i.d., we can deduce that \n",
        "\n",
        "\\begin{equation}\n",
        "\\begin{aligned}\n",
        "\\mathbb E[\\bar \\alpha_N] &= \\mathbb E[\\frac{1}{N} \\sum_{i=1}^N \\alpha_i] \\\\\n",
        "&= \\frac{1}{N} \\sum_{i=1}^N \\mathbb E[\\alpha_i] \\\\\n",
        "&= \\frac{1}{N} \\cdot N \\cdot \\mathbb E[\\alpha_1] \\\\\n",
        "&= \\mathbb E[\\alpha_1], \\\\\n",
        "Var(\\bar \\alpha_N) &= Var(\\frac{1}{N} \\sum_{i=1}^N \\alpha_i) \\\\\n",
        "&= \\frac{1}{N^2} \\sum_{i=1}^N Var(\\alpha_i) \\\\\n",
        "&= \\frac{1}{N^2} \\cdot N \\cdot Var(\\alpha_1) \\\\\n",
        "&= \\frac{1}{N} Var(\\alpha_1)\\\\\n",
        "\\mathbb E[\\bar \\alpha_N^2] &= Var(\\bar \\alpha_N) + \\mathbb E[\\bar \\alpha_N]^2 \\\\\n",
        "&= \\frac{1}{N} Var(\\alpha_1) + \\mathbb E[\\alpha_1]^2 \\\\\n",
        "\\mathbb E[\\alpha_1^2] &= \\mathbb E[\\alpha_1]^2 + Var(\\alpha_1)\n",
        "\\end{aligned}\n",
        "\\end{equation}\n",
        "\n",
        "Now observing $Bias(\\beta_N)$, we have \n",
        "\n",
        "\\begin{equation}\n",
        "\\begin{aligned}\n",
        "Bias(\\beta_N) &= \\mathbb E[\\beta_N] - Var(\\alpha_1) \\\\\n",
        "&= \\mathbb E[\\frac{1}{N} \\sum_{i=1}^N (\\alpha_i - \\bar \\alpha_N)^2] - Var(\\alpha_1) \\\\\n",
        "&= \\frac{1}{N} \\mathbb E[\\sum_{i=1}^N (\\alpha_i^2- 2 \\alpha_i \\bar \\alpha_N + \\bar \\alpha_N^2)] - Var(\\alpha_1) \\\\\n",
        "&= \\frac{1}{N} \\mathbb E[\\sum_{i=1}^N \\alpha_i^2 - 2N \\cdot \\bar \\alpha_N^2 + N \\cdot \\bar \\alpha_N^2] - Var(\\alpha_1) \\\\\n",
        "&= \\frac{1}{N} \\sum_{i=1}^N \\mathbb E[\\alpha_i^2] - \\frac{1}{N}\\mathbb E[N \\cdot \\bar \\alpha_N^2] - Var(\\alpha_1) \\\\\n",
        "&= \\mathbb E[\\alpha_1^2] - \\mathbb E[\\bar \\alpha_N^2]- Var(\\alpha_1) \\\\\n",
        "&= - \\frac{1}{N} Var(\\alpha_1) \\neq 0.\\\\\n",
        "\\end{aligned}\n",
        "\\end{equation}\n",
        "\n",
        "Therefore, $\\beta_N$ is biased.\n",
        "\n",
        "- \n",
        "\n",
        "- The unbiased estimator:\n",
        "$$\\hat \\beta_N = \\frac{1}{N-1} \\sum_{i=1}^N (\\alpha_i - \\bar \\alpha_N)^2$$\n",
        "\n",
        "\\begin{equation}\n",
        "\\begin{aligned}\n",
        "Bias(\\hat \\beta_N) &= \\mathbb E[\\hat \\beta_N] - Var(\\alpha_1) \\\\\n",
        "&= \\frac{1}{N-1} \\sum_{i=1}^N \\mathbb E[\\alpha_i^2] - \\frac{1}{N-1}\\mathbb E[N \\cdot \\bar \\alpha_N^2] - Var(\\alpha_1) \\\\\n",
        "&= \\frac{N}{N-1} \\bigg (\\mathbb E[\\alpha_1^2] - \\mathbb E[\\bar \\alpha_N^2] \\bigg )- Var(\\alpha_1) \\\\\n",
        "&= Var(\\alpha_1) - Var(\\alpha_1) = 0.\\\\\n",
        "\\end{aligned}\n",
        "\\end{equation}\n",
        "which shows that $\\hat \\beta_N$ is unbiased estimator.\n",
        "\n",
        "__Q.E.D.__"
      ]
    },
    {
      "cell_type": "code",
      "metadata": {
        "id": "3LGTVjC92YPW",
        "colab_type": "code",
        "outputId": "7a6f792e-6b76-4545-f921-e52d1b5148c9",
        "colab": {
          "base_uri": "https://localhost:8080/",
          "height": 34
        }
      },
      "source": [
        "import numpy as np\n",
        "\n",
        "def mcpi(N):\n",
        "  n = 0\n",
        "  for i in range(N):\n",
        "    x = np.random.uniform(-1,1)\n",
        "    y = np.random.uniform(-1,1)\n",
        "    if (x**2 + y**2 < 1):\n",
        "      n += 1\n",
        "  return 4*n/N\n",
        "\n",
        "mcpi(10000)"
      ],
      "execution_count": 0,
      "outputs": [
        {
          "output_type": "execute_result",
          "data": {
            "text/plain": [
              "3.1476"
            ]
          },
          "metadata": {
            "tags": []
          },
          "execution_count": 55
        }
      ]
    },
    {
      "cell_type": "code",
      "metadata": {
        "colab_type": "code",
        "id": "NGkQZVsppfx8",
        "colab": {}
      },
      "source": [
        "def indi_func(a,sign1,b,sign2,x):       # sign1 and sign 2 mean whether we can take the endpoint respectively\n",
        "  if (sign1 == 0):                      # 0 means that endpoint is not included\n",
        "    if (sign2 == 0):\n",
        "      if (a<x<b):\n",
        "        f = 1\n",
        "      else:\n",
        "        f = 0\n",
        "    elif (sign2 == 1):                  # 1 means that endpoint is included\n",
        "      if (a<x<=b):\n",
        "        f = 1\n",
        "      else:\n",
        "        f = 0\n",
        "  elif (sign1 == 1):\n",
        "    if (sign2 == 0):\n",
        "      if (a<=x<b):\n",
        "        f = 1\n",
        "      else:\n",
        "        f = 0\n",
        "    elif (sign2 == 1):\n",
        "      if (a<=x<=b):\n",
        "        f = 1\n",
        "      else:\n",
        "        f = 0\n",
        "  return f"
      ],
      "execution_count": 0,
      "outputs": []
    },
    {
      "cell_type": "code",
      "metadata": {
        "id": "oeVE-Iu3jh2R",
        "colab_type": "code",
        "outputId": "3195246c-4e35-4b95-b41e-b973db68dd9b",
        "colab": {
          "base_uri": "https://localhost:8080/",
          "height": 34
        }
      },
      "source": [
        "def mcintegral(N):\n",
        "  s = 0\n",
        "  for i in range(N):\n",
        "    y = np.random.uniform(0,1)\n",
        "    h = 100 * indi_func(0,0,0.01,1,y) + indi_func(0.01,0,1,0,y)\n",
        "    s += h \n",
        "  return s/N\n",
        "\n",
        "mcintegral(100000000)\n"
      ],
      "execution_count": 0,
      "outputs": [
        {
          "output_type": "execute_result",
          "data": {
            "text/plain": [
              "1.99009702"
            ]
          },
          "metadata": {
            "tags": []
          },
          "execution_count": 31
        }
      ]
    },
    {
      "cell_type": "code",
      "metadata": {
        "id": "ER9io7uMmwH1",
        "colab_type": "code",
        "outputId": "bc7de90d-f0f1-49ed-9b01-b87c60240b6b",
        "colab": {
          "base_uri": "https://localhost:8080/",
          "height": 34
        }
      },
      "source": [
        "def beta(N):\n",
        "  n = 0\n",
        "  m = 0\n",
        "  pi_list = []\n",
        "  for i in range(N):\n",
        "    pi_list.append(mcpi(10000))\n",
        "    n += pi_list[i]\n",
        "  pi_bar = n/N \n",
        "  for i in range(N):\n",
        "    m += (pi_list[i] - pi_bar)**2\n",
        "  beta = m/N\n",
        "  return beta\n",
        "\n",
        "beta(100)"
      ],
      "execution_count": 0,
      "outputs": [
        {
          "output_type": "execute_result",
          "data": {
            "text/plain": [
              "0.0002559067359999999"
            ]
          },
          "metadata": {
            "tags": []
          },
          "execution_count": 61
        }
      ]
    }
  ]
}